{
  "cells": [
    {
      "cell_type": "markdown",
      "metadata": {
        "id": "view-in-github",
        "colab_type": "text"
      },
      "source": [
        "<a href=\"https://colab.research.google.com/github/CloaizaF/Trabajo_TAE_1/blob/main/Trabajo_TAE_1.ipynb\" target=\"_parent\"><img src=\"https://colab.research.google.com/assets/colab-badge.svg\" alt=\"Open In Colab\"/></a>"
      ]
    },
    {
      "cell_type": "markdown",
      "metadata": {
        "id": "2qHk64VlHprs"
      },
      "source": [
        "#Predicción de la satisfacción de niños y abuelos según la composición de su hogar y otros determinantes"
      ]
    },
    {
      "cell_type": "markdown",
      "metadata": {
        "id": "KUgSHoT4H5oY"
      },
      "source": [
        "Objetivo:\n",
        "Desarrollar y productizar un modelo predictivo para predecir el nivel de satisfacción de niños y de abuelos de acuerdo a la composición del hogar y otros determinantes.\n",
        "\n",
        "Descripción\n",
        "El insumo principal de este trabajo son los datos de la Encuesta de Calidad de Vida del DANE. Esta encuesta recoge información de los hogares de Colombia y permite estudiar su composición, sus condiciones socioeconómicas, de satisfacción con la vida, etc.\n",
        "\n",
        "Para este trabajo la variable a predecir es el nivel de satisfacción con la vida y se enfocará en dos tipos de sujetos: niños y abuelos. Ambas definiciones deberán especificarse en el trabajo. Es posible que los analistas decidan que para tener un buen modelo es necesario tener subgrupos y uno o varios modelos para cada grupo. La creación de las variables explicativas es parte del trabajo."
      ]
    },
    {
      "cell_type": "markdown",
      "metadata": {
        "id": "d4Dr8PdYIcZz"
      },
      "source": [
        "## Importación de librerías"
      ]
    },
    {
      "cell_type": "code",
      "execution_count": null,
      "metadata": {
        "colab": {
          "base_uri": "https://localhost:8080/"
        },
        "id": "ib9xfkaeHo16",
        "outputId": "1db4d5a6-f764-4ccc-f67a-40ae93fd3165"
      },
      "outputs": [
        {
          "output_type": "stream",
          "name": "stdout",
          "text": [
            "Requirement already satisfied: joblib in /usr/local/lib/python3.7/dist-packages (1.1.0)\n",
            "Requirement already satisfied: matplotlib in /usr/local/lib/python3.7/dist-packages (3.5.1)\n",
            "Requirement already satisfied: cycler>=0.10 in /usr/local/lib/python3.7/dist-packages (from matplotlib) (0.11.0)\n",
            "Requirement already satisfied: packaging>=20.0 in /usr/local/lib/python3.7/dist-packages (from matplotlib) (21.3)\n",
            "Requirement already satisfied: numpy>=1.17 in /usr/local/lib/python3.7/dist-packages (from matplotlib) (1.21.6)\n",
            "Requirement already satisfied: pyparsing>=2.2.1 in /usr/local/lib/python3.7/dist-packages (from matplotlib) (3.0.8)\n",
            "Requirement already satisfied: fonttools>=4.22.0 in /usr/local/lib/python3.7/dist-packages (from matplotlib) (4.33.3)\n",
            "Requirement already satisfied: kiwisolver>=1.0.1 in /usr/local/lib/python3.7/dist-packages (from matplotlib) (1.4.2)\n",
            "Requirement already satisfied: pillow>=6.2.0 in /usr/local/lib/python3.7/dist-packages (from matplotlib) (7.1.2)\n",
            "Requirement already satisfied: python-dateutil>=2.7 in /usr/local/lib/python3.7/dist-packages (from matplotlib) (2.8.2)\n",
            "Requirement already satisfied: typing-extensions in /usr/local/lib/python3.7/dist-packages (from kiwisolver>=1.0.1->matplotlib) (4.2.0)\n",
            "Requirement already satisfied: six>=1.5 in /usr/local/lib/python3.7/dist-packages (from python-dateutil>=2.7->matplotlib) (1.15.0)\n"
          ]
        }
      ],
      "source": [
        "!pip install -U -q PyDrive\n",
        "!pip install joblib\n",
        "!pip install -U matplotlib\n",
        "\n",
        "import pandas as pd\n",
        "import numpy as np\n",
        "import seaborn as sb\n",
        "import matplotlib.pyplot as plt\n",
        "\n",
        "from pydrive.auth import GoogleAuth\n",
        "from pydrive.drive import GoogleDrive\n",
        "from google.colab import auth\n",
        "from oauth2client.client import GoogleCredentials\n",
        "\n",
        "from pandas import errors\n",
        "from os import error\n",
        "import joblib\n",
        "\n",
        "from sklearn.model_selection import train_test_split\n",
        "from sklearn import linear_model\n",
        "from sklearn.metrics import mean_squared_error, r2_score, confusion_matrix\n",
        "from math import sqrt\n",
        " \n"
      ]
    },
    {
      "cell_type": "code",
      "source": [
        "# Authenticate and create the PyDrive client\n",
        "auth.authenticate_user()\n",
        "gauth = GoogleAuth()\n",
        "gauth.credentials = GoogleCredentials.get_application_default()\n",
        "drive = GoogleDrive(gauth)"
      ],
      "metadata": {
        "id": "NWO3dWsp5Lzf"
      },
      "execution_count": null,
      "outputs": []
    },
    {
      "cell_type": "markdown",
      "metadata": {
        "id": "rws0gb0bMC3K"
      },
      "source": [
        "##Lectura de datos"
      ]
    },
    {
      "cell_type": "code",
      "execution_count": null,
      "metadata": {
        "colab": {
          "base_uri": "https://localhost:8080/"
        },
        "id": "wUwCT-UuJi6u",
        "outputId": "adc1ea01-dd19-433b-9834-0aec108e0040"
      },
      "outputs": [
        {
          "output_type": "stream",
          "name": "stderr",
          "text": [
            "/usr/local/lib/python3.7/dist-packages/IPython/core/interactiveshell.py:2882: DtypeWarning: Columns (29) have mixed types.Specify dtype option on import or set low_memory=False.\n",
            "  exec(code_obj, self.user_global_ns, self.user_ns)\n"
          ]
        }
      ],
      "source": [
        "#Path to the table 'Caracteristicas y composicion del hogar'\n",
        "home_composition_path = 'https://drive.google.com/file/d/1YO2dMEpEunsIcIC4xW24YADZc-SwIe1_/view'\n",
        "#Path to the table 'Condiciones de vida del hogar y tenencia de bienes programas'\n",
        "home_life_conditions_path = 'https://drive.google.com/file/d/1m84CPMj1yf7KNSU2t-E30oo5ZX6a7WVF/view'\n",
        "#Path to the table 'Servicios del hogar'\n",
        "home_services_path = 'https://drive.google.com/file/d/15vyyW3PiJfbMkJ2VEMEdSmAZ80Hd9KCB/view'\n",
        "\n",
        "#Read the information from the table 'Caracteristicas y composicion del hogar'\n",
        "id1 = home_composition_path.split(\"/\")[-2]\n",
        "downloaded = drive.CreateFile({'id' : id1})\n",
        "downloaded.GetContentFile('xclara.csv') \n",
        "home_composition_df = pd.read_csv('xclara.csv', sep = \";\")\n",
        "\n",
        "#Read the information from the table 'Condiciones de vida del hogar y tenencia de bienes programas'\n",
        "id2 = home_life_conditions_path.split(\"/\")[-2]\n",
        "downloaded = drive.CreateFile({'id' : id2})\n",
        "downloaded.GetContentFile('xclara1.csv') \n",
        "home_life_conditions_df = pd.read_csv('xclara1.csv', sep = \";\")\n",
        "\n",
        "#Read the information from the table 'Servicios del hogar'\n",
        "id3 = home_services_path.split(\"/\")[-2]\n",
        "downloaded = drive.CreateFile({'id' : id3})\n",
        "downloaded.GetContentFile('xclara2.csv') \n",
        "home_services_df = pd.read_csv('xclara2.csv', sep = \";\")"
      ]
    },
    {
      "cell_type": "code",
      "execution_count": null,
      "metadata": {
        "colab": {
          "base_uri": "https://localhost:8080/",
          "height": 270
        },
        "id": "ZyCHLf8zLSgA",
        "outputId": "2b4eb5cf-e6db-434d-99c7-06b72ea6945d"
      },
      "outputs": [
        {
          "output_type": "execute_result",
          "data": {
            "text/plain": [
              "   DIRECTORIO  SECUENCIA_ENCUESTA  SECUENCIA_P  ORDEN             FEX_C  \\\n",
              "0     7247300                   1            1      1  513,690888685872   \n",
              "1     7247300                   2            1      2  513,690888685872   \n",
              "2     7247300                   3            1      3  513,690888685872   \n",
              "3     7247301                   1            1      1  482,968200558387   \n",
              "4     7247301                   2            1      2  482,968200558387   \n",
              "\n",
              "   P6016  P1894  P6020  P6034  P6040  P6051 P5502 P6071 P6071S1  P756  \n",
              "0      1      3      2      1     71      1     2     1       2     2  \n",
              "1      2      3      1      1     67      2     2     1       1     1  \n",
              "2      3      3      1      1     64      7     4                   1  \n",
              "3      1      3      1      1     84      1     6     1       2     2  \n",
              "4      2      3      2      1     76      2     6     1       1     2  "
            ],
            "text/html": [
              "\n",
              "  <div id=\"df-52887ea9-46fc-4733-bcdd-da54dc8c94cc\">\n",
              "    <div class=\"colab-df-container\">\n",
              "      <div>\n",
              "<style scoped>\n",
              "    .dataframe tbody tr th:only-of-type {\n",
              "        vertical-align: middle;\n",
              "    }\n",
              "\n",
              "    .dataframe tbody tr th {\n",
              "        vertical-align: top;\n",
              "    }\n",
              "\n",
              "    .dataframe thead th {\n",
              "        text-align: right;\n",
              "    }\n",
              "</style>\n",
              "<table border=\"1\" class=\"dataframe\">\n",
              "  <thead>\n",
              "    <tr style=\"text-align: right;\">\n",
              "      <th></th>\n",
              "      <th>DIRECTORIO</th>\n",
              "      <th>SECUENCIA_ENCUESTA</th>\n",
              "      <th>SECUENCIA_P</th>\n",
              "      <th>ORDEN</th>\n",
              "      <th>FEX_C</th>\n",
              "      <th>P6016</th>\n",
              "      <th>P1894</th>\n",
              "      <th>P6020</th>\n",
              "      <th>P6034</th>\n",
              "      <th>P6040</th>\n",
              "      <th>P6051</th>\n",
              "      <th>P5502</th>\n",
              "      <th>P6071</th>\n",
              "      <th>P6071S1</th>\n",
              "      <th>P756</th>\n",
              "    </tr>\n",
              "  </thead>\n",
              "  <tbody>\n",
              "    <tr>\n",
              "      <th>0</th>\n",
              "      <td>7247300</td>\n",
              "      <td>1</td>\n",
              "      <td>1</td>\n",
              "      <td>1</td>\n",
              "      <td>513,690888685872</td>\n",
              "      <td>1</td>\n",
              "      <td>3</td>\n",
              "      <td>2</td>\n",
              "      <td>1</td>\n",
              "      <td>71</td>\n",
              "      <td>1</td>\n",
              "      <td>2</td>\n",
              "      <td>1</td>\n",
              "      <td>2</td>\n",
              "      <td>2</td>\n",
              "    </tr>\n",
              "    <tr>\n",
              "      <th>1</th>\n",
              "      <td>7247300</td>\n",
              "      <td>2</td>\n",
              "      <td>1</td>\n",
              "      <td>2</td>\n",
              "      <td>513,690888685872</td>\n",
              "      <td>2</td>\n",
              "      <td>3</td>\n",
              "      <td>1</td>\n",
              "      <td>1</td>\n",
              "      <td>67</td>\n",
              "      <td>2</td>\n",
              "      <td>2</td>\n",
              "      <td>1</td>\n",
              "      <td>1</td>\n",
              "      <td>1</td>\n",
              "    </tr>\n",
              "    <tr>\n",
              "      <th>2</th>\n",
              "      <td>7247300</td>\n",
              "      <td>3</td>\n",
              "      <td>1</td>\n",
              "      <td>3</td>\n",
              "      <td>513,690888685872</td>\n",
              "      <td>3</td>\n",
              "      <td>3</td>\n",
              "      <td>1</td>\n",
              "      <td>1</td>\n",
              "      <td>64</td>\n",
              "      <td>7</td>\n",
              "      <td>4</td>\n",
              "      <td></td>\n",
              "      <td></td>\n",
              "      <td>1</td>\n",
              "    </tr>\n",
              "    <tr>\n",
              "      <th>3</th>\n",
              "      <td>7247301</td>\n",
              "      <td>1</td>\n",
              "      <td>1</td>\n",
              "      <td>1</td>\n",
              "      <td>482,968200558387</td>\n",
              "      <td>1</td>\n",
              "      <td>3</td>\n",
              "      <td>1</td>\n",
              "      <td>1</td>\n",
              "      <td>84</td>\n",
              "      <td>1</td>\n",
              "      <td>6</td>\n",
              "      <td>1</td>\n",
              "      <td>2</td>\n",
              "      <td>2</td>\n",
              "    </tr>\n",
              "    <tr>\n",
              "      <th>4</th>\n",
              "      <td>7247301</td>\n",
              "      <td>2</td>\n",
              "      <td>1</td>\n",
              "      <td>2</td>\n",
              "      <td>482,968200558387</td>\n",
              "      <td>2</td>\n",
              "      <td>3</td>\n",
              "      <td>2</td>\n",
              "      <td>1</td>\n",
              "      <td>76</td>\n",
              "      <td>2</td>\n",
              "      <td>6</td>\n",
              "      <td>1</td>\n",
              "      <td>1</td>\n",
              "      <td>2</td>\n",
              "    </tr>\n",
              "  </tbody>\n",
              "</table>\n",
              "</div>\n",
              "      <button class=\"colab-df-convert\" onclick=\"convertToInteractive('df-52887ea9-46fc-4733-bcdd-da54dc8c94cc')\"\n",
              "              title=\"Convert this dataframe to an interactive table.\"\n",
              "              style=\"display:none;\">\n",
              "        \n",
              "  <svg xmlns=\"http://www.w3.org/2000/svg\" height=\"24px\"viewBox=\"0 0 24 24\"\n",
              "       width=\"24px\">\n",
              "    <path d=\"M0 0h24v24H0V0z\" fill=\"none\"/>\n",
              "    <path d=\"M18.56 5.44l.94 2.06.94-2.06 2.06-.94-2.06-.94-.94-2.06-.94 2.06-2.06.94zm-11 1L8.5 8.5l.94-2.06 2.06-.94-2.06-.94L8.5 2.5l-.94 2.06-2.06.94zm10 10l.94 2.06.94-2.06 2.06-.94-2.06-.94-.94-2.06-.94 2.06-2.06.94z\"/><path d=\"M17.41 7.96l-1.37-1.37c-.4-.4-.92-.59-1.43-.59-.52 0-1.04.2-1.43.59L10.3 9.45l-7.72 7.72c-.78.78-.78 2.05 0 2.83L4 21.41c.39.39.9.59 1.41.59.51 0 1.02-.2 1.41-.59l7.78-7.78 2.81-2.81c.8-.78.8-2.07 0-2.86zM5.41 20L4 18.59l7.72-7.72 1.47 1.35L5.41 20z\"/>\n",
              "  </svg>\n",
              "      </button>\n",
              "      \n",
              "  <style>\n",
              "    .colab-df-container {\n",
              "      display:flex;\n",
              "      flex-wrap:wrap;\n",
              "      gap: 12px;\n",
              "    }\n",
              "\n",
              "    .colab-df-convert {\n",
              "      background-color: #E8F0FE;\n",
              "      border: none;\n",
              "      border-radius: 50%;\n",
              "      cursor: pointer;\n",
              "      display: none;\n",
              "      fill: #1967D2;\n",
              "      height: 32px;\n",
              "      padding: 0 0 0 0;\n",
              "      width: 32px;\n",
              "    }\n",
              "\n",
              "    .colab-df-convert:hover {\n",
              "      background-color: #E2EBFA;\n",
              "      box-shadow: 0px 1px 2px rgba(60, 64, 67, 0.3), 0px 1px 3px 1px rgba(60, 64, 67, 0.15);\n",
              "      fill: #174EA6;\n",
              "    }\n",
              "\n",
              "    [theme=dark] .colab-df-convert {\n",
              "      background-color: #3B4455;\n",
              "      fill: #D2E3FC;\n",
              "    }\n",
              "\n",
              "    [theme=dark] .colab-df-convert:hover {\n",
              "      background-color: #434B5C;\n",
              "      box-shadow: 0px 1px 3px 1px rgba(0, 0, 0, 0.15);\n",
              "      filter: drop-shadow(0px 1px 2px rgba(0, 0, 0, 0.3));\n",
              "      fill: #FFFFFF;\n",
              "    }\n",
              "  </style>\n",
              "\n",
              "      <script>\n",
              "        const buttonEl =\n",
              "          document.querySelector('#df-52887ea9-46fc-4733-bcdd-da54dc8c94cc button.colab-df-convert');\n",
              "        buttonEl.style.display =\n",
              "          google.colab.kernel.accessAllowed ? 'block' : 'none';\n",
              "\n",
              "        async function convertToInteractive(key) {\n",
              "          const element = document.querySelector('#df-52887ea9-46fc-4733-bcdd-da54dc8c94cc');\n",
              "          const dataTable =\n",
              "            await google.colab.kernel.invokeFunction('convertToInteractive',\n",
              "                                                     [key], {});\n",
              "          if (!dataTable) return;\n",
              "\n",
              "          const docLinkHtml = 'Like what you see? Visit the ' +\n",
              "            '<a target=\"_blank\" href=https://colab.research.google.com/notebooks/data_table.ipynb>data table notebook</a>'\n",
              "            + ' to learn more about interactive tables.';\n",
              "          element.innerHTML = '';\n",
              "          dataTable['output_type'] = 'display_data';\n",
              "          await google.colab.output.renderOutput(dataTable, element);\n",
              "          const docLink = document.createElement('div');\n",
              "          docLink.innerHTML = docLinkHtml;\n",
              "          element.appendChild(docLink);\n",
              "        }\n",
              "      </script>\n",
              "    </div>\n",
              "  </div>\n",
              "  "
            ]
          },
          "metadata": {},
          "execution_count": 4
        }
      ],
      "source": [
        "#Check some of the information in the table 'Caracteristicas y composicion del hogar'\n",
        "demonstration_df = home_composition_df[home_composition_df.columns[0:15]]\n",
        "demonstration_df.head()"
      ]
    },
    {
      "cell_type": "code",
      "execution_count": null,
      "metadata": {
        "colab": {
          "base_uri": "https://localhost:8080/",
          "height": 270
        },
        "id": "bRf6UADrMz0-",
        "outputId": "7e707096-c4cd-4c51-900f-214b151ed720"
      },
      "outputs": [
        {
          "output_type": "execute_result",
          "data": {
            "text/plain": [
              "   DIRECTORIO  SECUENCIA_ENCUESTA  SECUENCIA_P  ORDEN             FEX_C  \\\n",
              "0     7247300                   1            1      1  513,690888685872   \n",
              "1     7247301                   1            1      1  482,968200558387   \n",
              "2     7247302                   1            1      1  488,435003344741   \n",
              "3     7247303                   1            1      1  537,650078997481   \n",
              "4     7247304                   1            1      1  438,176736860409   \n",
              "\n",
              "   P1079  P9010 P9025  P9025S1  P9025S2  P9030  P9040  P9050  P5230  P9090  \n",
              "0      1      1              2        2      3      2      3      2      1  \n",
              "1      1      1              2        2      2      1      1      1      3  \n",
              "2      2      1              2        2      2      3      3      2      2  \n",
              "3      1      1              2        2      2      1      1      1      2  \n",
              "4      2      1              2        2      2      1      1      2      2  "
            ],
            "text/html": [
              "\n",
              "  <div id=\"df-51bcffe9-7f7b-4f70-9525-c5fe6274e4bd\">\n",
              "    <div class=\"colab-df-container\">\n",
              "      <div>\n",
              "<style scoped>\n",
              "    .dataframe tbody tr th:only-of-type {\n",
              "        vertical-align: middle;\n",
              "    }\n",
              "\n",
              "    .dataframe tbody tr th {\n",
              "        vertical-align: top;\n",
              "    }\n",
              "\n",
              "    .dataframe thead th {\n",
              "        text-align: right;\n",
              "    }\n",
              "</style>\n",
              "<table border=\"1\" class=\"dataframe\">\n",
              "  <thead>\n",
              "    <tr style=\"text-align: right;\">\n",
              "      <th></th>\n",
              "      <th>DIRECTORIO</th>\n",
              "      <th>SECUENCIA_ENCUESTA</th>\n",
              "      <th>SECUENCIA_P</th>\n",
              "      <th>ORDEN</th>\n",
              "      <th>FEX_C</th>\n",
              "      <th>P1079</th>\n",
              "      <th>P9010</th>\n",
              "      <th>P9025</th>\n",
              "      <th>P9025S1</th>\n",
              "      <th>P9025S2</th>\n",
              "      <th>P9030</th>\n",
              "      <th>P9040</th>\n",
              "      <th>P9050</th>\n",
              "      <th>P5230</th>\n",
              "      <th>P9090</th>\n",
              "    </tr>\n",
              "  </thead>\n",
              "  <tbody>\n",
              "    <tr>\n",
              "      <th>0</th>\n",
              "      <td>7247300</td>\n",
              "      <td>1</td>\n",
              "      <td>1</td>\n",
              "      <td>1</td>\n",
              "      <td>513,690888685872</td>\n",
              "      <td>1</td>\n",
              "      <td>1</td>\n",
              "      <td></td>\n",
              "      <td>2</td>\n",
              "      <td>2</td>\n",
              "      <td>3</td>\n",
              "      <td>2</td>\n",
              "      <td>3</td>\n",
              "      <td>2</td>\n",
              "      <td>1</td>\n",
              "    </tr>\n",
              "    <tr>\n",
              "      <th>1</th>\n",
              "      <td>7247301</td>\n",
              "      <td>1</td>\n",
              "      <td>1</td>\n",
              "      <td>1</td>\n",
              "      <td>482,968200558387</td>\n",
              "      <td>1</td>\n",
              "      <td>1</td>\n",
              "      <td></td>\n",
              "      <td>2</td>\n",
              "      <td>2</td>\n",
              "      <td>2</td>\n",
              "      <td>1</td>\n",
              "      <td>1</td>\n",
              "      <td>1</td>\n",
              "      <td>3</td>\n",
              "    </tr>\n",
              "    <tr>\n",
              "      <th>2</th>\n",
              "      <td>7247302</td>\n",
              "      <td>1</td>\n",
              "      <td>1</td>\n",
              "      <td>1</td>\n",
              "      <td>488,435003344741</td>\n",
              "      <td>2</td>\n",
              "      <td>1</td>\n",
              "      <td></td>\n",
              "      <td>2</td>\n",
              "      <td>2</td>\n",
              "      <td>2</td>\n",
              "      <td>3</td>\n",
              "      <td>3</td>\n",
              "      <td>2</td>\n",
              "      <td>2</td>\n",
              "    </tr>\n",
              "    <tr>\n",
              "      <th>3</th>\n",
              "      <td>7247303</td>\n",
              "      <td>1</td>\n",
              "      <td>1</td>\n",
              "      <td>1</td>\n",
              "      <td>537,650078997481</td>\n",
              "      <td>1</td>\n",
              "      <td>1</td>\n",
              "      <td></td>\n",
              "      <td>2</td>\n",
              "      <td>2</td>\n",
              "      <td>2</td>\n",
              "      <td>1</td>\n",
              "      <td>1</td>\n",
              "      <td>1</td>\n",
              "      <td>2</td>\n",
              "    </tr>\n",
              "    <tr>\n",
              "      <th>4</th>\n",
              "      <td>7247304</td>\n",
              "      <td>1</td>\n",
              "      <td>1</td>\n",
              "      <td>1</td>\n",
              "      <td>438,176736860409</td>\n",
              "      <td>2</td>\n",
              "      <td>1</td>\n",
              "      <td></td>\n",
              "      <td>2</td>\n",
              "      <td>2</td>\n",
              "      <td>2</td>\n",
              "      <td>1</td>\n",
              "      <td>1</td>\n",
              "      <td>2</td>\n",
              "      <td>2</td>\n",
              "    </tr>\n",
              "  </tbody>\n",
              "</table>\n",
              "</div>\n",
              "      <button class=\"colab-df-convert\" onclick=\"convertToInteractive('df-51bcffe9-7f7b-4f70-9525-c5fe6274e4bd')\"\n",
              "              title=\"Convert this dataframe to an interactive table.\"\n",
              "              style=\"display:none;\">\n",
              "        \n",
              "  <svg xmlns=\"http://www.w3.org/2000/svg\" height=\"24px\"viewBox=\"0 0 24 24\"\n",
              "       width=\"24px\">\n",
              "    <path d=\"M0 0h24v24H0V0z\" fill=\"none\"/>\n",
              "    <path d=\"M18.56 5.44l.94 2.06.94-2.06 2.06-.94-2.06-.94-.94-2.06-.94 2.06-2.06.94zm-11 1L8.5 8.5l.94-2.06 2.06-.94-2.06-.94L8.5 2.5l-.94 2.06-2.06.94zm10 10l.94 2.06.94-2.06 2.06-.94-2.06-.94-.94-2.06-.94 2.06-2.06.94z\"/><path d=\"M17.41 7.96l-1.37-1.37c-.4-.4-.92-.59-1.43-.59-.52 0-1.04.2-1.43.59L10.3 9.45l-7.72 7.72c-.78.78-.78 2.05 0 2.83L4 21.41c.39.39.9.59 1.41.59.51 0 1.02-.2 1.41-.59l7.78-7.78 2.81-2.81c.8-.78.8-2.07 0-2.86zM5.41 20L4 18.59l7.72-7.72 1.47 1.35L5.41 20z\"/>\n",
              "  </svg>\n",
              "      </button>\n",
              "      \n",
              "  <style>\n",
              "    .colab-df-container {\n",
              "      display:flex;\n",
              "      flex-wrap:wrap;\n",
              "      gap: 12px;\n",
              "    }\n",
              "\n",
              "    .colab-df-convert {\n",
              "      background-color: #E8F0FE;\n",
              "      border: none;\n",
              "      border-radius: 50%;\n",
              "      cursor: pointer;\n",
              "      display: none;\n",
              "      fill: #1967D2;\n",
              "      height: 32px;\n",
              "      padding: 0 0 0 0;\n",
              "      width: 32px;\n",
              "    }\n",
              "\n",
              "    .colab-df-convert:hover {\n",
              "      background-color: #E2EBFA;\n",
              "      box-shadow: 0px 1px 2px rgba(60, 64, 67, 0.3), 0px 1px 3px 1px rgba(60, 64, 67, 0.15);\n",
              "      fill: #174EA6;\n",
              "    }\n",
              "\n",
              "    [theme=dark] .colab-df-convert {\n",
              "      background-color: #3B4455;\n",
              "      fill: #D2E3FC;\n",
              "    }\n",
              "\n",
              "    [theme=dark] .colab-df-convert:hover {\n",
              "      background-color: #434B5C;\n",
              "      box-shadow: 0px 1px 3px 1px rgba(0, 0, 0, 0.15);\n",
              "      filter: drop-shadow(0px 1px 2px rgba(0, 0, 0, 0.3));\n",
              "      fill: #FFFFFF;\n",
              "    }\n",
              "  </style>\n",
              "\n",
              "      <script>\n",
              "        const buttonEl =\n",
              "          document.querySelector('#df-51bcffe9-7f7b-4f70-9525-c5fe6274e4bd button.colab-df-convert');\n",
              "        buttonEl.style.display =\n",
              "          google.colab.kernel.accessAllowed ? 'block' : 'none';\n",
              "\n",
              "        async function convertToInteractive(key) {\n",
              "          const element = document.querySelector('#df-51bcffe9-7f7b-4f70-9525-c5fe6274e4bd');\n",
              "          const dataTable =\n",
              "            await google.colab.kernel.invokeFunction('convertToInteractive',\n",
              "                                                     [key], {});\n",
              "          if (!dataTable) return;\n",
              "\n",
              "          const docLinkHtml = 'Like what you see? Visit the ' +\n",
              "            '<a target=\"_blank\" href=https://colab.research.google.com/notebooks/data_table.ipynb>data table notebook</a>'\n",
              "            + ' to learn more about interactive tables.';\n",
              "          element.innerHTML = '';\n",
              "          dataTable['output_type'] = 'display_data';\n",
              "          await google.colab.output.renderOutput(dataTable, element);\n",
              "          const docLink = document.createElement('div');\n",
              "          docLink.innerHTML = docLinkHtml;\n",
              "          element.appendChild(docLink);\n",
              "        }\n",
              "      </script>\n",
              "    </div>\n",
              "  </div>\n",
              "  "
            ]
          },
          "metadata": {},
          "execution_count": 5
        }
      ],
      "source": [
        "##Check some of the information in the table 'Condiciones de vida del hogar y tenencia de bienes programas'\n",
        "demonstration1_df = home_life_conditions_df[home_life_conditions_df.columns[0:15]]\n",
        "demonstration1_df.head()"
      ]
    },
    {
      "cell_type": "code",
      "execution_count": null,
      "metadata": {
        "colab": {
          "base_uri": "https://localhost:8080/",
          "height": 270
        },
        "id": "klMdi4Uy9-LE",
        "outputId": "c46d80d3-4e43-406e-c789-33d38ae3a177"
      },
      "outputs": [
        {
          "output_type": "execute_result",
          "data": {
            "text/plain": [
              "   DIRECTORIO  SECUENCIA_ENCUESTA  SECUENCIA_P  ORDEN             FEX_C  \\\n",
              "0     7247300                   1            1      1  513,690888685872   \n",
              "1     7247301                   1            1      1  482,968200558387   \n",
              "2     7247302                   1            1      1  488,435003344741   \n",
              "3     7247303                   1            1      1  537,650078997481   \n",
              "4     7247304                   1            1      1  438,176736860409   \n",
              "\n",
              "   P5000  P5010  P3161  P791   P5018 P5018S1  P5666 P3162  P3163 P3163S1  \n",
              "0      4      2      2     1   70720       1      1     1  43000       1  \n",
              "1      2      1      1     1  102000       1      1     1  22000       1  \n",
              "2      4      3      3     1  150000       1      1     1  50000       1  \n",
              "3      2      2      2     1  145000       1      1     1  45000       1  \n",
              "4      2      2      2     1   83000       1      1     1  15000       1  "
            ],
            "text/html": [
              "\n",
              "  <div id=\"df-7a11adb7-c9f3-4030-a58d-0fbf1b39ea36\">\n",
              "    <div class=\"colab-df-container\">\n",
              "      <div>\n",
              "<style scoped>\n",
              "    .dataframe tbody tr th:only-of-type {\n",
              "        vertical-align: middle;\n",
              "    }\n",
              "\n",
              "    .dataframe tbody tr th {\n",
              "        vertical-align: top;\n",
              "    }\n",
              "\n",
              "    .dataframe thead th {\n",
              "        text-align: right;\n",
              "    }\n",
              "</style>\n",
              "<table border=\"1\" class=\"dataframe\">\n",
              "  <thead>\n",
              "    <tr style=\"text-align: right;\">\n",
              "      <th></th>\n",
              "      <th>DIRECTORIO</th>\n",
              "      <th>SECUENCIA_ENCUESTA</th>\n",
              "      <th>SECUENCIA_P</th>\n",
              "      <th>ORDEN</th>\n",
              "      <th>FEX_C</th>\n",
              "      <th>P5000</th>\n",
              "      <th>P5010</th>\n",
              "      <th>P3161</th>\n",
              "      <th>P791</th>\n",
              "      <th>P5018</th>\n",
              "      <th>P5018S1</th>\n",
              "      <th>P5666</th>\n",
              "      <th>P3162</th>\n",
              "      <th>P3163</th>\n",
              "      <th>P3163S1</th>\n",
              "    </tr>\n",
              "  </thead>\n",
              "  <tbody>\n",
              "    <tr>\n",
              "      <th>0</th>\n",
              "      <td>7247300</td>\n",
              "      <td>1</td>\n",
              "      <td>1</td>\n",
              "      <td>1</td>\n",
              "      <td>513,690888685872</td>\n",
              "      <td>4</td>\n",
              "      <td>2</td>\n",
              "      <td>2</td>\n",
              "      <td>1</td>\n",
              "      <td>70720</td>\n",
              "      <td>1</td>\n",
              "      <td>1</td>\n",
              "      <td>1</td>\n",
              "      <td>43000</td>\n",
              "      <td>1</td>\n",
              "    </tr>\n",
              "    <tr>\n",
              "      <th>1</th>\n",
              "      <td>7247301</td>\n",
              "      <td>1</td>\n",
              "      <td>1</td>\n",
              "      <td>1</td>\n",
              "      <td>482,968200558387</td>\n",
              "      <td>2</td>\n",
              "      <td>1</td>\n",
              "      <td>1</td>\n",
              "      <td>1</td>\n",
              "      <td>102000</td>\n",
              "      <td>1</td>\n",
              "      <td>1</td>\n",
              "      <td>1</td>\n",
              "      <td>22000</td>\n",
              "      <td>1</td>\n",
              "    </tr>\n",
              "    <tr>\n",
              "      <th>2</th>\n",
              "      <td>7247302</td>\n",
              "      <td>1</td>\n",
              "      <td>1</td>\n",
              "      <td>1</td>\n",
              "      <td>488,435003344741</td>\n",
              "      <td>4</td>\n",
              "      <td>3</td>\n",
              "      <td>3</td>\n",
              "      <td>1</td>\n",
              "      <td>150000</td>\n",
              "      <td>1</td>\n",
              "      <td>1</td>\n",
              "      <td>1</td>\n",
              "      <td>50000</td>\n",
              "      <td>1</td>\n",
              "    </tr>\n",
              "    <tr>\n",
              "      <th>3</th>\n",
              "      <td>7247303</td>\n",
              "      <td>1</td>\n",
              "      <td>1</td>\n",
              "      <td>1</td>\n",
              "      <td>537,650078997481</td>\n",
              "      <td>2</td>\n",
              "      <td>2</td>\n",
              "      <td>2</td>\n",
              "      <td>1</td>\n",
              "      <td>145000</td>\n",
              "      <td>1</td>\n",
              "      <td>1</td>\n",
              "      <td>1</td>\n",
              "      <td>45000</td>\n",
              "      <td>1</td>\n",
              "    </tr>\n",
              "    <tr>\n",
              "      <th>4</th>\n",
              "      <td>7247304</td>\n",
              "      <td>1</td>\n",
              "      <td>1</td>\n",
              "      <td>1</td>\n",
              "      <td>438,176736860409</td>\n",
              "      <td>2</td>\n",
              "      <td>2</td>\n",
              "      <td>2</td>\n",
              "      <td>1</td>\n",
              "      <td>83000</td>\n",
              "      <td>1</td>\n",
              "      <td>1</td>\n",
              "      <td>1</td>\n",
              "      <td>15000</td>\n",
              "      <td>1</td>\n",
              "    </tr>\n",
              "  </tbody>\n",
              "</table>\n",
              "</div>\n",
              "      <button class=\"colab-df-convert\" onclick=\"convertToInteractive('df-7a11adb7-c9f3-4030-a58d-0fbf1b39ea36')\"\n",
              "              title=\"Convert this dataframe to an interactive table.\"\n",
              "              style=\"display:none;\">\n",
              "        \n",
              "  <svg xmlns=\"http://www.w3.org/2000/svg\" height=\"24px\"viewBox=\"0 0 24 24\"\n",
              "       width=\"24px\">\n",
              "    <path d=\"M0 0h24v24H0V0z\" fill=\"none\"/>\n",
              "    <path d=\"M18.56 5.44l.94 2.06.94-2.06 2.06-.94-2.06-.94-.94-2.06-.94 2.06-2.06.94zm-11 1L8.5 8.5l.94-2.06 2.06-.94-2.06-.94L8.5 2.5l-.94 2.06-2.06.94zm10 10l.94 2.06.94-2.06 2.06-.94-2.06-.94-.94-2.06-.94 2.06-2.06.94z\"/><path d=\"M17.41 7.96l-1.37-1.37c-.4-.4-.92-.59-1.43-.59-.52 0-1.04.2-1.43.59L10.3 9.45l-7.72 7.72c-.78.78-.78 2.05 0 2.83L4 21.41c.39.39.9.59 1.41.59.51 0 1.02-.2 1.41-.59l7.78-7.78 2.81-2.81c.8-.78.8-2.07 0-2.86zM5.41 20L4 18.59l7.72-7.72 1.47 1.35L5.41 20z\"/>\n",
              "  </svg>\n",
              "      </button>\n",
              "      \n",
              "  <style>\n",
              "    .colab-df-container {\n",
              "      display:flex;\n",
              "      flex-wrap:wrap;\n",
              "      gap: 12px;\n",
              "    }\n",
              "\n",
              "    .colab-df-convert {\n",
              "      background-color: #E8F0FE;\n",
              "      border: none;\n",
              "      border-radius: 50%;\n",
              "      cursor: pointer;\n",
              "      display: none;\n",
              "      fill: #1967D2;\n",
              "      height: 32px;\n",
              "      padding: 0 0 0 0;\n",
              "      width: 32px;\n",
              "    }\n",
              "\n",
              "    .colab-df-convert:hover {\n",
              "      background-color: #E2EBFA;\n",
              "      box-shadow: 0px 1px 2px rgba(60, 64, 67, 0.3), 0px 1px 3px 1px rgba(60, 64, 67, 0.15);\n",
              "      fill: #174EA6;\n",
              "    }\n",
              "\n",
              "    [theme=dark] .colab-df-convert {\n",
              "      background-color: #3B4455;\n",
              "      fill: #D2E3FC;\n",
              "    }\n",
              "\n",
              "    [theme=dark] .colab-df-convert:hover {\n",
              "      background-color: #434B5C;\n",
              "      box-shadow: 0px 1px 3px 1px rgba(0, 0, 0, 0.15);\n",
              "      filter: drop-shadow(0px 1px 2px rgba(0, 0, 0, 0.3));\n",
              "      fill: #FFFFFF;\n",
              "    }\n",
              "  </style>\n",
              "\n",
              "      <script>\n",
              "        const buttonEl =\n",
              "          document.querySelector('#df-7a11adb7-c9f3-4030-a58d-0fbf1b39ea36 button.colab-df-convert');\n",
              "        buttonEl.style.display =\n",
              "          google.colab.kernel.accessAllowed ? 'block' : 'none';\n",
              "\n",
              "        async function convertToInteractive(key) {\n",
              "          const element = document.querySelector('#df-7a11adb7-c9f3-4030-a58d-0fbf1b39ea36');\n",
              "          const dataTable =\n",
              "            await google.colab.kernel.invokeFunction('convertToInteractive',\n",
              "                                                     [key], {});\n",
              "          if (!dataTable) return;\n",
              "\n",
              "          const docLinkHtml = 'Like what you see? Visit the ' +\n",
              "            '<a target=\"_blank\" href=https://colab.research.google.com/notebooks/data_table.ipynb>data table notebook</a>'\n",
              "            + ' to learn more about interactive tables.';\n",
              "          element.innerHTML = '';\n",
              "          dataTable['output_type'] = 'display_data';\n",
              "          await google.colab.output.renderOutput(dataTable, element);\n",
              "          const docLink = document.createElement('div');\n",
              "          docLink.innerHTML = docLinkHtml;\n",
              "          element.appendChild(docLink);\n",
              "        }\n",
              "      </script>\n",
              "    </div>\n",
              "  </div>\n",
              "  "
            ]
          },
          "metadata": {},
          "execution_count": 6
        }
      ],
      "source": [
        "##Check some of the information in the table 'Servicios del hogar'\n",
        "demonstration2_df = home_services_df[home_services_df.columns[0:15]]\n",
        "demonstration2_df.head()"
      ]
    },
    {
      "cell_type": "markdown",
      "source": [
        "##Preprocesamiento de datos"
      ],
      "metadata": {
        "id": "Gp52G3-a49j2"
      }
    },
    {
      "cell_type": "markdown",
      "source": [
        "###Preprocesamiento de datos para los abuelos"
      ],
      "metadata": {
        "id": "6tHf8C0tYqRR"
      }
    },
    {
      "cell_type": "code",
      "execution_count": null,
      "metadata": {
        "colab": {
          "base_uri": "https://localhost:8080/",
          "height": 531
        },
        "id": "Q8VHpRBwNg4W",
        "outputId": "7f85da4c-7f86-470f-bfcb-fec5fcee9c5c"
      },
      "outputs": [
        {
          "output_type": "stream",
          "name": "stderr",
          "text": [
            "/usr/local/lib/python3.7/dist-packages/pandas/core/frame.py:5047: SettingWithCopyWarning: \n",
            "A value is trying to be set on a copy of a slice from a DataFrame\n",
            "\n",
            "See the caveats in the documentation: https://pandas.pydata.org/pandas-docs/stable/user_guide/indexing.html#returning-a-view-versus-a-copy\n",
            "  errors=errors,\n"
          ]
        },
        {
          "output_type": "execute_result",
          "data": {
            "text/plain": [
              "        DIRECTORY  SEQ_SURVEY  SEQ_P  RELATIONSHIP\n",
              "0         7247300           1      1             1\n",
              "1         7247300           2      1             2\n",
              "2         7247300           3      1             7\n",
              "3         7247301           1      1             1\n",
              "4         7247301           2      1             2\n",
              "...           ...         ...    ...           ...\n",
              "267080    7407011           5      1             3\n",
              "267081    7407013           1      1             1\n",
              "267082    7407013           2      1             3\n",
              "267083    7407013           3      1             3\n",
              "267084    7407013           4      1             3\n",
              "\n",
              "[267085 rows x 4 columns]"
            ],
            "text/html": [
              "\n",
              "  <div id=\"df-58ee05cc-26db-410a-9166-b3fead059271\">\n",
              "    <div class=\"colab-df-container\">\n",
              "      <div>\n",
              "<style scoped>\n",
              "    .dataframe tbody tr th:only-of-type {\n",
              "        vertical-align: middle;\n",
              "    }\n",
              "\n",
              "    .dataframe tbody tr th {\n",
              "        vertical-align: top;\n",
              "    }\n",
              "\n",
              "    .dataframe thead th {\n",
              "        text-align: right;\n",
              "    }\n",
              "</style>\n",
              "<table border=\"1\" class=\"dataframe\">\n",
              "  <thead>\n",
              "    <tr style=\"text-align: right;\">\n",
              "      <th></th>\n",
              "      <th>DIRECTORY</th>\n",
              "      <th>SEQ_SURVEY</th>\n",
              "      <th>SEQ_P</th>\n",
              "      <th>RELATIONSHIP</th>\n",
              "    </tr>\n",
              "  </thead>\n",
              "  <tbody>\n",
              "    <tr>\n",
              "      <th>0</th>\n",
              "      <td>7247300</td>\n",
              "      <td>1</td>\n",
              "      <td>1</td>\n",
              "      <td>1</td>\n",
              "    </tr>\n",
              "    <tr>\n",
              "      <th>1</th>\n",
              "      <td>7247300</td>\n",
              "      <td>2</td>\n",
              "      <td>1</td>\n",
              "      <td>2</td>\n",
              "    </tr>\n",
              "    <tr>\n",
              "      <th>2</th>\n",
              "      <td>7247300</td>\n",
              "      <td>3</td>\n",
              "      <td>1</td>\n",
              "      <td>7</td>\n",
              "    </tr>\n",
              "    <tr>\n",
              "      <th>3</th>\n",
              "      <td>7247301</td>\n",
              "      <td>1</td>\n",
              "      <td>1</td>\n",
              "      <td>1</td>\n",
              "    </tr>\n",
              "    <tr>\n",
              "      <th>4</th>\n",
              "      <td>7247301</td>\n",
              "      <td>2</td>\n",
              "      <td>1</td>\n",
              "      <td>2</td>\n",
              "    </tr>\n",
              "    <tr>\n",
              "      <th>...</th>\n",
              "      <td>...</td>\n",
              "      <td>...</td>\n",
              "      <td>...</td>\n",
              "      <td>...</td>\n",
              "    </tr>\n",
              "    <tr>\n",
              "      <th>267080</th>\n",
              "      <td>7407011</td>\n",
              "      <td>5</td>\n",
              "      <td>1</td>\n",
              "      <td>3</td>\n",
              "    </tr>\n",
              "    <tr>\n",
              "      <th>267081</th>\n",
              "      <td>7407013</td>\n",
              "      <td>1</td>\n",
              "      <td>1</td>\n",
              "      <td>1</td>\n",
              "    </tr>\n",
              "    <tr>\n",
              "      <th>267082</th>\n",
              "      <td>7407013</td>\n",
              "      <td>2</td>\n",
              "      <td>1</td>\n",
              "      <td>3</td>\n",
              "    </tr>\n",
              "    <tr>\n",
              "      <th>267083</th>\n",
              "      <td>7407013</td>\n",
              "      <td>3</td>\n",
              "      <td>1</td>\n",
              "      <td>3</td>\n",
              "    </tr>\n",
              "    <tr>\n",
              "      <th>267084</th>\n",
              "      <td>7407013</td>\n",
              "      <td>4</td>\n",
              "      <td>1</td>\n",
              "      <td>3</td>\n",
              "    </tr>\n",
              "  </tbody>\n",
              "</table>\n",
              "<p>267085 rows × 4 columns</p>\n",
              "</div>\n",
              "      <button class=\"colab-df-convert\" onclick=\"convertToInteractive('df-58ee05cc-26db-410a-9166-b3fead059271')\"\n",
              "              title=\"Convert this dataframe to an interactive table.\"\n",
              "              style=\"display:none;\">\n",
              "        \n",
              "  <svg xmlns=\"http://www.w3.org/2000/svg\" height=\"24px\"viewBox=\"0 0 24 24\"\n",
              "       width=\"24px\">\n",
              "    <path d=\"M0 0h24v24H0V0z\" fill=\"none\"/>\n",
              "    <path d=\"M18.56 5.44l.94 2.06.94-2.06 2.06-.94-2.06-.94-.94-2.06-.94 2.06-2.06.94zm-11 1L8.5 8.5l.94-2.06 2.06-.94-2.06-.94L8.5 2.5l-.94 2.06-2.06.94zm10 10l.94 2.06.94-2.06 2.06-.94-2.06-.94-.94-2.06-.94 2.06-2.06.94z\"/><path d=\"M17.41 7.96l-1.37-1.37c-.4-.4-.92-.59-1.43-.59-.52 0-1.04.2-1.43.59L10.3 9.45l-7.72 7.72c-.78.78-.78 2.05 0 2.83L4 21.41c.39.39.9.59 1.41.59.51 0 1.02-.2 1.41-.59l7.78-7.78 2.81-2.81c.8-.78.8-2.07 0-2.86zM5.41 20L4 18.59l7.72-7.72 1.47 1.35L5.41 20z\"/>\n",
              "  </svg>\n",
              "      </button>\n",
              "      \n",
              "  <style>\n",
              "    .colab-df-container {\n",
              "      display:flex;\n",
              "      flex-wrap:wrap;\n",
              "      gap: 12px;\n",
              "    }\n",
              "\n",
              "    .colab-df-convert {\n",
              "      background-color: #E8F0FE;\n",
              "      border: none;\n",
              "      border-radius: 50%;\n",
              "      cursor: pointer;\n",
              "      display: none;\n",
              "      fill: #1967D2;\n",
              "      height: 32px;\n",
              "      padding: 0 0 0 0;\n",
              "      width: 32px;\n",
              "    }\n",
              "\n",
              "    .colab-df-convert:hover {\n",
              "      background-color: #E2EBFA;\n",
              "      box-shadow: 0px 1px 2px rgba(60, 64, 67, 0.3), 0px 1px 3px 1px rgba(60, 64, 67, 0.15);\n",
              "      fill: #174EA6;\n",
              "    }\n",
              "\n",
              "    [theme=dark] .colab-df-convert {\n",
              "      background-color: #3B4455;\n",
              "      fill: #D2E3FC;\n",
              "    }\n",
              "\n",
              "    [theme=dark] .colab-df-convert:hover {\n",
              "      background-color: #434B5C;\n",
              "      box-shadow: 0px 1px 3px 1px rgba(0, 0, 0, 0.15);\n",
              "      filter: drop-shadow(0px 1px 2px rgba(0, 0, 0, 0.3));\n",
              "      fill: #FFFFFF;\n",
              "    }\n",
              "  </style>\n",
              "\n",
              "      <script>\n",
              "        const buttonEl =\n",
              "          document.querySelector('#df-58ee05cc-26db-410a-9166-b3fead059271 button.colab-df-convert');\n",
              "        buttonEl.style.display =\n",
              "          google.colab.kernel.accessAllowed ? 'block' : 'none';\n",
              "\n",
              "        async function convertToInteractive(key) {\n",
              "          const element = document.querySelector('#df-58ee05cc-26db-410a-9166-b3fead059271');\n",
              "          const dataTable =\n",
              "            await google.colab.kernel.invokeFunction('convertToInteractive',\n",
              "                                                     [key], {});\n",
              "          if (!dataTable) return;\n",
              "\n",
              "          const docLinkHtml = 'Like what you see? Visit the ' +\n",
              "            '<a target=\"_blank\" href=https://colab.research.google.com/notebooks/data_table.ipynb>data table notebook</a>'\n",
              "            + ' to learn more about interactive tables.';\n",
              "          element.innerHTML = '';\n",
              "          dataTable['output_type'] = 'display_data';\n",
              "          await google.colab.output.renderOutput(dataTable, element);\n",
              "          const docLink = document.createElement('div');\n",
              "          docLink.innerHTML = docLinkHtml;\n",
              "          element.appendChild(docLink);\n",
              "        }\n",
              "      </script>\n",
              "    </div>\n",
              "  </div>\n",
              "  "
            ]
          },
          "metadata": {},
          "execution_count": 7
        }
      ],
      "source": [
        "#Extract the columns from the home_composition_df that will be used \n",
        "#for data treatment. The columns that will be used are: 'DIRECTORIO', \n",
        "#'SECUENCIA_ENCUESTA', 'SECUENCIA_P', \n",
        "#'P6051'(relationship with the head of the family)\n",
        "relationships_df = home_composition_df[[\"DIRECTORIO\", \"SECUENCIA_ENCUESTA\",\n",
        "                                  \"SECUENCIA_P\", \"P6051\"]]\n",
        "relationships_df.rename(columns={\"DIRECTORIO\":\"DIRECTORY\", \n",
        "                           \"SECUENCIA_ENCUESTA\":\"SEQ_SURVEY\",\n",
        "                           \"SECUENCIA_P\":\"SEQ_P\", \n",
        "                           \"P6051\":\"RELATIONSHIP\"}, inplace=True)\n",
        "relationships_df"
      ]
    },
    {
      "cell_type": "code",
      "execution_count": null,
      "metadata": {
        "colab": {
          "base_uri": "https://localhost:8080/",
          "height": 423
        },
        "id": "qBsgOBDgN0gX",
        "outputId": "9b41056e-b4ef-4eda-e39b-6e1c8649b2e7"
      },
      "outputs": [
        {
          "output_type": "execute_result",
          "data": {
            "text/plain": [
              "        DIRECTORY  SEQ_SURVEY  SEQ_P  RELATIONSHIP\n",
              "0         7247300           1      1             1\n",
              "1         7247300           2      1             2\n",
              "3         7247301           1      1             1\n",
              "4         7247301           2      1             2\n",
              "5         7247302           1      1             1\n",
              "...           ...         ...    ...           ...\n",
              "267080    7407011           5      1             3\n",
              "267081    7407013           1      1             1\n",
              "267082    7407013           2      1             3\n",
              "267083    7407013           3      1             3\n",
              "267084    7407013           4      1             3\n",
              "\n",
              "[253890 rows x 4 columns]"
            ],
            "text/html": [
              "\n",
              "  <div id=\"df-58fd678a-2296-4b30-96a0-5df6ae94242f\">\n",
              "    <div class=\"colab-df-container\">\n",
              "      <div>\n",
              "<style scoped>\n",
              "    .dataframe tbody tr th:only-of-type {\n",
              "        vertical-align: middle;\n",
              "    }\n",
              "\n",
              "    .dataframe tbody tr th {\n",
              "        vertical-align: top;\n",
              "    }\n",
              "\n",
              "    .dataframe thead th {\n",
              "        text-align: right;\n",
              "    }\n",
              "</style>\n",
              "<table border=\"1\" class=\"dataframe\">\n",
              "  <thead>\n",
              "    <tr style=\"text-align: right;\">\n",
              "      <th></th>\n",
              "      <th>DIRECTORY</th>\n",
              "      <th>SEQ_SURVEY</th>\n",
              "      <th>SEQ_P</th>\n",
              "      <th>RELATIONSHIP</th>\n",
              "    </tr>\n",
              "  </thead>\n",
              "  <tbody>\n",
              "    <tr>\n",
              "      <th>0</th>\n",
              "      <td>7247300</td>\n",
              "      <td>1</td>\n",
              "      <td>1</td>\n",
              "      <td>1</td>\n",
              "    </tr>\n",
              "    <tr>\n",
              "      <th>1</th>\n",
              "      <td>7247300</td>\n",
              "      <td>2</td>\n",
              "      <td>1</td>\n",
              "      <td>2</td>\n",
              "    </tr>\n",
              "    <tr>\n",
              "      <th>3</th>\n",
              "      <td>7247301</td>\n",
              "      <td>1</td>\n",
              "      <td>1</td>\n",
              "      <td>1</td>\n",
              "    </tr>\n",
              "    <tr>\n",
              "      <th>4</th>\n",
              "      <td>7247301</td>\n",
              "      <td>2</td>\n",
              "      <td>1</td>\n",
              "      <td>2</td>\n",
              "    </tr>\n",
              "    <tr>\n",
              "      <th>5</th>\n",
              "      <td>7247302</td>\n",
              "      <td>1</td>\n",
              "      <td>1</td>\n",
              "      <td>1</td>\n",
              "    </tr>\n",
              "    <tr>\n",
              "      <th>...</th>\n",
              "      <td>...</td>\n",
              "      <td>...</td>\n",
              "      <td>...</td>\n",
              "      <td>...</td>\n",
              "    </tr>\n",
              "    <tr>\n",
              "      <th>267080</th>\n",
              "      <td>7407011</td>\n",
              "      <td>5</td>\n",
              "      <td>1</td>\n",
              "      <td>3</td>\n",
              "    </tr>\n",
              "    <tr>\n",
              "      <th>267081</th>\n",
              "      <td>7407013</td>\n",
              "      <td>1</td>\n",
              "      <td>1</td>\n",
              "      <td>1</td>\n",
              "    </tr>\n",
              "    <tr>\n",
              "      <th>267082</th>\n",
              "      <td>7407013</td>\n",
              "      <td>2</td>\n",
              "      <td>1</td>\n",
              "      <td>3</td>\n",
              "    </tr>\n",
              "    <tr>\n",
              "      <th>267083</th>\n",
              "      <td>7407013</td>\n",
              "      <td>3</td>\n",
              "      <td>1</td>\n",
              "      <td>3</td>\n",
              "    </tr>\n",
              "    <tr>\n",
              "      <th>267084</th>\n",
              "      <td>7407013</td>\n",
              "      <td>4</td>\n",
              "      <td>1</td>\n",
              "      <td>3</td>\n",
              "    </tr>\n",
              "  </tbody>\n",
              "</table>\n",
              "<p>253890 rows × 4 columns</p>\n",
              "</div>\n",
              "      <button class=\"colab-df-convert\" onclick=\"convertToInteractive('df-58fd678a-2296-4b30-96a0-5df6ae94242f')\"\n",
              "              title=\"Convert this dataframe to an interactive table.\"\n",
              "              style=\"display:none;\">\n",
              "        \n",
              "  <svg xmlns=\"http://www.w3.org/2000/svg\" height=\"24px\"viewBox=\"0 0 24 24\"\n",
              "       width=\"24px\">\n",
              "    <path d=\"M0 0h24v24H0V0z\" fill=\"none\"/>\n",
              "    <path d=\"M18.56 5.44l.94 2.06.94-2.06 2.06-.94-2.06-.94-.94-2.06-.94 2.06-2.06.94zm-11 1L8.5 8.5l.94-2.06 2.06-.94-2.06-.94L8.5 2.5l-.94 2.06-2.06.94zm10 10l.94 2.06.94-2.06 2.06-.94-2.06-.94-.94-2.06-.94 2.06-2.06.94z\"/><path d=\"M17.41 7.96l-1.37-1.37c-.4-.4-.92-.59-1.43-.59-.52 0-1.04.2-1.43.59L10.3 9.45l-7.72 7.72c-.78.78-.78 2.05 0 2.83L4 21.41c.39.39.9.59 1.41.59.51 0 1.02-.2 1.41-.59l7.78-7.78 2.81-2.81c.8-.78.8-2.07 0-2.86zM5.41 20L4 18.59l7.72-7.72 1.47 1.35L5.41 20z\"/>\n",
              "  </svg>\n",
              "      </button>\n",
              "      \n",
              "  <style>\n",
              "    .colab-df-container {\n",
              "      display:flex;\n",
              "      flex-wrap:wrap;\n",
              "      gap: 12px;\n",
              "    }\n",
              "\n",
              "    .colab-df-convert {\n",
              "      background-color: #E8F0FE;\n",
              "      border: none;\n",
              "      border-radius: 50%;\n",
              "      cursor: pointer;\n",
              "      display: none;\n",
              "      fill: #1967D2;\n",
              "      height: 32px;\n",
              "      padding: 0 0 0 0;\n",
              "      width: 32px;\n",
              "    }\n",
              "\n",
              "    .colab-df-convert:hover {\n",
              "      background-color: #E2EBFA;\n",
              "      box-shadow: 0px 1px 2px rgba(60, 64, 67, 0.3), 0px 1px 3px 1px rgba(60, 64, 67, 0.15);\n",
              "      fill: #174EA6;\n",
              "    }\n",
              "\n",
              "    [theme=dark] .colab-df-convert {\n",
              "      background-color: #3B4455;\n",
              "      fill: #D2E3FC;\n",
              "    }\n",
              "\n",
              "    [theme=dark] .colab-df-convert:hover {\n",
              "      background-color: #434B5C;\n",
              "      box-shadow: 0px 1px 3px 1px rgba(0, 0, 0, 0.15);\n",
              "      filter: drop-shadow(0px 1px 2px rgba(0, 0, 0, 0.3));\n",
              "      fill: #FFFFFF;\n",
              "    }\n",
              "  </style>\n",
              "\n",
              "      <script>\n",
              "        const buttonEl =\n",
              "          document.querySelector('#df-58fd678a-2296-4b30-96a0-5df6ae94242f button.colab-df-convert');\n",
              "        buttonEl.style.display =\n",
              "          google.colab.kernel.accessAllowed ? 'block' : 'none';\n",
              "\n",
              "        async function convertToInteractive(key) {\n",
              "          const element = document.querySelector('#df-58fd678a-2296-4b30-96a0-5df6ae94242f');\n",
              "          const dataTable =\n",
              "            await google.colab.kernel.invokeFunction('convertToInteractive',\n",
              "                                                     [key], {});\n",
              "          if (!dataTable) return;\n",
              "\n",
              "          const docLinkHtml = 'Like what you see? Visit the ' +\n",
              "            '<a target=\"_blank\" href=https://colab.research.google.com/notebooks/data_table.ipynb>data table notebook</a>'\n",
              "            + ' to learn more about interactive tables.';\n",
              "          element.innerHTML = '';\n",
              "          dataTable['output_type'] = 'display_data';\n",
              "          await google.colab.output.renderOutput(dataTable, element);\n",
              "          const docLink = document.createElement('div');\n",
              "          docLink.innerHTML = docLinkHtml;\n",
              "          element.appendChild(docLink);\n",
              "        }\n",
              "      </script>\n",
              "    </div>\n",
              "  </div>\n",
              "  "
            ]
          },
          "metadata": {},
          "execution_count": 8
        }
      ],
      "source": [
        "#Select the information that will be used in the data treatment\n",
        "selected_relationships_df = relationships_df[\"RELATIONSHIP\"] < 7\n",
        "selected_relationships_df = relationships_df[selected_relationships_df]\n",
        "selected_relationships_df"
      ]
    },
    {
      "cell_type": "code",
      "execution_count": null,
      "metadata": {
        "id": "NDonK46iS2U3"
      },
      "outputs": [],
      "source": [
        "def get_home_members(df, directory, seq_p): \n",
        "  \"\"\"\n",
        "    Gets the members of a home\n",
        "    Arguments:\n",
        "        df: a pandas dataframe\n",
        "        directory: an integer\n",
        "        seq_p: an integer\n",
        "    Returns:\n",
        "        A pandas dataframe with the members of a home\n",
        "    \"\"\"\n",
        "  return df[(df['DIRECTORY'] == directory) & (df['SEQ_P'] == seq_p)]"
      ]
    },
    {
      "cell_type": "code",
      "execution_count": null,
      "metadata": {
        "id": "6dJEXCzKSRzY"
      },
      "outputs": [],
      "source": [
        "def get_members_relationships(relationships_df):\n",
        "  \"\"\"\n",
        "    Gets the relationships between the members of a home\n",
        "    Arguments:\n",
        "        relationships_df: a pandas dataframe\n",
        "    Returns:\n",
        "        A pandas dataframe with the members of a home\n",
        "    \"\"\"\n",
        "  relationships_dict = {'1': [], '2': [], '3': [], '4': [], '5': [], '6': []}\n",
        "  for i in relationships_df.index:\n",
        "    relationships_dict[str(relationships_df[\"RELATIONSHIP\"][i])].append(\n",
        "        (relationships_df['DIRECTORY'][i], relationships_df['SEQ_P'][i], \n",
        "         relationships_df['SEQ_SURVEY'][i]))\n",
        "  return relationships_dict"
      ]
    },
    {
      "cell_type": "code",
      "execution_count": null,
      "metadata": {
        "id": "Fndysg_rVpNp"
      },
      "outputs": [],
      "source": [
        "def get_grandparents(relationships_dict):\n",
        "  \"\"\"\n",
        "    Gets the grandparents of a home\n",
        "    Arguments:\n",
        "        relationships_dict: a dictionary\n",
        "    Returns:\n",
        "        A list with the grandparents of a home\n",
        "    \"\"\"\n",
        "\n",
        "  grandparents=[]\n",
        "  #Case in which the grandparent is the head of family\n",
        "  if len(relationships_dict[\"4\"]) != 0:\n",
        "\n",
        "    #Get the grandparent\n",
        "    grandparent = relationships_dict[\"1\"][0]\n",
        "    grandparents.append((grandparent[0], grandparent[1], grandparent[2]))\n",
        "\n",
        "    #Get the grandparent's couple\n",
        "    if len(relationships_dict[\"2\"]) != 0:\n",
        "      for i in relationships_dict[\"2\"]:\n",
        "        grandparents.append((i[0], i[1], i[2]))\n",
        "\n",
        "    #Get the great grandparents\n",
        "    if len(relationships_dict[\"6\"]) != 0 and len(relationships_dict[\"3\"]) != 0:\n",
        "      for i in relationships_dict[\"6\"]:\n",
        "        grandparents.append((i[0], i[1], i[2]))\n",
        "\n",
        "    if len(relationships_dict[\"5\"]) != 0 and len(relationships_dict[\"3\"]) != 0:\n",
        "      for i in relationships_dict[\"5\"]:\n",
        "        grandparents.append((i[0], i[1], i[2]))\n",
        "\n",
        "  elif (len(relationships_dict[\"3\"]) != 0 and \n",
        "    (len(relationships_dict[\"5\"]) != 0 or len(relationships_dict[\"6\"]) != 0)):\n",
        "    \n",
        "    if len(relationships_dict[\"5\"]):\n",
        "      for i in relationships_dict[\"5\"]:\n",
        "        grandparents.append((i[0], i[1], i[2]))\n",
        "\n",
        "    if len(relationships_dict[\"6\"]):\n",
        "      for i in relationships_dict[\"6\"]:\n",
        "        grandparents.append((i[0], i[1], i[2]))\n",
        "\n",
        "  return grandparents"
      ]
    },
    {
      "cell_type": "code",
      "execution_count": null,
      "metadata": {
        "id": "C5NsVBGTXctf"
      },
      "outputs": [],
      "source": [
        "#Extract all the grandparents from all the houses\n",
        "#Uncomment & run this code only once\n",
        "\n",
        "#all_directories = list(home_life_conditions_df['DIRECTORIO'])\n",
        "#unique_directories = home_life_conditions_df['DIRECTORIO'].unique()\n",
        "\n",
        "#grandparents_df = pd.DataFrame(columns=[\"DIRECTORY\", \"SEQ_P\", \"SEQ_SURVEY\",\n",
        "#                                        \"RELATIONSHIP\"])\n",
        "\n",
        "#for directory in unique_directories:\n",
        "#  homes_per_directory = all_directories.count(directory)\n",
        "#  for home in range(1, homes_per_directory + 1):\n",
        "#    home_members = get_home_members(selected_relationships_df, directory, home)\n",
        "#    grandparents = (get_grandparents(get_members_relationships((home_members))))\n",
        "\n",
        "#    for grandparent in grandparents:\n",
        "#      personas_en_directorio = (home_members[\n",
        "#      (home_members.DIRECTORY == grandparent[0]) \n",
        "#      & (home_members.SEQ_P == grandparent[1]) \n",
        "#      & (home_members.SEQ_SURVEY == grandparent[2]) ])\n",
        "\n",
        "#      grandparents_df = pd.concat([grandparents_df, personas_en_directorio])"
      ]
    },
    {
      "cell_type": "code",
      "execution_count": null,
      "metadata": {
        "id": "tX_E8ZtVccIx"
      },
      "outputs": [],
      "source": [
        "#Save all the grandparents to a csv\n",
        "#Uncomment & run this code only once\n",
        "#grandparents_df.to_csv('grandparents.csv', encoding = 'utf-8', index=False)"
      ]
    },
    {
      "cell_type": "code",
      "execution_count": null,
      "metadata": {
        "id": "jhTASibZcnRT"
      },
      "outputs": [],
      "source": [
        "#Path to the created table 'grandparents'\n",
        "grandparents_path = 'https://drive.google.com/file/d/1u8LBUJvTcxHhw3D-JzpRES5T8fta2lAv/view?usp=sharing'\n",
        "\n",
        "#Read the information from the table 'grandparents'\n",
        "id4 = grandparents_path.split(\"/\")[-2]\n",
        "downloaded = drive.CreateFile({'id' : id4})\n",
        "downloaded.GetContentFile('xclara3.csv') \n",
        "grandparents_df = pd.read_csv('xclara3.csv', sep = \",\")"
      ]
    },
    {
      "cell_type": "markdown",
      "source": [
        "###Preprocesamiento de datos para los niños"
      ],
      "metadata": {
        "id": "uXPvgZBXZFh2"
      }
    },
    {
      "cell_type": "code",
      "source": [
        "#Create the kids dataframe \n",
        "all_kids_df = home_composition_df[(home_composition_df['P6040'] >= 15) \n",
        "            & (home_composition_df['P6040'] < 19)]"
      ],
      "metadata": {
        "id": "rtd_V5sSY9Cu"
      },
      "execution_count": null,
      "outputs": []
    },
    {
      "cell_type": "code",
      "source": [
        "#Merge the information from all_kids_df & home_life_conditions_df\n",
        "#to have an unified dataframe with the information or the kids\n",
        "kids_info_df = pd.merge(all_kids_df, home_life_conditions_df[['DIRECTORIO',\n",
        "                      'SECUENCIA_ENCUESTA','P1077S8','P1077S10','P1077S13',\n",
        "                      'P1077S14','P1077S15A1','P1077S16A1','P1077S17',\n",
        "                      'P1077S21A1','P1077S22A1','P1077S23A1','P9030',\n",
        "                      'P9040','P9050','P5230','P1075']],\n",
        "                 how = 'inner', left_on = ['DIRECTORIO','SECUENCIA_P'],\n",
        "                 right_on = ['DIRECTORIO','SECUENCIA_ENCUESTA'])"
      ],
      "metadata": {
        "id": "N-V-fDSEaB6V"
      },
      "execution_count": null,
      "outputs": []
    },
    {
      "cell_type": "code",
      "source": [
        "#Replace the null values for zero in some variables that will be used\n",
        "kids_info_df[['P1077S8','P1077S10','P1077S13','P1077S14','P1077S15A1','P1077S16A1',\n",
        "            'P1077S17','P1077S21A1','P1077S22A1','P1077S23A1']] = kids_info_df[\n",
        "              ['P1077S8','P1077S10','P1077S13','P1077S14','P1077S15A1','P1077S16A1',\n",
        "               'P1077S17','P1077S21A1','P1077S22A1','P1077S23A1']].replace(r'^\\s*$', 0, regex=True)"
      ],
      "metadata": {
        "id": "NVFigrp3bpvr"
      },
      "execution_count": null,
      "outputs": []
    },
    {
      "cell_type": "code",
      "source": [
        "#Change the variables' types for the variables that will be analyzed\n",
        "kids_info_df[['P1077S8','P1077S10','P1077S13','P1077S14','P1077S15A1','P1077S16A1',\n",
        "            'P1077S17','P1077S21A1','P1077S22A1','P1077S23A1','P1895','P1896',\n",
        "            'P1897','P1898','P1899','P3175','P1901','P1903','P1904','P1905',\n",
        "            'P1927']] = kids_info_df[['P1077S8','P1077S10','P1077S13','P1077S14',\n",
        "            'P1077S15A1','P1077S16A1','P1077S17','P1077S21A1','P1077S22A1',\n",
        "            'P1077S23A1','P1895','P1896','P1897','P1898','P1899','P3175','P1901',\n",
        "            'P1903','P1904','P1905','P1927']].astype(np.int64,errors='ignore')\n",
        "kids_info_df['P1895'] = kids_info_df['P1895'].astype(np.int64)"
      ],
      "metadata": {
        "id": "MCl0XuOQgMW3"
      },
      "execution_count": null,
      "outputs": []
    },
    {
      "cell_type": "markdown",
      "source": [
        "##Análisis descriptivo para los abuelos y los niños"
      ],
      "metadata": {
        "id": "kQLkch7l2elG"
      }
    },
    {
      "cell_type": "markdown",
      "source": [
        "###Análisis de datos por individuos"
      ],
      "metadata": {
        "id": "vTn0t0vJ6SUf"
      }
    },
    {
      "cell_type": "markdown",
      "source": [
        "Ahora se analizarán los datos de los abuelos y los niños como individuos."
      ],
      "metadata": {
        "id": "fZBZ7ZMMu9MB"
      }
    },
    {
      "cell_type": "markdown",
      "source": [
        "Se observa una muestra del conjunto de datos de los niños que se analizará y un resumen de las variables cuantitativas de este: \n"
      ],
      "metadata": {
        "id": "l8AHVac-h6CC"
      }
    },
    {
      "cell_type": "code",
      "source": [
        "# Get information for the analysis of the kids\n",
        "kids_to_analize = home_composition_df.loc[all_kids_df.index, :][['P6020',\n",
        "                                                                    'P6040',\n",
        "                                                                    'P6080']]\n",
        "kids_to_analize.replace(r'^\\s*$', 0, regex=True, inplace=True)\n",
        "kids_to_analize = kids_to_analize.astype(np.int64)\n",
        "kids_type = ['Kids' for i in kids_to_analize['P6020']]\n",
        "kids_to_analize['Type'] = kids_type\n",
        "kids_to_analize.rename(columns={'P6020':'Gender','P6040':'Age',\n",
        "                                'P6080':'Etnicity/Culture'},inplace=True)\n",
        "kids_to_analize['Gender'].replace([1,2],['Male','Female'], inplace=True)\n",
        "kids_to_analize['Etnicity/Culture'].replace({1:'Indigenous',2:'Gipsy',3:'Raizal',4:'Palenquero',5:'Afrocolombian',\n",
        "                6:'None'},inplace=True)\n",
        "kids_to_analize.head()"
      ],
      "metadata": {
        "colab": {
          "base_uri": "https://localhost:8080/",
          "height": 206
        },
        "id": "ghnIoMFo6Xlo",
        "outputId": "72ae55da-99b5-4601-dc2a-4f1f2314d458"
      },
      "execution_count": null,
      "outputs": [
        {
          "output_type": "execute_result",
          "data": {
            "text/plain": [
              "    Gender  Age Etnicity/Culture  Type\n",
              "13    Male   15             None  Kids\n",
              "31    Male   15             None  Kids\n",
              "47    Male   17             None  Kids\n",
              "57    Male   15             None  Kids\n",
              "96  Female   18             None  Kids"
            ],
            "text/html": [
              "\n",
              "  <div id=\"df-4168c269-1632-4c5b-a781-cd14a76ade2a\">\n",
              "    <div class=\"colab-df-container\">\n",
              "      <div>\n",
              "<style scoped>\n",
              "    .dataframe tbody tr th:only-of-type {\n",
              "        vertical-align: middle;\n",
              "    }\n",
              "\n",
              "    .dataframe tbody tr th {\n",
              "        vertical-align: top;\n",
              "    }\n",
              "\n",
              "    .dataframe thead th {\n",
              "        text-align: right;\n",
              "    }\n",
              "</style>\n",
              "<table border=\"1\" class=\"dataframe\">\n",
              "  <thead>\n",
              "    <tr style=\"text-align: right;\">\n",
              "      <th></th>\n",
              "      <th>Gender</th>\n",
              "      <th>Age</th>\n",
              "      <th>Etnicity/Culture</th>\n",
              "      <th>Type</th>\n",
              "    </tr>\n",
              "  </thead>\n",
              "  <tbody>\n",
              "    <tr>\n",
              "      <th>13</th>\n",
              "      <td>Male</td>\n",
              "      <td>15</td>\n",
              "      <td>None</td>\n",
              "      <td>Kids</td>\n",
              "    </tr>\n",
              "    <tr>\n",
              "      <th>31</th>\n",
              "      <td>Male</td>\n",
              "      <td>15</td>\n",
              "      <td>None</td>\n",
              "      <td>Kids</td>\n",
              "    </tr>\n",
              "    <tr>\n",
              "      <th>47</th>\n",
              "      <td>Male</td>\n",
              "      <td>17</td>\n",
              "      <td>None</td>\n",
              "      <td>Kids</td>\n",
              "    </tr>\n",
              "    <tr>\n",
              "      <th>57</th>\n",
              "      <td>Male</td>\n",
              "      <td>15</td>\n",
              "      <td>None</td>\n",
              "      <td>Kids</td>\n",
              "    </tr>\n",
              "    <tr>\n",
              "      <th>96</th>\n",
              "      <td>Female</td>\n",
              "      <td>18</td>\n",
              "      <td>None</td>\n",
              "      <td>Kids</td>\n",
              "    </tr>\n",
              "  </tbody>\n",
              "</table>\n",
              "</div>\n",
              "      <button class=\"colab-df-convert\" onclick=\"convertToInteractive('df-4168c269-1632-4c5b-a781-cd14a76ade2a')\"\n",
              "              title=\"Convert this dataframe to an interactive table.\"\n",
              "              style=\"display:none;\">\n",
              "        \n",
              "  <svg xmlns=\"http://www.w3.org/2000/svg\" height=\"24px\"viewBox=\"0 0 24 24\"\n",
              "       width=\"24px\">\n",
              "    <path d=\"M0 0h24v24H0V0z\" fill=\"none\"/>\n",
              "    <path d=\"M18.56 5.44l.94 2.06.94-2.06 2.06-.94-2.06-.94-.94-2.06-.94 2.06-2.06.94zm-11 1L8.5 8.5l.94-2.06 2.06-.94-2.06-.94L8.5 2.5l-.94 2.06-2.06.94zm10 10l.94 2.06.94-2.06 2.06-.94-2.06-.94-.94-2.06-.94 2.06-2.06.94z\"/><path d=\"M17.41 7.96l-1.37-1.37c-.4-.4-.92-.59-1.43-.59-.52 0-1.04.2-1.43.59L10.3 9.45l-7.72 7.72c-.78.78-.78 2.05 0 2.83L4 21.41c.39.39.9.59 1.41.59.51 0 1.02-.2 1.41-.59l7.78-7.78 2.81-2.81c.8-.78.8-2.07 0-2.86zM5.41 20L4 18.59l7.72-7.72 1.47 1.35L5.41 20z\"/>\n",
              "  </svg>\n",
              "      </button>\n",
              "      \n",
              "  <style>\n",
              "    .colab-df-container {\n",
              "      display:flex;\n",
              "      flex-wrap:wrap;\n",
              "      gap: 12px;\n",
              "    }\n",
              "\n",
              "    .colab-df-convert {\n",
              "      background-color: #E8F0FE;\n",
              "      border: none;\n",
              "      border-radius: 50%;\n",
              "      cursor: pointer;\n",
              "      display: none;\n",
              "      fill: #1967D2;\n",
              "      height: 32px;\n",
              "      padding: 0 0 0 0;\n",
              "      width: 32px;\n",
              "    }\n",
              "\n",
              "    .colab-df-convert:hover {\n",
              "      background-color: #E2EBFA;\n",
              "      box-shadow: 0px 1px 2px rgba(60, 64, 67, 0.3), 0px 1px 3px 1px rgba(60, 64, 67, 0.15);\n",
              "      fill: #174EA6;\n",
              "    }\n",
              "\n",
              "    [theme=dark] .colab-df-convert {\n",
              "      background-color: #3B4455;\n",
              "      fill: #D2E3FC;\n",
              "    }\n",
              "\n",
              "    [theme=dark] .colab-df-convert:hover {\n",
              "      background-color: #434B5C;\n",
              "      box-shadow: 0px 1px 3px 1px rgba(0, 0, 0, 0.15);\n",
              "      filter: drop-shadow(0px 1px 2px rgba(0, 0, 0, 0.3));\n",
              "      fill: #FFFFFF;\n",
              "    }\n",
              "  </style>\n",
              "\n",
              "      <script>\n",
              "        const buttonEl =\n",
              "          document.querySelector('#df-4168c269-1632-4c5b-a781-cd14a76ade2a button.colab-df-convert');\n",
              "        buttonEl.style.display =\n",
              "          google.colab.kernel.accessAllowed ? 'block' : 'none';\n",
              "\n",
              "        async function convertToInteractive(key) {\n",
              "          const element = document.querySelector('#df-4168c269-1632-4c5b-a781-cd14a76ade2a');\n",
              "          const dataTable =\n",
              "            await google.colab.kernel.invokeFunction('convertToInteractive',\n",
              "                                                     [key], {});\n",
              "          if (!dataTable) return;\n",
              "\n",
              "          const docLinkHtml = 'Like what you see? Visit the ' +\n",
              "            '<a target=\"_blank\" href=https://colab.research.google.com/notebooks/data_table.ipynb>data table notebook</a>'\n",
              "            + ' to learn more about interactive tables.';\n",
              "          element.innerHTML = '';\n",
              "          dataTable['output_type'] = 'display_data';\n",
              "          await google.colab.output.renderOutput(dataTable, element);\n",
              "          const docLink = document.createElement('div');\n",
              "          docLink.innerHTML = docLinkHtml;\n",
              "          element.appendChild(docLink);\n",
              "        }\n",
              "      </script>\n",
              "    </div>\n",
              "  </div>\n",
              "  "
            ]
          },
          "metadata": {},
          "execution_count": 80
        }
      ]
    },
    {
      "cell_type": "code",
      "source": [
        "# Show some information about the variables for the kids\n",
        "kids_to_analize.describe()"
      ],
      "metadata": {
        "colab": {
          "base_uri": "https://localhost:8080/",
          "height": 300
        },
        "id": "D2dQBIEzAFIx",
        "outputId": "3a7e79f8-bf30-44fa-971a-2b30a31b3c7e"
      },
      "execution_count": null,
      "outputs": [
        {
          "output_type": "execute_result",
          "data": {
            "text/plain": [
              "                Age\n",
              "count  18626.000000\n",
              "mean      16.444647\n",
              "std        1.111874\n",
              "min       15.000000\n",
              "25%       15.000000\n",
              "50%       16.000000\n",
              "75%       17.000000\n",
              "max       18.000000"
            ],
            "text/html": [
              "\n",
              "  <div id=\"df-20c3cf03-1e37-4d04-bdac-ff6668518ee5\">\n",
              "    <div class=\"colab-df-container\">\n",
              "      <div>\n",
              "<style scoped>\n",
              "    .dataframe tbody tr th:only-of-type {\n",
              "        vertical-align: middle;\n",
              "    }\n",
              "\n",
              "    .dataframe tbody tr th {\n",
              "        vertical-align: top;\n",
              "    }\n",
              "\n",
              "    .dataframe thead th {\n",
              "        text-align: right;\n",
              "    }\n",
              "</style>\n",
              "<table border=\"1\" class=\"dataframe\">\n",
              "  <thead>\n",
              "    <tr style=\"text-align: right;\">\n",
              "      <th></th>\n",
              "      <th>Age</th>\n",
              "    </tr>\n",
              "  </thead>\n",
              "  <tbody>\n",
              "    <tr>\n",
              "      <th>count</th>\n",
              "      <td>18626.000000</td>\n",
              "    </tr>\n",
              "    <tr>\n",
              "      <th>mean</th>\n",
              "      <td>16.444647</td>\n",
              "    </tr>\n",
              "    <tr>\n",
              "      <th>std</th>\n",
              "      <td>1.111874</td>\n",
              "    </tr>\n",
              "    <tr>\n",
              "      <th>min</th>\n",
              "      <td>15.000000</td>\n",
              "    </tr>\n",
              "    <tr>\n",
              "      <th>25%</th>\n",
              "      <td>15.000000</td>\n",
              "    </tr>\n",
              "    <tr>\n",
              "      <th>50%</th>\n",
              "      <td>16.000000</td>\n",
              "    </tr>\n",
              "    <tr>\n",
              "      <th>75%</th>\n",
              "      <td>17.000000</td>\n",
              "    </tr>\n",
              "    <tr>\n",
              "      <th>max</th>\n",
              "      <td>18.000000</td>\n",
              "    </tr>\n",
              "  </tbody>\n",
              "</table>\n",
              "</div>\n",
              "      <button class=\"colab-df-convert\" onclick=\"convertToInteractive('df-20c3cf03-1e37-4d04-bdac-ff6668518ee5')\"\n",
              "              title=\"Convert this dataframe to an interactive table.\"\n",
              "              style=\"display:none;\">\n",
              "        \n",
              "  <svg xmlns=\"http://www.w3.org/2000/svg\" height=\"24px\"viewBox=\"0 0 24 24\"\n",
              "       width=\"24px\">\n",
              "    <path d=\"M0 0h24v24H0V0z\" fill=\"none\"/>\n",
              "    <path d=\"M18.56 5.44l.94 2.06.94-2.06 2.06-.94-2.06-.94-.94-2.06-.94 2.06-2.06.94zm-11 1L8.5 8.5l.94-2.06 2.06-.94-2.06-.94L8.5 2.5l-.94 2.06-2.06.94zm10 10l.94 2.06.94-2.06 2.06-.94-2.06-.94-.94-2.06-.94 2.06-2.06.94z\"/><path d=\"M17.41 7.96l-1.37-1.37c-.4-.4-.92-.59-1.43-.59-.52 0-1.04.2-1.43.59L10.3 9.45l-7.72 7.72c-.78.78-.78 2.05 0 2.83L4 21.41c.39.39.9.59 1.41.59.51 0 1.02-.2 1.41-.59l7.78-7.78 2.81-2.81c.8-.78.8-2.07 0-2.86zM5.41 20L4 18.59l7.72-7.72 1.47 1.35L5.41 20z\"/>\n",
              "  </svg>\n",
              "      </button>\n",
              "      \n",
              "  <style>\n",
              "    .colab-df-container {\n",
              "      display:flex;\n",
              "      flex-wrap:wrap;\n",
              "      gap: 12px;\n",
              "    }\n",
              "\n",
              "    .colab-df-convert {\n",
              "      background-color: #E8F0FE;\n",
              "      border: none;\n",
              "      border-radius: 50%;\n",
              "      cursor: pointer;\n",
              "      display: none;\n",
              "      fill: #1967D2;\n",
              "      height: 32px;\n",
              "      padding: 0 0 0 0;\n",
              "      width: 32px;\n",
              "    }\n",
              "\n",
              "    .colab-df-convert:hover {\n",
              "      background-color: #E2EBFA;\n",
              "      box-shadow: 0px 1px 2px rgba(60, 64, 67, 0.3), 0px 1px 3px 1px rgba(60, 64, 67, 0.15);\n",
              "      fill: #174EA6;\n",
              "    }\n",
              "\n",
              "    [theme=dark] .colab-df-convert {\n",
              "      background-color: #3B4455;\n",
              "      fill: #D2E3FC;\n",
              "    }\n",
              "\n",
              "    [theme=dark] .colab-df-convert:hover {\n",
              "      background-color: #434B5C;\n",
              "      box-shadow: 0px 1px 3px 1px rgba(0, 0, 0, 0.15);\n",
              "      filter: drop-shadow(0px 1px 2px rgba(0, 0, 0, 0.3));\n",
              "      fill: #FFFFFF;\n",
              "    }\n",
              "  </style>\n",
              "\n",
              "      <script>\n",
              "        const buttonEl =\n",
              "          document.querySelector('#df-20c3cf03-1e37-4d04-bdac-ff6668518ee5 button.colab-df-convert');\n",
              "        buttonEl.style.display =\n",
              "          google.colab.kernel.accessAllowed ? 'block' : 'none';\n",
              "\n",
              "        async function convertToInteractive(key) {\n",
              "          const element = document.querySelector('#df-20c3cf03-1e37-4d04-bdac-ff6668518ee5');\n",
              "          const dataTable =\n",
              "            await google.colab.kernel.invokeFunction('convertToInteractive',\n",
              "                                                     [key], {});\n",
              "          if (!dataTable) return;\n",
              "\n",
              "          const docLinkHtml = 'Like what you see? Visit the ' +\n",
              "            '<a target=\"_blank\" href=https://colab.research.google.com/notebooks/data_table.ipynb>data table notebook</a>'\n",
              "            + ' to learn more about interactive tables.';\n",
              "          element.innerHTML = '';\n",
              "          dataTable['output_type'] = 'display_data';\n",
              "          await google.colab.output.renderOutput(dataTable, element);\n",
              "          const docLink = document.createElement('div');\n",
              "          docLink.innerHTML = docLinkHtml;\n",
              "          element.appendChild(docLink);\n",
              "        }\n",
              "      </script>\n",
              "    </div>\n",
              "  </div>\n",
              "  "
            ]
          },
          "metadata": {},
          "execution_count": 82
        }
      ]
    },
    {
      "cell_type": "markdown",
      "source": [
        "Se observa que el rango de edad de los niños es de 15 a 18 años."
      ],
      "metadata": {
        "id": "j_oDNLvmmHMi"
      }
    },
    {
      "cell_type": "markdown",
      "source": [
        "Luego se presenta una muestra del conjunto de datos de los abuelos que se analizará y un resumen de las variables cuantitativas de este:"
      ],
      "metadata": {
        "id": "DVyfUrU5leN6"
      }
    },
    {
      "cell_type": "code",
      "source": [
        "# Get information for the analysis of the grandparents\n",
        "grandparents_to_analyze = pd.merge(home_composition_df,grandparents_df,how='inner',\n",
        "                               left_on=['DIRECTORIO','SECUENCIA_P',\n",
        "                                        'SECUENCIA_ENCUESTA'],\n",
        "                               right_on=['DIRECTORY','SEQ_P','SEQ_SURVEY'])\n",
        "grandparents_to_analyze = grandparents_to_analyze[['P6020','P6040','P6080']]\n",
        "grandparents_to_analyze.replace(r'^\\s*$', 0, regex=True, inplace=True)\n",
        "grandparents_to_analyze = grandparents_to_analyze.astype(np.int64)\n",
        "grandparents_type = ['Grandparents' for i in grandparents_to_analyze['P6020']]\n",
        "grandparents_to_analyze['Type'] = grandparents_type\n",
        "grandparents_to_analyze.rename(columns={'P6020':'Gender','P6040':'Age',\n",
        "                                'P6080':'Etnicity/Culture'},inplace=True)\n",
        "grandparents_to_analyze['Gender'].replace([1,2],['Male','Female'], inplace=True)\n",
        "grandparents_to_analyze['Etnicity/Culture'].replace({1:'Indigenous',2:'Gipsy',3:'Raizal',4:'Palenquero',5:'Afrocolombian',\n",
        "                6:'None'},inplace=True)\n",
        "grandparents_to_analyze.head()"
      ],
      "metadata": {
        "colab": {
          "base_uri": "https://localhost:8080/",
          "height": 206
        },
        "id": "M4RI4f4IA7VY",
        "outputId": "a0548eb0-9de2-48a0-d6c4-401f4255fea3"
      },
      "execution_count": null,
      "outputs": [
        {
          "output_type": "execute_result",
          "data": {
            "text/plain": [
              "   Gender  Age Etnicity/Culture          Type\n",
              "0    Male   59             None  Grandparents\n",
              "1  Female   56             None  Grandparents\n",
              "2  Female   75             None  Grandparents\n",
              "3    Male   81    Afrocolombian  Grandparents\n",
              "4  Female   64             None  Grandparents"
            ],
            "text/html": [
              "\n",
              "  <div id=\"df-23dfd173-f744-4031-9090-153b51e08d8a\">\n",
              "    <div class=\"colab-df-container\">\n",
              "      <div>\n",
              "<style scoped>\n",
              "    .dataframe tbody tr th:only-of-type {\n",
              "        vertical-align: middle;\n",
              "    }\n",
              "\n",
              "    .dataframe tbody tr th {\n",
              "        vertical-align: top;\n",
              "    }\n",
              "\n",
              "    .dataframe thead th {\n",
              "        text-align: right;\n",
              "    }\n",
              "</style>\n",
              "<table border=\"1\" class=\"dataframe\">\n",
              "  <thead>\n",
              "    <tr style=\"text-align: right;\">\n",
              "      <th></th>\n",
              "      <th>Gender</th>\n",
              "      <th>Age</th>\n",
              "      <th>Etnicity/Culture</th>\n",
              "      <th>Type</th>\n",
              "    </tr>\n",
              "  </thead>\n",
              "  <tbody>\n",
              "    <tr>\n",
              "      <th>0</th>\n",
              "      <td>Male</td>\n",
              "      <td>59</td>\n",
              "      <td>None</td>\n",
              "      <td>Grandparents</td>\n",
              "    </tr>\n",
              "    <tr>\n",
              "      <th>1</th>\n",
              "      <td>Female</td>\n",
              "      <td>56</td>\n",
              "      <td>None</td>\n",
              "      <td>Grandparents</td>\n",
              "    </tr>\n",
              "    <tr>\n",
              "      <th>2</th>\n",
              "      <td>Female</td>\n",
              "      <td>75</td>\n",
              "      <td>None</td>\n",
              "      <td>Grandparents</td>\n",
              "    </tr>\n",
              "    <tr>\n",
              "      <th>3</th>\n",
              "      <td>Male</td>\n",
              "      <td>81</td>\n",
              "      <td>Afrocolombian</td>\n",
              "      <td>Grandparents</td>\n",
              "    </tr>\n",
              "    <tr>\n",
              "      <th>4</th>\n",
              "      <td>Female</td>\n",
              "      <td>64</td>\n",
              "      <td>None</td>\n",
              "      <td>Grandparents</td>\n",
              "    </tr>\n",
              "  </tbody>\n",
              "</table>\n",
              "</div>\n",
              "      <button class=\"colab-df-convert\" onclick=\"convertToInteractive('df-23dfd173-f744-4031-9090-153b51e08d8a')\"\n",
              "              title=\"Convert this dataframe to an interactive table.\"\n",
              "              style=\"display:none;\">\n",
              "        \n",
              "  <svg xmlns=\"http://www.w3.org/2000/svg\" height=\"24px\"viewBox=\"0 0 24 24\"\n",
              "       width=\"24px\">\n",
              "    <path d=\"M0 0h24v24H0V0z\" fill=\"none\"/>\n",
              "    <path d=\"M18.56 5.44l.94 2.06.94-2.06 2.06-.94-2.06-.94-.94-2.06-.94 2.06-2.06.94zm-11 1L8.5 8.5l.94-2.06 2.06-.94-2.06-.94L8.5 2.5l-.94 2.06-2.06.94zm10 10l.94 2.06.94-2.06 2.06-.94-2.06-.94-.94-2.06-.94 2.06-2.06.94z\"/><path d=\"M17.41 7.96l-1.37-1.37c-.4-.4-.92-.59-1.43-.59-.52 0-1.04.2-1.43.59L10.3 9.45l-7.72 7.72c-.78.78-.78 2.05 0 2.83L4 21.41c.39.39.9.59 1.41.59.51 0 1.02-.2 1.41-.59l7.78-7.78 2.81-2.81c.8-.78.8-2.07 0-2.86zM5.41 20L4 18.59l7.72-7.72 1.47 1.35L5.41 20z\"/>\n",
              "  </svg>\n",
              "      </button>\n",
              "      \n",
              "  <style>\n",
              "    .colab-df-container {\n",
              "      display:flex;\n",
              "      flex-wrap:wrap;\n",
              "      gap: 12px;\n",
              "    }\n",
              "\n",
              "    .colab-df-convert {\n",
              "      background-color: #E8F0FE;\n",
              "      border: none;\n",
              "      border-radius: 50%;\n",
              "      cursor: pointer;\n",
              "      display: none;\n",
              "      fill: #1967D2;\n",
              "      height: 32px;\n",
              "      padding: 0 0 0 0;\n",
              "      width: 32px;\n",
              "    }\n",
              "\n",
              "    .colab-df-convert:hover {\n",
              "      background-color: #E2EBFA;\n",
              "      box-shadow: 0px 1px 2px rgba(60, 64, 67, 0.3), 0px 1px 3px 1px rgba(60, 64, 67, 0.15);\n",
              "      fill: #174EA6;\n",
              "    }\n",
              "\n",
              "    [theme=dark] .colab-df-convert {\n",
              "      background-color: #3B4455;\n",
              "      fill: #D2E3FC;\n",
              "    }\n",
              "\n",
              "    [theme=dark] .colab-df-convert:hover {\n",
              "      background-color: #434B5C;\n",
              "      box-shadow: 0px 1px 3px 1px rgba(0, 0, 0, 0.15);\n",
              "      filter: drop-shadow(0px 1px 2px rgba(0, 0, 0, 0.3));\n",
              "      fill: #FFFFFF;\n",
              "    }\n",
              "  </style>\n",
              "\n",
              "      <script>\n",
              "        const buttonEl =\n",
              "          document.querySelector('#df-23dfd173-f744-4031-9090-153b51e08d8a button.colab-df-convert');\n",
              "        buttonEl.style.display =\n",
              "          google.colab.kernel.accessAllowed ? 'block' : 'none';\n",
              "\n",
              "        async function convertToInteractive(key) {\n",
              "          const element = document.querySelector('#df-23dfd173-f744-4031-9090-153b51e08d8a');\n",
              "          const dataTable =\n",
              "            await google.colab.kernel.invokeFunction('convertToInteractive',\n",
              "                                                     [key], {});\n",
              "          if (!dataTable) return;\n",
              "\n",
              "          const docLinkHtml = 'Like what you see? Visit the ' +\n",
              "            '<a target=\"_blank\" href=https://colab.research.google.com/notebooks/data_table.ipynb>data table notebook</a>'\n",
              "            + ' to learn more about interactive tables.';\n",
              "          element.innerHTML = '';\n",
              "          dataTable['output_type'] = 'display_data';\n",
              "          await google.colab.output.renderOutput(dataTable, element);\n",
              "          const docLink = document.createElement('div');\n",
              "          docLink.innerHTML = docLinkHtml;\n",
              "          element.appendChild(docLink);\n",
              "        }\n",
              "      </script>\n",
              "    </div>\n",
              "  </div>\n",
              "  "
            ]
          },
          "metadata": {},
          "execution_count": 81
        }
      ]
    },
    {
      "cell_type": "code",
      "source": [
        "# Show some information about the variables for the kids\n",
        "grandparents_to_analyze.describe()"
      ],
      "metadata": {
        "colab": {
          "base_uri": "https://localhost:8080/",
          "height": 300
        },
        "id": "vt1Z1pfGLY_j",
        "outputId": "37760909-d23c-4dbd-b0dc-8388b12334a4"
      },
      "execution_count": null,
      "outputs": [
        {
          "output_type": "execute_result",
          "data": {
            "text/plain": [
              "                Age\n",
              "count  17081.000000\n",
              "mean      60.947954\n",
              "std       12.460290\n",
              "min       16.000000\n",
              "25%       52.000000\n",
              "50%       60.000000\n",
              "75%       69.000000\n",
              "max      105.000000"
            ],
            "text/html": [
              "\n",
              "  <div id=\"df-813823e3-01b5-4388-80ab-8a334514ed72\">\n",
              "    <div class=\"colab-df-container\">\n",
              "      <div>\n",
              "<style scoped>\n",
              "    .dataframe tbody tr th:only-of-type {\n",
              "        vertical-align: middle;\n",
              "    }\n",
              "\n",
              "    .dataframe tbody tr th {\n",
              "        vertical-align: top;\n",
              "    }\n",
              "\n",
              "    .dataframe thead th {\n",
              "        text-align: right;\n",
              "    }\n",
              "</style>\n",
              "<table border=\"1\" class=\"dataframe\">\n",
              "  <thead>\n",
              "    <tr style=\"text-align: right;\">\n",
              "      <th></th>\n",
              "      <th>Age</th>\n",
              "    </tr>\n",
              "  </thead>\n",
              "  <tbody>\n",
              "    <tr>\n",
              "      <th>count</th>\n",
              "      <td>17081.000000</td>\n",
              "    </tr>\n",
              "    <tr>\n",
              "      <th>mean</th>\n",
              "      <td>60.947954</td>\n",
              "    </tr>\n",
              "    <tr>\n",
              "      <th>std</th>\n",
              "      <td>12.460290</td>\n",
              "    </tr>\n",
              "    <tr>\n",
              "      <th>min</th>\n",
              "      <td>16.000000</td>\n",
              "    </tr>\n",
              "    <tr>\n",
              "      <th>25%</th>\n",
              "      <td>52.000000</td>\n",
              "    </tr>\n",
              "    <tr>\n",
              "      <th>50%</th>\n",
              "      <td>60.000000</td>\n",
              "    </tr>\n",
              "    <tr>\n",
              "      <th>75%</th>\n",
              "      <td>69.000000</td>\n",
              "    </tr>\n",
              "    <tr>\n",
              "      <th>max</th>\n",
              "      <td>105.000000</td>\n",
              "    </tr>\n",
              "  </tbody>\n",
              "</table>\n",
              "</div>\n",
              "      <button class=\"colab-df-convert\" onclick=\"convertToInteractive('df-813823e3-01b5-4388-80ab-8a334514ed72')\"\n",
              "              title=\"Convert this dataframe to an interactive table.\"\n",
              "              style=\"display:none;\">\n",
              "        \n",
              "  <svg xmlns=\"http://www.w3.org/2000/svg\" height=\"24px\"viewBox=\"0 0 24 24\"\n",
              "       width=\"24px\">\n",
              "    <path d=\"M0 0h24v24H0V0z\" fill=\"none\"/>\n",
              "    <path d=\"M18.56 5.44l.94 2.06.94-2.06 2.06-.94-2.06-.94-.94-2.06-.94 2.06-2.06.94zm-11 1L8.5 8.5l.94-2.06 2.06-.94-2.06-.94L8.5 2.5l-.94 2.06-2.06.94zm10 10l.94 2.06.94-2.06 2.06-.94-2.06-.94-.94-2.06-.94 2.06-2.06.94z\"/><path d=\"M17.41 7.96l-1.37-1.37c-.4-.4-.92-.59-1.43-.59-.52 0-1.04.2-1.43.59L10.3 9.45l-7.72 7.72c-.78.78-.78 2.05 0 2.83L4 21.41c.39.39.9.59 1.41.59.51 0 1.02-.2 1.41-.59l7.78-7.78 2.81-2.81c.8-.78.8-2.07 0-2.86zM5.41 20L4 18.59l7.72-7.72 1.47 1.35L5.41 20z\"/>\n",
              "  </svg>\n",
              "      </button>\n",
              "      \n",
              "  <style>\n",
              "    .colab-df-container {\n",
              "      display:flex;\n",
              "      flex-wrap:wrap;\n",
              "      gap: 12px;\n",
              "    }\n",
              "\n",
              "    .colab-df-convert {\n",
              "      background-color: #E8F0FE;\n",
              "      border: none;\n",
              "      border-radius: 50%;\n",
              "      cursor: pointer;\n",
              "      display: none;\n",
              "      fill: #1967D2;\n",
              "      height: 32px;\n",
              "      padding: 0 0 0 0;\n",
              "      width: 32px;\n",
              "    }\n",
              "\n",
              "    .colab-df-convert:hover {\n",
              "      background-color: #E2EBFA;\n",
              "      box-shadow: 0px 1px 2px rgba(60, 64, 67, 0.3), 0px 1px 3px 1px rgba(60, 64, 67, 0.15);\n",
              "      fill: #174EA6;\n",
              "    }\n",
              "\n",
              "    [theme=dark] .colab-df-convert {\n",
              "      background-color: #3B4455;\n",
              "      fill: #D2E3FC;\n",
              "    }\n",
              "\n",
              "    [theme=dark] .colab-df-convert:hover {\n",
              "      background-color: #434B5C;\n",
              "      box-shadow: 0px 1px 3px 1px rgba(0, 0, 0, 0.15);\n",
              "      filter: drop-shadow(0px 1px 2px rgba(0, 0, 0, 0.3));\n",
              "      fill: #FFFFFF;\n",
              "    }\n",
              "  </style>\n",
              "\n",
              "      <script>\n",
              "        const buttonEl =\n",
              "          document.querySelector('#df-813823e3-01b5-4388-80ab-8a334514ed72 button.colab-df-convert');\n",
              "        buttonEl.style.display =\n",
              "          google.colab.kernel.accessAllowed ? 'block' : 'none';\n",
              "\n",
              "        async function convertToInteractive(key) {\n",
              "          const element = document.querySelector('#df-813823e3-01b5-4388-80ab-8a334514ed72');\n",
              "          const dataTable =\n",
              "            await google.colab.kernel.invokeFunction('convertToInteractive',\n",
              "                                                     [key], {});\n",
              "          if (!dataTable) return;\n",
              "\n",
              "          const docLinkHtml = 'Like what you see? Visit the ' +\n",
              "            '<a target=\"_blank\" href=https://colab.research.google.com/notebooks/data_table.ipynb>data table notebook</a>'\n",
              "            + ' to learn more about interactive tables.';\n",
              "          element.innerHTML = '';\n",
              "          dataTable['output_type'] = 'display_data';\n",
              "          await google.colab.output.renderOutput(dataTable, element);\n",
              "          const docLink = document.createElement('div');\n",
              "          docLink.innerHTML = docLinkHtml;\n",
              "          element.appendChild(docLink);\n",
              "        }\n",
              "      </script>\n",
              "    </div>\n",
              "  </div>\n",
              "  "
            ]
          },
          "metadata": {},
          "execution_count": 83
        }
      ]
    },
    {
      "cell_type": "markdown",
      "source": [
        "Se observa que el rango de edad de los abuelos es de 16 a 105 años."
      ],
      "metadata": {
        "id": "M0MbYiYRmcNC"
      }
    },
    {
      "cell_type": "code",
      "source": [
        "# Concatenate the kids data and the grandparents data for analysis and comparisons\n",
        "data = pd.concat([kids_to_analize,grandparents_to_analyze])\n",
        "data"
      ],
      "metadata": {
        "colab": {
          "base_uri": "https://localhost:8080/",
          "height": 423
        },
        "id": "zKHe042FLr85",
        "outputId": "5d4ffd36-8605-48c8-c865-24f7e68d28bd"
      },
      "execution_count": null,
      "outputs": [
        {
          "output_type": "execute_result",
          "data": {
            "text/plain": [
              "       Gender  Age Etnicity/Culture          Type\n",
              "13       Male   15             None          Kids\n",
              "31       Male   15             None          Kids\n",
              "47       Male   17             None          Kids\n",
              "57       Male   15             None          Kids\n",
              "96     Female   18             None          Kids\n",
              "...       ...  ...              ...           ...\n",
              "17076  Female   54             None  Grandparents\n",
              "17077    Male   33             None  Grandparents\n",
              "17078  Female   48             None  Grandparents\n",
              "17079    Male   70       Indigenous  Grandparents\n",
              "17080  Female   83       Indigenous  Grandparents\n",
              "\n",
              "[35707 rows x 4 columns]"
            ],
            "text/html": [
              "\n",
              "  <div id=\"df-38dc848f-6a91-40b8-994f-04f3da9b4adc\">\n",
              "    <div class=\"colab-df-container\">\n",
              "      <div>\n",
              "<style scoped>\n",
              "    .dataframe tbody tr th:only-of-type {\n",
              "        vertical-align: middle;\n",
              "    }\n",
              "\n",
              "    .dataframe tbody tr th {\n",
              "        vertical-align: top;\n",
              "    }\n",
              "\n",
              "    .dataframe thead th {\n",
              "        text-align: right;\n",
              "    }\n",
              "</style>\n",
              "<table border=\"1\" class=\"dataframe\">\n",
              "  <thead>\n",
              "    <tr style=\"text-align: right;\">\n",
              "      <th></th>\n",
              "      <th>Gender</th>\n",
              "      <th>Age</th>\n",
              "      <th>Etnicity/Culture</th>\n",
              "      <th>Type</th>\n",
              "    </tr>\n",
              "  </thead>\n",
              "  <tbody>\n",
              "    <tr>\n",
              "      <th>13</th>\n",
              "      <td>Male</td>\n",
              "      <td>15</td>\n",
              "      <td>None</td>\n",
              "      <td>Kids</td>\n",
              "    </tr>\n",
              "    <tr>\n",
              "      <th>31</th>\n",
              "      <td>Male</td>\n",
              "      <td>15</td>\n",
              "      <td>None</td>\n",
              "      <td>Kids</td>\n",
              "    </tr>\n",
              "    <tr>\n",
              "      <th>47</th>\n",
              "      <td>Male</td>\n",
              "      <td>17</td>\n",
              "      <td>None</td>\n",
              "      <td>Kids</td>\n",
              "    </tr>\n",
              "    <tr>\n",
              "      <th>57</th>\n",
              "      <td>Male</td>\n",
              "      <td>15</td>\n",
              "      <td>None</td>\n",
              "      <td>Kids</td>\n",
              "    </tr>\n",
              "    <tr>\n",
              "      <th>96</th>\n",
              "      <td>Female</td>\n",
              "      <td>18</td>\n",
              "      <td>None</td>\n",
              "      <td>Kids</td>\n",
              "    </tr>\n",
              "    <tr>\n",
              "      <th>...</th>\n",
              "      <td>...</td>\n",
              "      <td>...</td>\n",
              "      <td>...</td>\n",
              "      <td>...</td>\n",
              "    </tr>\n",
              "    <tr>\n",
              "      <th>17076</th>\n",
              "      <td>Female</td>\n",
              "      <td>54</td>\n",
              "      <td>None</td>\n",
              "      <td>Grandparents</td>\n",
              "    </tr>\n",
              "    <tr>\n",
              "      <th>17077</th>\n",
              "      <td>Male</td>\n",
              "      <td>33</td>\n",
              "      <td>None</td>\n",
              "      <td>Grandparents</td>\n",
              "    </tr>\n",
              "    <tr>\n",
              "      <th>17078</th>\n",
              "      <td>Female</td>\n",
              "      <td>48</td>\n",
              "      <td>None</td>\n",
              "      <td>Grandparents</td>\n",
              "    </tr>\n",
              "    <tr>\n",
              "      <th>17079</th>\n",
              "      <td>Male</td>\n",
              "      <td>70</td>\n",
              "      <td>Indigenous</td>\n",
              "      <td>Grandparents</td>\n",
              "    </tr>\n",
              "    <tr>\n",
              "      <th>17080</th>\n",
              "      <td>Female</td>\n",
              "      <td>83</td>\n",
              "      <td>Indigenous</td>\n",
              "      <td>Grandparents</td>\n",
              "    </tr>\n",
              "  </tbody>\n",
              "</table>\n",
              "<p>35707 rows × 4 columns</p>\n",
              "</div>\n",
              "      <button class=\"colab-df-convert\" onclick=\"convertToInteractive('df-38dc848f-6a91-40b8-994f-04f3da9b4adc')\"\n",
              "              title=\"Convert this dataframe to an interactive table.\"\n",
              "              style=\"display:none;\">\n",
              "        \n",
              "  <svg xmlns=\"http://www.w3.org/2000/svg\" height=\"24px\"viewBox=\"0 0 24 24\"\n",
              "       width=\"24px\">\n",
              "    <path d=\"M0 0h24v24H0V0z\" fill=\"none\"/>\n",
              "    <path d=\"M18.56 5.44l.94 2.06.94-2.06 2.06-.94-2.06-.94-.94-2.06-.94 2.06-2.06.94zm-11 1L8.5 8.5l.94-2.06 2.06-.94-2.06-.94L8.5 2.5l-.94 2.06-2.06.94zm10 10l.94 2.06.94-2.06 2.06-.94-2.06-.94-.94-2.06-.94 2.06-2.06.94z\"/><path d=\"M17.41 7.96l-1.37-1.37c-.4-.4-.92-.59-1.43-.59-.52 0-1.04.2-1.43.59L10.3 9.45l-7.72 7.72c-.78.78-.78 2.05 0 2.83L4 21.41c.39.39.9.59 1.41.59.51 0 1.02-.2 1.41-.59l7.78-7.78 2.81-2.81c.8-.78.8-2.07 0-2.86zM5.41 20L4 18.59l7.72-7.72 1.47 1.35L5.41 20z\"/>\n",
              "  </svg>\n",
              "      </button>\n",
              "      \n",
              "  <style>\n",
              "    .colab-df-container {\n",
              "      display:flex;\n",
              "      flex-wrap:wrap;\n",
              "      gap: 12px;\n",
              "    }\n",
              "\n",
              "    .colab-df-convert {\n",
              "      background-color: #E8F0FE;\n",
              "      border: none;\n",
              "      border-radius: 50%;\n",
              "      cursor: pointer;\n",
              "      display: none;\n",
              "      fill: #1967D2;\n",
              "      height: 32px;\n",
              "      padding: 0 0 0 0;\n",
              "      width: 32px;\n",
              "    }\n",
              "\n",
              "    .colab-df-convert:hover {\n",
              "      background-color: #E2EBFA;\n",
              "      box-shadow: 0px 1px 2px rgba(60, 64, 67, 0.3), 0px 1px 3px 1px rgba(60, 64, 67, 0.15);\n",
              "      fill: #174EA6;\n",
              "    }\n",
              "\n",
              "    [theme=dark] .colab-df-convert {\n",
              "      background-color: #3B4455;\n",
              "      fill: #D2E3FC;\n",
              "    }\n",
              "\n",
              "    [theme=dark] .colab-df-convert:hover {\n",
              "      background-color: #434B5C;\n",
              "      box-shadow: 0px 1px 3px 1px rgba(0, 0, 0, 0.15);\n",
              "      filter: drop-shadow(0px 1px 2px rgba(0, 0, 0, 0.3));\n",
              "      fill: #FFFFFF;\n",
              "    }\n",
              "  </style>\n",
              "\n",
              "      <script>\n",
              "        const buttonEl =\n",
              "          document.querySelector('#df-38dc848f-6a91-40b8-994f-04f3da9b4adc button.colab-df-convert');\n",
              "        buttonEl.style.display =\n",
              "          google.colab.kernel.accessAllowed ? 'block' : 'none';\n",
              "\n",
              "        async function convertToInteractive(key) {\n",
              "          const element = document.querySelector('#df-38dc848f-6a91-40b8-994f-04f3da9b4adc');\n",
              "          const dataTable =\n",
              "            await google.colab.kernel.invokeFunction('convertToInteractive',\n",
              "                                                     [key], {});\n",
              "          if (!dataTable) return;\n",
              "\n",
              "          const docLinkHtml = 'Like what you see? Visit the ' +\n",
              "            '<a target=\"_blank\" href=https://colab.research.google.com/notebooks/data_table.ipynb>data table notebook</a>'\n",
              "            + ' to learn more about interactive tables.';\n",
              "          element.innerHTML = '';\n",
              "          dataTable['output_type'] = 'display_data';\n",
              "          await google.colab.output.renderOutput(dataTable, element);\n",
              "          const docLink = document.createElement('div');\n",
              "          docLink.innerHTML = docLinkHtml;\n",
              "          element.appendChild(docLink);\n",
              "        }\n",
              "      </script>\n",
              "    </div>\n",
              "  </div>\n",
              "  "
            ]
          },
          "metadata": {},
          "execution_count": 84
        }
      ]
    },
    {
      "cell_type": "markdown",
      "source": [
        "####Análisis de individuos por el sexo"
      ],
      "metadata": {
        "id": "36Z1CS5PMYeb"
      }
    },
    {
      "cell_type": "markdown",
      "source": [
        "Seguidamente se representan los datos del sexo por medio de un gráfico de barras comparativo, donde se muestra la cantidad de niños y abuelos con sexo masculino y femenino."
      ],
      "metadata": {
        "id": "9hw5ymdVnTSf"
      }
    },
    {
      "cell_type": "code",
      "source": [
        "# Group the data by its gender and type of person\n",
        "gender = data.groupby(['Gender','Type'], as_index=False)['Age'].count()\n",
        "gender.rename(columns={'Age':'Quantity'}, inplace=True)"
      ],
      "metadata": {
        "id": "ZqykHffhMj9k"
      },
      "execution_count": null,
      "outputs": []
    },
    {
      "cell_type": "code",
      "source": [
        "# Categorical barplot of the genre data\n",
        "sb.set(font_scale=1)\n",
        "gender_graph = sb.catplot(x=\"Gender\",y=\"Quantity\",col=\"Type\",data=gender,kind=\"bar\",\n",
        "                       height=4,aspect=.7,palette='viridis')\n",
        "\n",
        "plt.gcf().set_size_inches(10, 10)\n",
        "for ax in gender_graph.axes.ravel():   \n",
        "    for c in ax.containers:\n",
        "        labels = [f'{(v.get_height() / 1000):.1f}K' for v in c]\n",
        "        ax.bar_label(c, labels=labels, label_type='edge')\n",
        "    ax.margins(y=0.2)"
      ],
      "metadata": {
        "colab": {
          "base_uri": "https://localhost:8080/",
          "height": 607
        },
        "id": "2tcnzAh-M_Lb",
        "outputId": "3673bfcd-3e08-42d7-8e4a-31b7c7726fd6"
      },
      "execution_count": null,
      "outputs": [
        {
          "output_type": "display_data",
          "data": {
            "text/plain": [
              "<Figure size 720x720 with 2 Axes>"
            ],
            "image/png": "[encoded data removed]"
          },
          "metadata": {}
        }
      ]
    },
    {
      "cell_type": "markdown",
      "source": [
        "Se nota que para los abuelos hay más mujeres que hombres mientras que para los niños las cantidades de niños y niñas son similares."
      ],
      "metadata": {
        "id": "oL7d_MwiobUo"
      }
    },
    {
      "cell_type": "markdown",
      "source": [
        "####Análisis de datos por la edad"
      ],
      "metadata": {
        "id": "vHiLZtzGNnva"
      }
    },
    {
      "cell_type": "markdown",
      "source": [
        "Ahora se representan los datos de edad, los cuales se dividen en edad de niños y edad de abuelos."
      ],
      "metadata": {
        "id": "mvE7dPNdoKeR"
      }
    },
    {
      "cell_type": "markdown",
      "source": [
        "Edad de niños:"
      ],
      "metadata": {
        "id": "6SUajwWypgCZ"
      }
    },
    {
      "cell_type": "code",
      "source": [
        "# Group the data by the kid's age \n",
        "age_kids = kids_to_analize.groupby(['Age'],as_index=False)['Gender'].count()\n",
        "age_kids.rename(columns={'Gender':'Quantity'},inplace=True)"
      ],
      "metadata": {
        "id": "jEhpzjwSNsgx"
      },
      "execution_count": null,
      "outputs": []
    },
    {
      "cell_type": "code",
      "source": [
        "# Show in a categorical barplot the kids quantity for every age\n",
        "sb.set(font_scale=1)\n",
        "age_kids_graph = sb.barplot(x='Age',y='Quantity',data=age_kids,palette='viridis')\n",
        "plt.gcf().set_size_inches(8, 8)\n",
        "age_kids_graph.bar_label(age_kids_graph.containers[0])"
      ],
      "metadata": {
        "colab": {
          "base_uri": "https://localhost:8080/",
          "height": 571
        },
        "id": "Yqj_eS3SN-su",
        "outputId": "2231f7d6-6ac3-40c8-abf2-5bb8405d765e"
      },
      "execution_count": null,
      "outputs": [
        {
          "output_type": "execute_result",
          "data": {
            "text/plain": [
              "[Text(0, 0, '4883'),\n",
              " Text(0, 0, '4908'),\n",
              " Text(0, 0, '4505'),\n",
              " Text(0, 0, '4330')]"
            ]
          },
          "metadata": {},
          "execution_count": 60
        },
        {
          "output_type": "display_data",
          "data": {
            "text/plain": [
              "<Figure size 576x576 with 1 Axes>"
            ],
            "image/png": "[encoded data removed]"
          },
          "metadata": {}
        }
      ]
    },
    {
      "cell_type": "markdown",
      "source": [
        "Se nota que las proporciones de edades de los niños son similares."
      ],
      "metadata": {
        "id": "V7kU6oCMp0zH"
      }
    },
    {
      "cell_type": "markdown",
      "source": [
        "Edades de abuelos:"
      ],
      "metadata": {
        "id": "LPDiQnBQqlst"
      }
    },
    {
      "cell_type": "code",
      "source": [
        "# Group the data by the grandparent's age \n",
        "age_grandparents = grandparents_to_analyze.groupby(['Age'],as_index=False)['Gender'].count()\n",
        "age_grandparents.rename(columns={'Gender':'Quantity'},inplace=True)\n",
        "age_grandparents.head()"
      ],
      "metadata": {
        "colab": {
          "base_uri": "https://localhost:8080/",
          "height": 206
        },
        "id": "_BmZPMz6OJUp",
        "outputId": "e2cbfb63-3057-4fe3-ef2f-e7247f8bb98b"
      },
      "execution_count": null,
      "outputs": [
        {
          "output_type": "execute_result",
          "data": {
            "text/plain": [
              "   Age  Quantity\n",
              "0   16         2\n",
              "1   17         1\n",
              "2   18         4\n",
              "3   19         7\n",
              "4   20         2"
            ],
            "text/html": [
              "\n",
              "  <div id=\"df-724f4eba-4377-46ce-a347-0c314a62c086\">\n",
              "    <div class=\"colab-df-container\">\n",
              "      <div>\n",
              "<style scoped>\n",
              "    .dataframe tbody tr th:only-of-type {\n",
              "        vertical-align: middle;\n",
              "    }\n",
              "\n",
              "    .dataframe tbody tr th {\n",
              "        vertical-align: top;\n",
              "    }\n",
              "\n",
              "    .dataframe thead th {\n",
              "        text-align: right;\n",
              "    }\n",
              "</style>\n",
              "<table border=\"1\" class=\"dataframe\">\n",
              "  <thead>\n",
              "    <tr style=\"text-align: right;\">\n",
              "      <th></th>\n",
              "      <th>Age</th>\n",
              "      <th>Quantity</th>\n",
              "    </tr>\n",
              "  </thead>\n",
              "  <tbody>\n",
              "    <tr>\n",
              "      <th>0</th>\n",
              "      <td>16</td>\n",
              "      <td>2</td>\n",
              "    </tr>\n",
              "    <tr>\n",
              "      <th>1</th>\n",
              "      <td>17</td>\n",
              "      <td>1</td>\n",
              "    </tr>\n",
              "    <tr>\n",
              "      <th>2</th>\n",
              "      <td>18</td>\n",
              "      <td>4</td>\n",
              "    </tr>\n",
              "    <tr>\n",
              "      <th>3</th>\n",
              "      <td>19</td>\n",
              "      <td>7</td>\n",
              "    </tr>\n",
              "    <tr>\n",
              "      <th>4</th>\n",
              "      <td>20</td>\n",
              "      <td>2</td>\n",
              "    </tr>\n",
              "  </tbody>\n",
              "</table>\n",
              "</div>\n",
              "      <button class=\"colab-df-convert\" onclick=\"convertToInteractive('df-724f4eba-4377-46ce-a347-0c314a62c086')\"\n",
              "              title=\"Convert this dataframe to an interactive table.\"\n",
              "              style=\"display:none;\">\n",
              "        \n",
              "  <svg xmlns=\"http://www.w3.org/2000/svg\" height=\"24px\"viewBox=\"0 0 24 24\"\n",
              "       width=\"24px\">\n",
              "    <path d=\"M0 0h24v24H0V0z\" fill=\"none\"/>\n",
              "    <path d=\"M18.56 5.44l.94 2.06.94-2.06 2.06-.94-2.06-.94-.94-2.06-.94 2.06-2.06.94zm-11 1L8.5 8.5l.94-2.06 2.06-.94-2.06-.94L8.5 2.5l-.94 2.06-2.06.94zm10 10l.94 2.06.94-2.06 2.06-.94-2.06-.94-.94-2.06-.94 2.06-2.06.94z\"/><path d=\"M17.41 7.96l-1.37-1.37c-.4-.4-.92-.59-1.43-.59-.52 0-1.04.2-1.43.59L10.3 9.45l-7.72 7.72c-.78.78-.78 2.05 0 2.83L4 21.41c.39.39.9.59 1.41.59.51 0 1.02-.2 1.41-.59l7.78-7.78 2.81-2.81c.8-.78.8-2.07 0-2.86zM5.41 20L4 18.59l7.72-7.72 1.47 1.35L5.41 20z\"/>\n",
              "  </svg>\n",
              "      </button>\n",
              "      \n",
              "  <style>\n",
              "    .colab-df-container {\n",
              "      display:flex;\n",
              "      flex-wrap:wrap;\n",
              "      gap: 12px;\n",
              "    }\n",
              "\n",
              "    .colab-df-convert {\n",
              "      background-color: #E8F0FE;\n",
              "      border: none;\n",
              "      border-radius: 50%;\n",
              "      cursor: pointer;\n",
              "      display: none;\n",
              "      fill: #1967D2;\n",
              "      height: 32px;\n",
              "      padding: 0 0 0 0;\n",
              "      width: 32px;\n",
              "    }\n",
              "\n",
              "    .colab-df-convert:hover {\n",
              "      background-color: #E2EBFA;\n",
              "      box-shadow: 0px 1px 2px rgba(60, 64, 67, 0.3), 0px 1px 3px 1px rgba(60, 64, 67, 0.15);\n",
              "      fill: #174EA6;\n",
              "    }\n",
              "\n",
              "    [theme=dark] .colab-df-convert {\n",
              "      background-color: #3B4455;\n",
              "      fill: #D2E3FC;\n",
              "    }\n",
              "\n",
              "    [theme=dark] .colab-df-convert:hover {\n",
              "      background-color: #434B5C;\n",
              "      box-shadow: 0px 1px 3px 1px rgba(0, 0, 0, 0.15);\n",
              "      filter: drop-shadow(0px 1px 2px rgba(0, 0, 0, 0.3));\n",
              "      fill: #FFFFFF;\n",
              "    }\n",
              "  </style>\n",
              "\n",
              "      <script>\n",
              "        const buttonEl =\n",
              "          document.querySelector('#df-724f4eba-4377-46ce-a347-0c314a62c086 button.colab-df-convert');\n",
              "        buttonEl.style.display =\n",
              "          google.colab.kernel.accessAllowed ? 'block' : 'none';\n",
              "\n",
              "        async function convertToInteractive(key) {\n",
              "          const element = document.querySelector('#df-724f4eba-4377-46ce-a347-0c314a62c086');\n",
              "          const dataTable =\n",
              "            await google.colab.kernel.invokeFunction('convertToInteractive',\n",
              "                                                     [key], {});\n",
              "          if (!dataTable) return;\n",
              "\n",
              "          const docLinkHtml = 'Like what you see? Visit the ' +\n",
              "            '<a target=\"_blank\" href=https://colab.research.google.com/notebooks/data_table.ipynb>data table notebook</a>'\n",
              "            + ' to learn more about interactive tables.';\n",
              "          element.innerHTML = '';\n",
              "          dataTable['output_type'] = 'display_data';\n",
              "          await google.colab.output.renderOutput(dataTable, element);\n",
              "          const docLink = document.createElement('div');\n",
              "          docLink.innerHTML = docLinkHtml;\n",
              "          element.appendChild(docLink);\n",
              "        }\n",
              "      </script>\n",
              "    </div>\n",
              "  </div>\n",
              "  "
            ]
          },
          "metadata": {},
          "execution_count": 61
        }
      ]
    },
    {
      "cell_type": "code",
      "source": [
        "# Show in a scatterplot the grandparents quantity for every age\n",
        "# Chose scatterplot because of a large range of ages (Between 16 and 105 years)\n",
        "sb.set(font_scale=1)\n",
        "plt.rcParams['figure.figsize'] = (10, 10)\n",
        "age_gramps_graph = sb.scatterplot(data=age_grandparents, x=\"Age\", y=\"Quantity\")"
      ],
      "metadata": {
        "colab": {
          "base_uri": "https://localhost:8080/",
          "height": 611
        },
        "id": "TM3EbamcOVcF",
        "outputId": "bbe951ba-f929-4cad-f6b6-d208ca714512"
      },
      "execution_count": null,
      "outputs": [
        {
          "output_type": "display_data",
          "data": {
            "text/plain": [
              "<Figure size 720x720 with 1 Axes>"
            ],
            "image/png": "[encoded data removed]"
          },
          "metadata": {}
        }
      ]
    },
    {
      "cell_type": "markdown",
      "source": [
        "Cabe aclarar que se utilizó una gráfica diferente al gráfico de barras utilizado para las edades de los niños debido al rango de edad de los abuelos, por lo que se decidió realizar un gráfico de dispersión Edad vs Cantidad para mostrar la cantidad de personas en cierto rango de edad de los abuelos. Al mirar la gráfica se observa que la mayoría de los abuelos se encuentran entre los 40 y los 80 años de edad."
      ],
      "metadata": {
        "id": "bY5BlS8oqo7f"
      }
    },
    {
      "cell_type": "markdown",
      "source": [
        "####Análisis de datos según la etnia, pueblo o cultura"
      ],
      "metadata": {
        "id": "KcnM1N_sOhQ9"
      }
    },
    {
      "cell_type": "markdown",
      "source": [
        "Después se representan los datos de las etnias/culturas tanto de los niños como de los abuelos en un gráfico de barras comparativo."
      ],
      "metadata": {
        "id": "HNrK88MQr8d4"
      }
    },
    {
      "cell_type": "code",
      "source": [
        "# Group the data by etnicity/culture\n",
        "etnicities = data.groupby(['Etnicity/Culture','Type'], as_index=False)['Gender'].count()\n",
        "etnicities.rename(columns={'Gender':'Quantity'},inplace=True)"
      ],
      "metadata": {
        "id": "HFtioVCdOnN3"
      },
      "execution_count": null,
      "outputs": []
    },
    {
      "cell_type": "code",
      "source": [
        "# Categorical barplot for the different etnicities\n",
        "sb.set(font_scale=1)\n",
        "culture_graph = sb.catplot(x=\"Etnicity/Culture\",y=\"Quantity\",row=\"Type\",\n",
        "                           data=etnicities,kind=\"bar\",height=4,aspect=.7,\n",
        "                           palette='viridis')\n",
        "plt.gcf().set_size_inches(10, 10)\n",
        "plt.xticks(\n",
        "    rotation=45, \n",
        "    horizontalalignment='right'  \n",
        ")\n",
        "\n",
        "for ax in culture_graph.axes.ravel():    \n",
        "    for c in ax.containers:\n",
        "        labels = [f'{v.get_height()}' for v in c]\n",
        "        ax.bar_label(c, labels=labels, label_type='edge')\n",
        "    ax.margins(y=0.2)"
      ],
      "metadata": {
        "colab": {
          "base_uri": "https://localhost:8080/",
          "height": 759
        },
        "id": "A62KDHUGO4m0",
        "outputId": "0d8ba570-6906-46bd-c431-62753f6b9243"
      },
      "execution_count": null,
      "outputs": [
        {
          "output_type": "display_data",
          "data": {
            "text/plain": [
              "<Figure size 720x720 with 2 Axes>"
            ],
            "image/png": "[encoded data removed]"
          },
          "metadata": {}
        }
      ]
    },
    {
      "cell_type": "markdown",
      "source": [
        "Se aprecia que la mayoría de abuelos y niños no pertenecen a una etnia o cultura en específico y que en los datos hay muy poca representación de otras etnias y culturas."
      ],
      "metadata": {
        "id": "Jjd3dGE-tdBz"
      }
    },
    {
      "cell_type": "markdown",
      "source": [
        "###Análisis de datos por hogares"
      ],
      "metadata": {
        "id": "mKM5BO4LPImM"
      }
    },
    {
      "cell_type": "markdown",
      "source": [
        "Ahora se analizarán los datos de los hogares donde viven los abuelos y los niños."
      ],
      "metadata": {
        "id": "_qPEpg6ruh_4"
      }
    },
    {
      "cell_type": "markdown",
      "source": [
        "Se observa una muestra del conjunto de datos de los niños que se analizará y un resumen de las variables cualitativas de este: "
      ],
      "metadata": {
        "id": "GUyg3HAKvwN4"
      }
    },
    {
      "cell_type": "code",
      "source": [
        "# Get the information of every home where a kid lives\n",
        "kids_home = pd.merge(all_kids_df,home_life_conditions_df[['DIRECTORIO',\n",
        "                                                           'SECUENCIA_ENCUESTA',\n",
        "                                                           'P9010','P5230',\n",
        "                                                           'P1075']],how='inner',\n",
        "                      left_on=['DIRECTORIO','SECUENCIA_P'],\n",
        "                      right_on=['DIRECTORIO','SECUENCIA_ENCUESTA'])[['DIRECTORIO',\n",
        "                                                                     'P9010',\n",
        "                                                                     'P5230',\n",
        "                                                                     'P1075']]\n",
        "kids_home = kids_home[['DIRECTORIO','P9010','P5230','P1075']]\n",
        "kids_home.drop_duplicates(subset=['DIRECTORIO'],inplace=True)\n",
        "kids_home.drop(columns=['DIRECTORIO'],inplace=True)\n",
        "kids_home_type = ['Kids' for i in kids_home['P9010']]\n",
        "kids_home['Type'] = kids_home_type\n",
        "kids_home.rename(columns={'P9010':'Security','P5230':'Poverty',\n",
        "                           'P1075':'Internet'},inplace=True)\n",
        "kids_home['Security'].replace({1:'Secure',2:'Insecure'},inplace=True)\n",
        "kids_home['Poverty'].replace({1:'Yes',2:'No'},inplace=True)\n",
        "kids_home['Internet'].replace({1:'Yes',2:'No'},inplace=True)\n",
        "kids_home.head()"
      ],
      "metadata": {
        "colab": {
          "base_uri": "https://localhost:8080/",
          "height": 206
        },
        "id": "eh-YLUFAPHBP",
        "outputId": "f5e49926-4dc3-465d-89f3-21a8777978df"
      },
      "execution_count": null,
      "outputs": [
        {
          "output_type": "execute_result",
          "data": {
            "text/plain": [
              "   Security Poverty Internet  Type\n",
              "0    Secure     Yes      Yes  Kids\n",
              "1    Secure     Yes      Yes  Kids\n",
              "2  Insecure     Yes      Yes  Kids\n",
              "3    Secure      No      Yes  Kids\n",
              "4    Secure      No       No  Kids"
            ],
            "text/html": [
              "\n",
              "  <div id=\"df-5ec54086-857d-461c-87ec-48ce5f6418e1\">\n",
              "    <div class=\"colab-df-container\">\n",
              "      <div>\n",
              "<style scoped>\n",
              "    .dataframe tbody tr th:only-of-type {\n",
              "        vertical-align: middle;\n",
              "    }\n",
              "\n",
              "    .dataframe tbody tr th {\n",
              "        vertical-align: top;\n",
              "    }\n",
              "\n",
              "    .dataframe thead th {\n",
              "        text-align: right;\n",
              "    }\n",
              "</style>\n",
              "<table border=\"1\" class=\"dataframe\">\n",
              "  <thead>\n",
              "    <tr style=\"text-align: right;\">\n",
              "      <th></th>\n",
              "      <th>Security</th>\n",
              "      <th>Poverty</th>\n",
              "      <th>Internet</th>\n",
              "      <th>Type</th>\n",
              "    </tr>\n",
              "  </thead>\n",
              "  <tbody>\n",
              "    <tr>\n",
              "      <th>0</th>\n",
              "      <td>Secure</td>\n",
              "      <td>Yes</td>\n",
              "      <td>Yes</td>\n",
              "      <td>Kids</td>\n",
              "    </tr>\n",
              "    <tr>\n",
              "      <th>1</th>\n",
              "      <td>Secure</td>\n",
              "      <td>Yes</td>\n",
              "      <td>Yes</td>\n",
              "      <td>Kids</td>\n",
              "    </tr>\n",
              "    <tr>\n",
              "      <th>2</th>\n",
              "      <td>Insecure</td>\n",
              "      <td>Yes</td>\n",
              "      <td>Yes</td>\n",
              "      <td>Kids</td>\n",
              "    </tr>\n",
              "    <tr>\n",
              "      <th>3</th>\n",
              "      <td>Secure</td>\n",
              "      <td>No</td>\n",
              "      <td>Yes</td>\n",
              "      <td>Kids</td>\n",
              "    </tr>\n",
              "    <tr>\n",
              "      <th>4</th>\n",
              "      <td>Secure</td>\n",
              "      <td>No</td>\n",
              "      <td>No</td>\n",
              "      <td>Kids</td>\n",
              "    </tr>\n",
              "  </tbody>\n",
              "</table>\n",
              "</div>\n",
              "      <button class=\"colab-df-convert\" onclick=\"convertToInteractive('df-5ec54086-857d-461c-87ec-48ce5f6418e1')\"\n",
              "              title=\"Convert this dataframe to an interactive table.\"\n",
              "              style=\"display:none;\">\n",
              "        \n",
              "  <svg xmlns=\"http://www.w3.org/2000/svg\" height=\"24px\"viewBox=\"0 0 24 24\"\n",
              "       width=\"24px\">\n",
              "    <path d=\"M0 0h24v24H0V0z\" fill=\"none\"/>\n",
              "    <path d=\"M18.56 5.44l.94 2.06.94-2.06 2.06-.94-2.06-.94-.94-2.06-.94 2.06-2.06.94zm-11 1L8.5 8.5l.94-2.06 2.06-.94-2.06-.94L8.5 2.5l-.94 2.06-2.06.94zm10 10l.94 2.06.94-2.06 2.06-.94-2.06-.94-.94-2.06-.94 2.06-2.06.94z\"/><path d=\"M17.41 7.96l-1.37-1.37c-.4-.4-.92-.59-1.43-.59-.52 0-1.04.2-1.43.59L10.3 9.45l-7.72 7.72c-.78.78-.78 2.05 0 2.83L4 21.41c.39.39.9.59 1.41.59.51 0 1.02-.2 1.41-.59l7.78-7.78 2.81-2.81c.8-.78.8-2.07 0-2.86zM5.41 20L4 18.59l7.72-7.72 1.47 1.35L5.41 20z\"/>\n",
              "  </svg>\n",
              "      </button>\n",
              "      \n",
              "  <style>\n",
              "    .colab-df-container {\n",
              "      display:flex;\n",
              "      flex-wrap:wrap;\n",
              "      gap: 12px;\n",
              "    }\n",
              "\n",
              "    .colab-df-convert {\n",
              "      background-color: #E8F0FE;\n",
              "      border: none;\n",
              "      border-radius: 50%;\n",
              "      cursor: pointer;\n",
              "      display: none;\n",
              "      fill: #1967D2;\n",
              "      height: 32px;\n",
              "      padding: 0 0 0 0;\n",
              "      width: 32px;\n",
              "    }\n",
              "\n",
              "    .colab-df-convert:hover {\n",
              "      background-color: #E2EBFA;\n",
              "      box-shadow: 0px 1px 2px rgba(60, 64, 67, 0.3), 0px 1px 3px 1px rgba(60, 64, 67, 0.15);\n",
              "      fill: #174EA6;\n",
              "    }\n",
              "\n",
              "    [theme=dark] .colab-df-convert {\n",
              "      background-color: #3B4455;\n",
              "      fill: #D2E3FC;\n",
              "    }\n",
              "\n",
              "    [theme=dark] .colab-df-convert:hover {\n",
              "      background-color: #434B5C;\n",
              "      box-shadow: 0px 1px 3px 1px rgba(0, 0, 0, 0.15);\n",
              "      filter: drop-shadow(0px 1px 2px rgba(0, 0, 0, 0.3));\n",
              "      fill: #FFFFFF;\n",
              "    }\n",
              "  </style>\n",
              "\n",
              "      <script>\n",
              "        const buttonEl =\n",
              "          document.querySelector('#df-5ec54086-857d-461c-87ec-48ce5f6418e1 button.colab-df-convert');\n",
              "        buttonEl.style.display =\n",
              "          google.colab.kernel.accessAllowed ? 'block' : 'none';\n",
              "\n",
              "        async function convertToInteractive(key) {\n",
              "          const element = document.querySelector('#df-5ec54086-857d-461c-87ec-48ce5f6418e1');\n",
              "          const dataTable =\n",
              "            await google.colab.kernel.invokeFunction('convertToInteractive',\n",
              "                                                     [key], {});\n",
              "          if (!dataTable) return;\n",
              "\n",
              "          const docLinkHtml = 'Like what you see? Visit the ' +\n",
              "            '<a target=\"_blank\" href=https://colab.research.google.com/notebooks/data_table.ipynb>data table notebook</a>'\n",
              "            + ' to learn more about interactive tables.';\n",
              "          element.innerHTML = '';\n",
              "          dataTable['output_type'] = 'display_data';\n",
              "          await google.colab.output.renderOutput(dataTable, element);\n",
              "          const docLink = document.createElement('div');\n",
              "          docLink.innerHTML = docLinkHtml;\n",
              "          element.appendChild(docLink);\n",
              "        }\n",
              "      </script>\n",
              "    </div>\n",
              "  </div>\n",
              "  "
            ]
          },
          "metadata": {},
          "execution_count": 88
        }
      ]
    },
    {
      "cell_type": "code",
      "source": [
        "# Show information of the different variables to analyze\n",
        "kids_home.describe()"
      ],
      "metadata": {
        "colab": {
          "base_uri": "https://localhost:8080/",
          "height": 175
        },
        "id": "eRv3QQzBSSel",
        "outputId": "971c69f1-5ed9-4c59-d917-731185c72f0f"
      },
      "execution_count": null,
      "outputs": [
        {
          "output_type": "execute_result",
          "data": {
            "text/plain": [
              "       Security Poverty Internet   Type\n",
              "count     16174   16174    16174  16174\n",
              "unique        2       2        2      1\n",
              "top      Secure     Yes       No   Kids\n",
              "freq      13941    8552     9025  16174"
            ],
            "text/html": [
              "\n",
              "  <div id=\"df-57ebe483-fc1f-4bf0-846e-f47e1b963973\">\n",
              "    <div class=\"colab-df-container\">\n",
              "      <div>\n",
              "<style scoped>\n",
              "    .dataframe tbody tr th:only-of-type {\n",
              "        vertical-align: middle;\n",
              "    }\n",
              "\n",
              "    .dataframe tbody tr th {\n",
              "        vertical-align: top;\n",
              "    }\n",
              "\n",
              "    .dataframe thead th {\n",
              "        text-align: right;\n",
              "    }\n",
              "</style>\n",
              "<table border=\"1\" class=\"dataframe\">\n",
              "  <thead>\n",
              "    <tr style=\"text-align: right;\">\n",
              "      <th></th>\n",
              "      <th>Security</th>\n",
              "      <th>Poverty</th>\n",
              "      <th>Internet</th>\n",
              "      <th>Type</th>\n",
              "    </tr>\n",
              "  </thead>\n",
              "  <tbody>\n",
              "    <tr>\n",
              "      <th>count</th>\n",
              "      <td>16174</td>\n",
              "      <td>16174</td>\n",
              "      <td>16174</td>\n",
              "      <td>16174</td>\n",
              "    </tr>\n",
              "    <tr>\n",
              "      <th>unique</th>\n",
              "      <td>2</td>\n",
              "      <td>2</td>\n",
              "      <td>2</td>\n",
              "      <td>1</td>\n",
              "    </tr>\n",
              "    <tr>\n",
              "      <th>top</th>\n",
              "      <td>Secure</td>\n",
              "      <td>Yes</td>\n",
              "      <td>No</td>\n",
              "      <td>Kids</td>\n",
              "    </tr>\n",
              "    <tr>\n",
              "      <th>freq</th>\n",
              "      <td>13941</td>\n",
              "      <td>8552</td>\n",
              "      <td>9025</td>\n",
              "      <td>16174</td>\n",
              "    </tr>\n",
              "  </tbody>\n",
              "</table>\n",
              "</div>\n",
              "      <button class=\"colab-df-convert\" onclick=\"convertToInteractive('df-57ebe483-fc1f-4bf0-846e-f47e1b963973')\"\n",
              "              title=\"Convert this dataframe to an interactive table.\"\n",
              "              style=\"display:none;\">\n",
              "        \n",
              "  <svg xmlns=\"http://www.w3.org/2000/svg\" height=\"24px\"viewBox=\"0 0 24 24\"\n",
              "       width=\"24px\">\n",
              "    <path d=\"M0 0h24v24H0V0z\" fill=\"none\"/>\n",
              "    <path d=\"M18.56 5.44l.94 2.06.94-2.06 2.06-.94-2.06-.94-.94-2.06-.94 2.06-2.06.94zm-11 1L8.5 8.5l.94-2.06 2.06-.94-2.06-.94L8.5 2.5l-.94 2.06-2.06.94zm10 10l.94 2.06.94-2.06 2.06-.94-2.06-.94-.94-2.06-.94 2.06-2.06.94z\"/><path d=\"M17.41 7.96l-1.37-1.37c-.4-.4-.92-.59-1.43-.59-.52 0-1.04.2-1.43.59L10.3 9.45l-7.72 7.72c-.78.78-.78 2.05 0 2.83L4 21.41c.39.39.9.59 1.41.59.51 0 1.02-.2 1.41-.59l7.78-7.78 2.81-2.81c.8-.78.8-2.07 0-2.86zM5.41 20L4 18.59l7.72-7.72 1.47 1.35L5.41 20z\"/>\n",
              "  </svg>\n",
              "      </button>\n",
              "      \n",
              "  <style>\n",
              "    .colab-df-container {\n",
              "      display:flex;\n",
              "      flex-wrap:wrap;\n",
              "      gap: 12px;\n",
              "    }\n",
              "\n",
              "    .colab-df-convert {\n",
              "      background-color: #E8F0FE;\n",
              "      border: none;\n",
              "      border-radius: 50%;\n",
              "      cursor: pointer;\n",
              "      display: none;\n",
              "      fill: #1967D2;\n",
              "      height: 32px;\n",
              "      padding: 0 0 0 0;\n",
              "      width: 32px;\n",
              "    }\n",
              "\n",
              "    .colab-df-convert:hover {\n",
              "      background-color: #E2EBFA;\n",
              "      box-shadow: 0px 1px 2px rgba(60, 64, 67, 0.3), 0px 1px 3px 1px rgba(60, 64, 67, 0.15);\n",
              "      fill: #174EA6;\n",
              "    }\n",
              "\n",
              "    [theme=dark] .colab-df-convert {\n",
              "      background-color: #3B4455;\n",
              "      fill: #D2E3FC;\n",
              "    }\n",
              "\n",
              "    [theme=dark] .colab-df-convert:hover {\n",
              "      background-color: #434B5C;\n",
              "      box-shadow: 0px 1px 3px 1px rgba(0, 0, 0, 0.15);\n",
              "      filter: drop-shadow(0px 1px 2px rgba(0, 0, 0, 0.3));\n",
              "      fill: #FFFFFF;\n",
              "    }\n",
              "  </style>\n",
              "\n",
              "      <script>\n",
              "        const buttonEl =\n",
              "          document.querySelector('#df-57ebe483-fc1f-4bf0-846e-f47e1b963973 button.colab-df-convert');\n",
              "        buttonEl.style.display =\n",
              "          google.colab.kernel.accessAllowed ? 'block' : 'none';\n",
              "\n",
              "        async function convertToInteractive(key) {\n",
              "          const element = document.querySelector('#df-57ebe483-fc1f-4bf0-846e-f47e1b963973');\n",
              "          const dataTable =\n",
              "            await google.colab.kernel.invokeFunction('convertToInteractive',\n",
              "                                                     [key], {});\n",
              "          if (!dataTable) return;\n",
              "\n",
              "          const docLinkHtml = 'Like what you see? Visit the ' +\n",
              "            '<a target=\"_blank\" href=https://colab.research.google.com/notebooks/data_table.ipynb>data table notebook</a>'\n",
              "            + ' to learn more about interactive tables.';\n",
              "          element.innerHTML = '';\n",
              "          dataTable['output_type'] = 'display_data';\n",
              "          await google.colab.output.renderOutput(dataTable, element);\n",
              "          const docLink = document.createElement('div');\n",
              "          docLink.innerHTML = docLinkHtml;\n",
              "          element.appendChild(docLink);\n",
              "        }\n",
              "      </script>\n",
              "    </div>\n",
              "  </div>\n",
              "  "
            ]
          },
          "metadata": {},
          "execution_count": 89
        }
      ]
    },
    {
      "cell_type": "markdown",
      "source": [
        "Se aprecia que la gran parte de los hogares encuestados considera que están seguros, que se encuentran en la pobreza y dicen no tener internet."
      ],
      "metadata": {
        "id": "jWaBEvJnw_2X"
      }
    },
    {
      "cell_type": "markdown",
      "source": [
        "Luego se observa una muestra del conjunto de datos de los abuelos que se analizará y un resumen de las variables cualitativas de este: "
      ],
      "metadata": {
        "id": "P_q_dQrvx7Rh"
      }
    },
    {
      "cell_type": "code",
      "source": [
        "# Get the information of every home where a grandparent lives\n",
        "grandparents_info = pd.merge(home_composition_df,grandparents_df,how='inner',\n",
        "                               left_on=['DIRECTORIO','SECUENCIA_P',\n",
        "                                        'SECUENCIA_ENCUESTA'],\n",
        "                               right_on=['DIRECTORY','SEQ_P','SEQ_SURVEY'])\n",
        "grandparents_home = pd.merge(grandparents_info,home_life_conditions_df[['DIRECTORIO',\n",
        "                                                                   'SECUENCIA_ENCUESTA',\n",
        "                                                                   'P9010',\n",
        "                                                                   'P5230',\n",
        "                                                                   'P1075']],\n",
        "                        how='inner',left_on=['DIRECTORIO','SECUENCIA_P'],\n",
        "                        right_on=['DIRECTORIO','SECUENCIA_ENCUESTA'])[['DIRECTORIO',\n",
        "                                                                     'P9010',\n",
        "                                                                     'P5230',\n",
        "                                                                     'P1075']]\n",
        "\n",
        "grandparents_home.drop_duplicates(subset=['DIRECTORIO'],inplace=True)\n",
        "grandparents_home.drop(columns=['DIRECTORIO'],inplace=True)\n",
        "grandparents_home_type = ['Grandparents' for i in grandparents_home['P9010']]\n",
        "grandparents_home['Type'] = grandparents_home_type\n",
        "grandparents_home.rename(columns={'P9010':'Security','P5230':'Poverty',\n",
        "                           'P1075':'Internet'},inplace=True)\n",
        "grandparents_home['Security'].replace({1:'Secure',2:'Insecure'},inplace=True)\n",
        "grandparents_home['Poverty'].replace({1:'Yes',2:'No'},inplace=True)\n",
        "grandparents_home['Internet'].replace({1:'Yes',2:'No'},inplace=True)\n",
        "grandparents_home.head()"
      ],
      "metadata": {
        "colab": {
          "base_uri": "https://localhost:8080/",
          "height": 206
        },
        "id": "rqDWLt7XSnY6",
        "outputId": "a63259c1-ffb6-4ca5-ea52-2416ac0291d8"
      },
      "execution_count": null,
      "outputs": [
        {
          "output_type": "execute_result",
          "data": {
            "text/plain": [
              "  Security Poverty Internet          Type\n",
              "0   Secure      No      Yes  Grandparents\n",
              "3   Secure     Yes      Yes  Grandparents\n",
              "4   Secure      No      Yes  Grandparents\n",
              "5   Secure      No       No  Grandparents\n",
              "6   Secure      No      Yes  Grandparents"
            ],
            "text/html": [
              "\n",
              "  <div id=\"df-ff9dc439-fbf2-45a7-a4f3-a68627e9b0fb\">\n",
              "    <div class=\"colab-df-container\">\n",
              "      <div>\n",
              "<style scoped>\n",
              "    .dataframe tbody tr th:only-of-type {\n",
              "        vertical-align: middle;\n",
              "    }\n",
              "\n",
              "    .dataframe tbody tr th {\n",
              "        vertical-align: top;\n",
              "    }\n",
              "\n",
              "    .dataframe thead th {\n",
              "        text-align: right;\n",
              "    }\n",
              "</style>\n",
              "<table border=\"1\" class=\"dataframe\">\n",
              "  <thead>\n",
              "    <tr style=\"text-align: right;\">\n",
              "      <th></th>\n",
              "      <th>Security</th>\n",
              "      <th>Poverty</th>\n",
              "      <th>Internet</th>\n",
              "      <th>Type</th>\n",
              "    </tr>\n",
              "  </thead>\n",
              "  <tbody>\n",
              "    <tr>\n",
              "      <th>0</th>\n",
              "      <td>Secure</td>\n",
              "      <td>No</td>\n",
              "      <td>Yes</td>\n",
              "      <td>Grandparents</td>\n",
              "    </tr>\n",
              "    <tr>\n",
              "      <th>3</th>\n",
              "      <td>Secure</td>\n",
              "      <td>Yes</td>\n",
              "      <td>Yes</td>\n",
              "      <td>Grandparents</td>\n",
              "    </tr>\n",
              "    <tr>\n",
              "      <th>4</th>\n",
              "      <td>Secure</td>\n",
              "      <td>No</td>\n",
              "      <td>Yes</td>\n",
              "      <td>Grandparents</td>\n",
              "    </tr>\n",
              "    <tr>\n",
              "      <th>5</th>\n",
              "      <td>Secure</td>\n",
              "      <td>No</td>\n",
              "      <td>No</td>\n",
              "      <td>Grandparents</td>\n",
              "    </tr>\n",
              "    <tr>\n",
              "      <th>6</th>\n",
              "      <td>Secure</td>\n",
              "      <td>No</td>\n",
              "      <td>Yes</td>\n",
              "      <td>Grandparents</td>\n",
              "    </tr>\n",
              "  </tbody>\n",
              "</table>\n",
              "</div>\n",
              "      <button class=\"colab-df-convert\" onclick=\"convertToInteractive('df-ff9dc439-fbf2-45a7-a4f3-a68627e9b0fb')\"\n",
              "              title=\"Convert this dataframe to an interactive table.\"\n",
              "              style=\"display:none;\">\n",
              "        \n",
              "  <svg xmlns=\"http://www.w3.org/2000/svg\" height=\"24px\"viewBox=\"0 0 24 24\"\n",
              "       width=\"24px\">\n",
              "    <path d=\"M0 0h24v24H0V0z\" fill=\"none\"/>\n",
              "    <path d=\"M18.56 5.44l.94 2.06.94-2.06 2.06-.94-2.06-.94-.94-2.06-.94 2.06-2.06.94zm-11 1L8.5 8.5l.94-2.06 2.06-.94-2.06-.94L8.5 2.5l-.94 2.06-2.06.94zm10 10l.94 2.06.94-2.06 2.06-.94-2.06-.94-.94-2.06-.94 2.06-2.06.94z\"/><path d=\"M17.41 7.96l-1.37-1.37c-.4-.4-.92-.59-1.43-.59-.52 0-1.04.2-1.43.59L10.3 9.45l-7.72 7.72c-.78.78-.78 2.05 0 2.83L4 21.41c.39.39.9.59 1.41.59.51 0 1.02-.2 1.41-.59l7.78-7.78 2.81-2.81c.8-.78.8-2.07 0-2.86zM5.41 20L4 18.59l7.72-7.72 1.47 1.35L5.41 20z\"/>\n",
              "  </svg>\n",
              "      </button>\n",
              "      \n",
              "  <style>\n",
              "    .colab-df-container {\n",
              "      display:flex;\n",
              "      flex-wrap:wrap;\n",
              "      gap: 12px;\n",
              "    }\n",
              "\n",
              "    .colab-df-convert {\n",
              "      background-color: #E8F0FE;\n",
              "      border: none;\n",
              "      border-radius: 50%;\n",
              "      cursor: pointer;\n",
              "      display: none;\n",
              "      fill: #1967D2;\n",
              "      height: 32px;\n",
              "      padding: 0 0 0 0;\n",
              "      width: 32px;\n",
              "    }\n",
              "\n",
              "    .colab-df-convert:hover {\n",
              "      background-color: #E2EBFA;\n",
              "      box-shadow: 0px 1px 2px rgba(60, 64, 67, 0.3), 0px 1px 3px 1px rgba(60, 64, 67, 0.15);\n",
              "      fill: #174EA6;\n",
              "    }\n",
              "\n",
              "    [theme=dark] .colab-df-convert {\n",
              "      background-color: #3B4455;\n",
              "      fill: #D2E3FC;\n",
              "    }\n",
              "\n",
              "    [theme=dark] .colab-df-convert:hover {\n",
              "      background-color: #434B5C;\n",
              "      box-shadow: 0px 1px 3px 1px rgba(0, 0, 0, 0.15);\n",
              "      filter: drop-shadow(0px 1px 2px rgba(0, 0, 0, 0.3));\n",
              "      fill: #FFFFFF;\n",
              "    }\n",
              "  </style>\n",
              "\n",
              "      <script>\n",
              "        const buttonEl =\n",
              "          document.querySelector('#df-ff9dc439-fbf2-45a7-a4f3-a68627e9b0fb button.colab-df-convert');\n",
              "        buttonEl.style.display =\n",
              "          google.colab.kernel.accessAllowed ? 'block' : 'none';\n",
              "\n",
              "        async function convertToInteractive(key) {\n",
              "          const element = document.querySelector('#df-ff9dc439-fbf2-45a7-a4f3-a68627e9b0fb');\n",
              "          const dataTable =\n",
              "            await google.colab.kernel.invokeFunction('convertToInteractive',\n",
              "                                                     [key], {});\n",
              "          if (!dataTable) return;\n",
              "\n",
              "          const docLinkHtml = 'Like what you see? Visit the ' +\n",
              "            '<a target=\"_blank\" href=https://colab.research.google.com/notebooks/data_table.ipynb>data table notebook</a>'\n",
              "            + ' to learn more about interactive tables.';\n",
              "          element.innerHTML = '';\n",
              "          dataTable['output_type'] = 'display_data';\n",
              "          await google.colab.output.renderOutput(dataTable, element);\n",
              "          const docLink = document.createElement('div');\n",
              "          docLink.innerHTML = docLinkHtml;\n",
              "          element.appendChild(docLink);\n",
              "        }\n",
              "      </script>\n",
              "    </div>\n",
              "  </div>\n",
              "  "
            ]
          },
          "metadata": {},
          "execution_count": 90
        }
      ]
    },
    {
      "cell_type": "code",
      "source": [
        "# Show information of the different variables to analyze\n",
        "grandparents_home.describe()"
      ],
      "metadata": {
        "colab": {
          "base_uri": "https://localhost:8080/",
          "height": 175
        },
        "id": "uU-2C_nAT4y0",
        "outputId": "a7c33f1d-695b-48cc-fbca-580b122ffedc"
      },
      "execution_count": null,
      "outputs": [
        {
          "output_type": "execute_result",
          "data": {
            "text/plain": [
              "       Security Poverty Internet          Type\n",
              "count     11721   11721    11721         11721\n",
              "unique        2       2        2             1\n",
              "top      Secure     Yes       No  Grandparents\n",
              "freq      10019    6154     6389         11721"
            ],
            "text/html": [
              "\n",
              "  <div id=\"df-109873a0-5ae2-4001-96d9-8bd1d1d8d0fd\">\n",
              "    <div class=\"colab-df-container\">\n",
              "      <div>\n",
              "<style scoped>\n",
              "    .dataframe tbody tr th:only-of-type {\n",
              "        vertical-align: middle;\n",
              "    }\n",
              "\n",
              "    .dataframe tbody tr th {\n",
              "        vertical-align: top;\n",
              "    }\n",
              "\n",
              "    .dataframe thead th {\n",
              "        text-align: right;\n",
              "    }\n",
              "</style>\n",
              "<table border=\"1\" class=\"dataframe\">\n",
              "  <thead>\n",
              "    <tr style=\"text-align: right;\">\n",
              "      <th></th>\n",
              "      <th>Security</th>\n",
              "      <th>Poverty</th>\n",
              "      <th>Internet</th>\n",
              "      <th>Type</th>\n",
              "    </tr>\n",
              "  </thead>\n",
              "  <tbody>\n",
              "    <tr>\n",
              "      <th>count</th>\n",
              "      <td>11721</td>\n",
              "      <td>11721</td>\n",
              "      <td>11721</td>\n",
              "      <td>11721</td>\n",
              "    </tr>\n",
              "    <tr>\n",
              "      <th>unique</th>\n",
              "      <td>2</td>\n",
              "      <td>2</td>\n",
              "      <td>2</td>\n",
              "      <td>1</td>\n",
              "    </tr>\n",
              "    <tr>\n",
              "      <th>top</th>\n",
              "      <td>Secure</td>\n",
              "      <td>Yes</td>\n",
              "      <td>No</td>\n",
              "      <td>Grandparents</td>\n",
              "    </tr>\n",
              "    <tr>\n",
              "      <th>freq</th>\n",
              "      <td>10019</td>\n",
              "      <td>6154</td>\n",
              "      <td>6389</td>\n",
              "      <td>11721</td>\n",
              "    </tr>\n",
              "  </tbody>\n",
              "</table>\n",
              "</div>\n",
              "      <button class=\"colab-df-convert\" onclick=\"convertToInteractive('df-109873a0-5ae2-4001-96d9-8bd1d1d8d0fd')\"\n",
              "              title=\"Convert this dataframe to an interactive table.\"\n",
              "              style=\"display:none;\">\n",
              "        \n",
              "  <svg xmlns=\"http://www.w3.org/2000/svg\" height=\"24px\"viewBox=\"0 0 24 24\"\n",
              "       width=\"24px\">\n",
              "    <path d=\"M0 0h24v24H0V0z\" fill=\"none\"/>\n",
              "    <path d=\"M18.56 5.44l.94 2.06.94-2.06 2.06-.94-2.06-.94-.94-2.06-.94 2.06-2.06.94zm-11 1L8.5 8.5l.94-2.06 2.06-.94-2.06-.94L8.5 2.5l-.94 2.06-2.06.94zm10 10l.94 2.06.94-2.06 2.06-.94-2.06-.94-.94-2.06-.94 2.06-2.06.94z\"/><path d=\"M17.41 7.96l-1.37-1.37c-.4-.4-.92-.59-1.43-.59-.52 0-1.04.2-1.43.59L10.3 9.45l-7.72 7.72c-.78.78-.78 2.05 0 2.83L4 21.41c.39.39.9.59 1.41.59.51 0 1.02-.2 1.41-.59l7.78-7.78 2.81-2.81c.8-.78.8-2.07 0-2.86zM5.41 20L4 18.59l7.72-7.72 1.47 1.35L5.41 20z\"/>\n",
              "  </svg>\n",
              "      </button>\n",
              "      \n",
              "  <style>\n",
              "    .colab-df-container {\n",
              "      display:flex;\n",
              "      flex-wrap:wrap;\n",
              "      gap: 12px;\n",
              "    }\n",
              "\n",
              "    .colab-df-convert {\n",
              "      background-color: #E8F0FE;\n",
              "      border: none;\n",
              "      border-radius: 50%;\n",
              "      cursor: pointer;\n",
              "      display: none;\n",
              "      fill: #1967D2;\n",
              "      height: 32px;\n",
              "      padding: 0 0 0 0;\n",
              "      width: 32px;\n",
              "    }\n",
              "\n",
              "    .colab-df-convert:hover {\n",
              "      background-color: #E2EBFA;\n",
              "      box-shadow: 0px 1px 2px rgba(60, 64, 67, 0.3), 0px 1px 3px 1px rgba(60, 64, 67, 0.15);\n",
              "      fill: #174EA6;\n",
              "    }\n",
              "\n",
              "    [theme=dark] .colab-df-convert {\n",
              "      background-color: #3B4455;\n",
              "      fill: #D2E3FC;\n",
              "    }\n",
              "\n",
              "    [theme=dark] .colab-df-convert:hover {\n",
              "      background-color: #434B5C;\n",
              "      box-shadow: 0px 1px 3px 1px rgba(0, 0, 0, 0.15);\n",
              "      filter: drop-shadow(0px 1px 2px rgba(0, 0, 0, 0.3));\n",
              "      fill: #FFFFFF;\n",
              "    }\n",
              "  </style>\n",
              "\n",
              "      <script>\n",
              "        const buttonEl =\n",
              "          document.querySelector('#df-109873a0-5ae2-4001-96d9-8bd1d1d8d0fd button.colab-df-convert');\n",
              "        buttonEl.style.display =\n",
              "          google.colab.kernel.accessAllowed ? 'block' : 'none';\n",
              "\n",
              "        async function convertToInteractive(key) {\n",
              "          const element = document.querySelector('#df-109873a0-5ae2-4001-96d9-8bd1d1d8d0fd');\n",
              "          const dataTable =\n",
              "            await google.colab.kernel.invokeFunction('convertToInteractive',\n",
              "                                                     [key], {});\n",
              "          if (!dataTable) return;\n",
              "\n",
              "          const docLinkHtml = 'Like what you see? Visit the ' +\n",
              "            '<a target=\"_blank\" href=https://colab.research.google.com/notebooks/data_table.ipynb>data table notebook</a>'\n",
              "            + ' to learn more about interactive tables.';\n",
              "          element.innerHTML = '';\n",
              "          dataTable['output_type'] = 'display_data';\n",
              "          await google.colab.output.renderOutput(dataTable, element);\n",
              "          const docLink = document.createElement('div');\n",
              "          docLink.innerHTML = docLinkHtml;\n",
              "          element.appendChild(docLink);\n",
              "        }\n",
              "      </script>\n",
              "    </div>\n",
              "  </div>\n",
              "  "
            ]
          },
          "metadata": {},
          "execution_count": 91
        }
      ]
    },
    {
      "cell_type": "markdown",
      "source": [
        "Se observa que la mayoría de los hogares en los que residen abuelos se encuentran en condiciones similares a los hogares en los que residen los niños."
      ],
      "metadata": {
        "id": "epAOZSFsyJPY"
      }
    },
    {
      "cell_type": "code",
      "source": [
        "# Concatenates the data\n",
        "data_home = pd.concat([kids_home,grandparents_home])\n",
        "data_home"
      ],
      "metadata": {
        "colab": {
          "base_uri": "https://localhost:8080/",
          "height": 423
        },
        "id": "01tleSIdT9E2",
        "outputId": "0f03cfa1-5974-4503-a63b-252c4fad5e44"
      },
      "execution_count": null,
      "outputs": [
        {
          "output_type": "execute_result",
          "data": {
            "text/plain": [
              "       Security Poverty Internet          Type\n",
              "0        Secure     Yes      Yes          Kids\n",
              "1        Secure     Yes      Yes          Kids\n",
              "2      Insecure     Yes      Yes          Kids\n",
              "3        Secure      No      Yes          Kids\n",
              "4        Secure      No       No          Kids\n",
              "...         ...     ...      ...           ...\n",
              "17074    Secure     Yes       No  Grandparents\n",
              "17075    Secure     Yes       No  Grandparents\n",
              "17076    Secure     Yes       No  Grandparents\n",
              "17077    Secure     Yes       No  Grandparents\n",
              "17079    Secure     Yes       No  Grandparents\n",
              "\n",
              "[27895 rows x 4 columns]"
            ],
            "text/html": [
              "\n",
              "  <div id=\"df-3bc3bea3-f594-4e09-9e64-3e55c3ed2ba4\">\n",
              "    <div class=\"colab-df-container\">\n",
              "      <div>\n",
              "<style scoped>\n",
              "    .dataframe tbody tr th:only-of-type {\n",
              "        vertical-align: middle;\n",
              "    }\n",
              "\n",
              "    .dataframe tbody tr th {\n",
              "        vertical-align: top;\n",
              "    }\n",
              "\n",
              "    .dataframe thead th {\n",
              "        text-align: right;\n",
              "    }\n",
              "</style>\n",
              "<table border=\"1\" class=\"dataframe\">\n",
              "  <thead>\n",
              "    <tr style=\"text-align: right;\">\n",
              "      <th></th>\n",
              "      <th>Security</th>\n",
              "      <th>Poverty</th>\n",
              "      <th>Internet</th>\n",
              "      <th>Type</th>\n",
              "    </tr>\n",
              "  </thead>\n",
              "  <tbody>\n",
              "    <tr>\n",
              "      <th>0</th>\n",
              "      <td>Secure</td>\n",
              "      <td>Yes</td>\n",
              "      <td>Yes</td>\n",
              "      <td>Kids</td>\n",
              "    </tr>\n",
              "    <tr>\n",
              "      <th>1</th>\n",
              "      <td>Secure</td>\n",
              "      <td>Yes</td>\n",
              "      <td>Yes</td>\n",
              "      <td>Kids</td>\n",
              "    </tr>\n",
              "    <tr>\n",
              "      <th>2</th>\n",
              "      <td>Insecure</td>\n",
              "      <td>Yes</td>\n",
              "      <td>Yes</td>\n",
              "      <td>Kids</td>\n",
              "    </tr>\n",
              "    <tr>\n",
              "      <th>3</th>\n",
              "      <td>Secure</td>\n",
              "      <td>No</td>\n",
              "      <td>Yes</td>\n",
              "      <td>Kids</td>\n",
              "    </tr>\n",
              "    <tr>\n",
              "      <th>4</th>\n",
              "      <td>Secure</td>\n",
              "      <td>No</td>\n",
              "      <td>No</td>\n",
              "      <td>Kids</td>\n",
              "    </tr>\n",
              "    <tr>\n",
              "      <th>...</th>\n",
              "      <td>...</td>\n",
              "      <td>...</td>\n",
              "      <td>...</td>\n",
              "      <td>...</td>\n",
              "    </tr>\n",
              "    <tr>\n",
              "      <th>17074</th>\n",
              "      <td>Secure</td>\n",
              "      <td>Yes</td>\n",
              "      <td>No</td>\n",
              "      <td>Grandparents</td>\n",
              "    </tr>\n",
              "    <tr>\n",
              "      <th>17075</th>\n",
              "      <td>Secure</td>\n",
              "      <td>Yes</td>\n",
              "      <td>No</td>\n",
              "      <td>Grandparents</td>\n",
              "    </tr>\n",
              "    <tr>\n",
              "      <th>17076</th>\n",
              "      <td>Secure</td>\n",
              "      <td>Yes</td>\n",
              "      <td>No</td>\n",
              "      <td>Grandparents</td>\n",
              "    </tr>\n",
              "    <tr>\n",
              "      <th>17077</th>\n",
              "      <td>Secure</td>\n",
              "      <td>Yes</td>\n",
              "      <td>No</td>\n",
              "      <td>Grandparents</td>\n",
              "    </tr>\n",
              "    <tr>\n",
              "      <th>17079</th>\n",
              "      <td>Secure</td>\n",
              "      <td>Yes</td>\n",
              "      <td>No</td>\n",
              "      <td>Grandparents</td>\n",
              "    </tr>\n",
              "  </tbody>\n",
              "</table>\n",
              "<p>27895 rows × 4 columns</p>\n",
              "</div>\n",
              "      <button class=\"colab-df-convert\" onclick=\"convertToInteractive('df-3bc3bea3-f594-4e09-9e64-3e55c3ed2ba4')\"\n",
              "              title=\"Convert this dataframe to an interactive table.\"\n",
              "              style=\"display:none;\">\n",
              "        \n",
              "  <svg xmlns=\"http://www.w3.org/2000/svg\" height=\"24px\"viewBox=\"0 0 24 24\"\n",
              "       width=\"24px\">\n",
              "    <path d=\"M0 0h24v24H0V0z\" fill=\"none\"/>\n",
              "    <path d=\"M18.56 5.44l.94 2.06.94-2.06 2.06-.94-2.06-.94-.94-2.06-.94 2.06-2.06.94zm-11 1L8.5 8.5l.94-2.06 2.06-.94-2.06-.94L8.5 2.5l-.94 2.06-2.06.94zm10 10l.94 2.06.94-2.06 2.06-.94-2.06-.94-.94-2.06-.94 2.06-2.06.94z\"/><path d=\"M17.41 7.96l-1.37-1.37c-.4-.4-.92-.59-1.43-.59-.52 0-1.04.2-1.43.59L10.3 9.45l-7.72 7.72c-.78.78-.78 2.05 0 2.83L4 21.41c.39.39.9.59 1.41.59.51 0 1.02-.2 1.41-.59l7.78-7.78 2.81-2.81c.8-.78.8-2.07 0-2.86zM5.41 20L4 18.59l7.72-7.72 1.47 1.35L5.41 20z\"/>\n",
              "  </svg>\n",
              "      </button>\n",
              "      \n",
              "  <style>\n",
              "    .colab-df-container {\n",
              "      display:flex;\n",
              "      flex-wrap:wrap;\n",
              "      gap: 12px;\n",
              "    }\n",
              "\n",
              "    .colab-df-convert {\n",
              "      background-color: #E8F0FE;\n",
              "      border: none;\n",
              "      border-radius: 50%;\n",
              "      cursor: pointer;\n",
              "      display: none;\n",
              "      fill: #1967D2;\n",
              "      height: 32px;\n",
              "      padding: 0 0 0 0;\n",
              "      width: 32px;\n",
              "    }\n",
              "\n",
              "    .colab-df-convert:hover {\n",
              "      background-color: #E2EBFA;\n",
              "      box-shadow: 0px 1px 2px rgba(60, 64, 67, 0.3), 0px 1px 3px 1px rgba(60, 64, 67, 0.15);\n",
              "      fill: #174EA6;\n",
              "    }\n",
              "\n",
              "    [theme=dark] .colab-df-convert {\n",
              "      background-color: #3B4455;\n",
              "      fill: #D2E3FC;\n",
              "    }\n",
              "\n",
              "    [theme=dark] .colab-df-convert:hover {\n",
              "      background-color: #434B5C;\n",
              "      box-shadow: 0px 1px 3px 1px rgba(0, 0, 0, 0.15);\n",
              "      filter: drop-shadow(0px 1px 2px rgba(0, 0, 0, 0.3));\n",
              "      fill: #FFFFFF;\n",
              "    }\n",
              "  </style>\n",
              "\n",
              "      <script>\n",
              "        const buttonEl =\n",
              "          document.querySelector('#df-3bc3bea3-f594-4e09-9e64-3e55c3ed2ba4 button.colab-df-convert');\n",
              "        buttonEl.style.display =\n",
              "          google.colab.kernel.accessAllowed ? 'block' : 'none';\n",
              "\n",
              "        async function convertToInteractive(key) {\n",
              "          const element = document.querySelector('#df-3bc3bea3-f594-4e09-9e64-3e55c3ed2ba4');\n",
              "          const dataTable =\n",
              "            await google.colab.kernel.invokeFunction('convertToInteractive',\n",
              "                                                     [key], {});\n",
              "          if (!dataTable) return;\n",
              "\n",
              "          const docLinkHtml = 'Like what you see? Visit the ' +\n",
              "            '<a target=\"_blank\" href=https://colab.research.google.com/notebooks/data_table.ipynb>data table notebook</a>'\n",
              "            + ' to learn more about interactive tables.';\n",
              "          element.innerHTML = '';\n",
              "          dataTable['output_type'] = 'display_data';\n",
              "          await google.colab.output.renderOutput(dataTable, element);\n",
              "          const docLink = document.createElement('div');\n",
              "          docLink.innerHTML = docLinkHtml;\n",
              "          element.appendChild(docLink);\n",
              "        }\n",
              "      </script>\n",
              "    </div>\n",
              "  </div>\n",
              "  "
            ]
          },
          "metadata": {},
          "execution_count": 92
        }
      ]
    },
    {
      "cell_type": "markdown",
      "source": [
        "####Análisis de datos de sentimiento de seguridad"
      ],
      "metadata": {
        "id": "2RtFKdreYD_Y"
      }
    },
    {
      "cell_type": "markdown",
      "source": [
        "Ahora se representan los datos de sentimiento de seguridad en los hogares donde residen los niños por medio de un gráfico de barras comparativo."
      ],
      "metadata": {
        "id": "lBRvnv5DyrEp"
      }
    },
    {
      "cell_type": "code",
      "source": [
        "home_security = data_home.groupby(['Security','Type'], as_index=False)['Poverty'].count()\n",
        "home_security.rename(columns={'Poverty':\"Homes\"},inplace=True)\n",
        "home_security['Security'].replace({1:'Secure',2:'Insecure'},inplace=True)"
      ],
      "metadata": {
        "id": "Q1ElrTFaYPkR"
      },
      "execution_count": null,
      "outputs": []
    },
    {
      "cell_type": "code",
      "source": [
        "sb.set(font_scale=1)\n",
        "security_graph = sb.catplot(x=\"Security\",y=\"Homes\",col=\"Type\",data=home_security,\n",
        "                            kind=\"bar\",height=4,aspect=.7,palette='magma')\n",
        "\n",
        "plt.gcf().set_size_inches(10, 10)\n",
        "for ax in security_graph.axes.ravel():\n",
        "    # add annotations\n",
        "    for c in ax.containers:\n",
        "        labels = [f'{(v.get_height() / 1000):.1f}K' for v in c]\n",
        "        ax.bar_label(c, labels=labels, label_type='edge')\n",
        "    ax.margins(y=0.2)"
      ],
      "metadata": {
        "colab": {
          "base_uri": "https://localhost:8080/",
          "height": 607
        },
        "id": "la3OwdTEZNyU",
        "outputId": "3619a00d-424d-4566-9e43-d2b48b434d05"
      },
      "execution_count": null,
      "outputs": [
        {
          "output_type": "display_data",
          "data": {
            "text/plain": [
              "<Figure size 720x720 with 2 Axes>"
            ],
            "image/png": "[encoded data removed]"
          },
          "metadata": {}
        }
      ]
    },
    {
      "cell_type": "markdown",
      "source": [
        "Al analizar el gráfico se observa que la mayoría de hogares donde residen los abuelos y los niños se sienten seguros."
      ],
      "metadata": {
        "id": "3T_k5jHwzwej"
      }
    },
    {
      "cell_type": "markdown",
      "source": [
        "####Análisis de datos según sentimiento de pobreza"
      ],
      "metadata": {
        "id": "_NhSVYTiZiVO"
      }
    },
    {
      "cell_type": "markdown",
      "source": [
        "Luego representamos los datos de sentimiento de pobreza de hogares donde residen niños y abuelos por medio de un gráfico de barras comparativo."
      ],
      "metadata": {
        "id": "nT4rbrqm0NiB"
      }
    },
    {
      "cell_type": "code",
      "source": [
        "poverty = data_home.groupby(['Poverty','Type'],as_index=False)['Security'].count()\n",
        "poverty.rename(columns={'Security':\"Homes\"},inplace=True)\n",
        "poverty['Poverty'].replace({1:'Yes',2:'No'},inplace=True)"
      ],
      "metadata": {
        "id": "DEecEFYKZ2Oc"
      },
      "execution_count": null,
      "outputs": []
    },
    {
      "cell_type": "code",
      "source": [
        "sb.set(font_scale=1)\n",
        "poverty_graph = sb.catplot(x=\"Poverty\",y=\"Homes\",col=\"Type\",data=poverty,\n",
        "                            kind=\"bar\",height=4,aspect=.7,palette='magma')\n",
        "\n",
        "plt.gcf().set_size_inches(10, 10)\n",
        "for ax in poverty_graph.axes.ravel():   \n",
        "    # add annotations\n",
        "    for c in ax.containers:\n",
        "        labels = [f'{(v.get_height() / 1000):.1f}K' for v in c]\n",
        "        ax.bar_label(c, labels=labels, label_type='edge')\n",
        "    ax.margins(y=0.2)"
      ],
      "metadata": {
        "colab": {
          "base_uri": "https://localhost:8080/",
          "height": 607
        },
        "id": "63-YkEuVaE_9",
        "outputId": "44a97730-c4b0-4a08-8243-c09702c2eb81"
      },
      "execution_count": null,
      "outputs": [
        {
          "output_type": "display_data",
          "data": {
            "text/plain": [
              "<Figure size 720x720 with 2 Axes>"
            ],
            "image/png": "[encoded data removed]"
          },
          "metadata": {}
        }
      ]
    },
    {
      "cell_type": "markdown",
      "source": [
        "Se aprecia que la proporción de sentimiento de pobreza es similar tanto en los hogares donde residen niños como en los hogares donde residen abuelos, predominando los hogares que sienten que están en la pobreza."
      ],
      "metadata": {
        "id": "RT5xWoao0vPC"
      }
    },
    {
      "cell_type": "markdown",
      "source": [
        "####Análisis de datos según la tenencia de internet"
      ],
      "metadata": {
        "id": "wv2OmdNcaTJk"
      }
    },
    {
      "cell_type": "markdown",
      "source": [
        "Ahora se representan los datos sobre los hogares donde residen niños y abuelos que tienen internet."
      ],
      "metadata": {
        "id": "lcVhe-D81TGy"
      }
    },
    {
      "cell_type": "code",
      "source": [
        "internet = data_home.groupby(['Internet','Type'],as_index=False)['Security'].count()\n",
        "internet.rename(columns={'Security':\"Homes\"},inplace=True)\n",
        "internet['Internet'].replace({1:'Yes',2:'No'},inplace=True)"
      ],
      "metadata": {
        "id": "9mxnBtJdadAd"
      },
      "execution_count": null,
      "outputs": []
    },
    {
      "cell_type": "code",
      "source": [
        "sb.set(font_scale=1)\n",
        "internet_graph = sb.catplot(x=\"Internet\",y=\"Homes\",col=\"Type\",data=internet,\n",
        "                            kind=\"bar\",height=4,aspect=.7,palette='magma')\n",
        "\n",
        "plt.gcf().set_size_inches(10, 10)\n",
        "for ax in internet_graph.axes.ravel():   \n",
        "    # add annotations\n",
        "    for c in ax.containers:\n",
        "        labels = [f'{(v.get_height() / 1000):.1f}K' for v in c]\n",
        "        ax.bar_label(c, labels=labels, label_type='edge')\n",
        "    ax.margins(y=0.2)"
      ],
      "metadata": {
        "colab": {
          "base_uri": "https://localhost:8080/",
          "height": 607
        },
        "id": "H-MrPwxRa43D",
        "outputId": "cb76e335-4837-4bb3-f048-5855232ceca3"
      },
      "execution_count": null,
      "outputs": [
        {
          "output_type": "display_data",
          "data": {
            "text/plain": [
              "<Figure size 720x720 with 2 Axes>"
            ],
            "image/png": "[encoded data removed]"
          },
          "metadata": {}
        }
      ]
    },
    {
      "cell_type": "markdown",
      "source": [
        "Se nota que hay más hogares donde residen niños sin internet que hogares donde residen abuelos, y se nota una proporción similar en ambos casos."
      ],
      "metadata": {
        "id": "C-vO5qks1khf"
      }
    },
    {
      "cell_type": "markdown",
      "source": [
        "##Modelo de predicción de satisfacción de los abuelos"
      ],
      "metadata": {
        "id": "UPd0dOg7R3Uz"
      }
    },
    {
      "cell_type": "markdown",
      "source": [
        "Objetivo: Predecir el nivel de satisfacción con la vida de los abuelos.\n",
        "\n"
      ],
      "metadata": {
        "id": "QL9cABWwSpbS"
      }
    },
    {
      "cell_type": "markdown",
      "metadata": {
        "id": "vTAvQhLAMO5g"
      },
      "source": [
        "###Ingeniería de características para los abuelos"
      ]
    },
    {
      "cell_type": "code",
      "execution_count": null,
      "metadata": {
        "id": "Zqxn7c_4ESsS"
      },
      "outputs": [],
      "source": [
        "def get_kids(df, directory, seq_p):\n",
        "  \"\"\"\n",
        "    Gets kids' amount of a home\n",
        "    Arguments:\n",
        "        df: a pandas dataframe\n",
        "        directory: an integer\n",
        "        seq_p: an integer\n",
        "    Returns:\n",
        "        The kids' amount of a home\n",
        "    \"\"\"\n",
        "\n",
        "  new_df = df[(df['DIRECTORIO'] == directory) & (df['SECUENCIA_P'] == seq_p) \n",
        "            & (df['P6040'] <= 12)]\n",
        "  return len(new_df)"
      ]
    },
    {
      "cell_type": "code",
      "execution_count": null,
      "metadata": {
        "id": "XH8V9wVxET6l"
      },
      "outputs": [],
      "source": [
        "def get_teenagers(df, directory, seq_p):\n",
        "  \"\"\"\n",
        "    Gets teenagers' amount of a home\n",
        "    Arguments:\n",
        "        df: a pandas dataframe\n",
        "        directory: an integer\n",
        "        seq_p: an integer\n",
        "    Returns:\n",
        "        The teenagers' amount of a home\n",
        "    \"\"\"\n",
        "  new_df = df[(df['DIRECTORIO'] == directory) & (df['SECUENCIA_P'] == seq_p) \n",
        "          & (df['P6040'] > 12) & (df['P6040'] <= 17)]\n",
        "  return len(new_df)"
      ]
    },
    {
      "cell_type": "code",
      "execution_count": null,
      "metadata": {
        "id": "adpce2eqEXQK"
      },
      "outputs": [],
      "source": [
        "def get_sons(df, directory, seq_p):\n",
        "  \"\"\"\n",
        "    Gets head of the family's sons' amount of a home\n",
        "    Arguments:\n",
        "        df: a pandas dataframe\n",
        "        directory: an integer\n",
        "        seq_p: an integer\n",
        "    Returns:\n",
        "        The head of the family's sons' amount of a home\n",
        "    \"\"\"\n",
        "  new_df = df[(df['DIRECTORIO'] == directory) & (df['SECUENCIA_P'] == seq_p) \n",
        "          & (df['P6051'] == 3)]\n",
        "  return len(new_df)"
      ]
    },
    {
      "cell_type": "code",
      "execution_count": null,
      "metadata": {
        "id": "H7gPtBXGEYpH"
      },
      "outputs": [],
      "source": [
        "def get_partners(df, directory, seq_p):\n",
        "  \"\"\"\n",
        "    Gets head of the family's partners' amount of a home\n",
        "    Arguments:\n",
        "        df: a pandas dataframe\n",
        "        directory: an integer\n",
        "        seq_p: an integer\n",
        "    Returns:\n",
        "        The head of the family's partners' amount of a home\n",
        "    \"\"\"\n",
        "  new_df = df[(df['DIRECTORIO'] == directory) & (df['SECUENCIA_P'] == seq_p) \n",
        "          & (df['P6051'] == 2)]\n",
        "  return len(new_df)"
      ]
    },
    {
      "cell_type": "code",
      "source": [
        "#Create the predictive variables: kids_amount, teenagers_amount, sons_amount,\n",
        "#has_partner  \n",
        "grandparents_df['kids_amount'] = grandparents_df.apply (lambda row: \n",
        "                                 get_kids(home_composition_df, row['DIRECTORY'], \n",
        "                                        row['SEQ_P']), axis=1)\n",
        "grandparents_df['teenagers_amount'] = grandparents_df.apply (lambda row: \n",
        "                                      get_teenagers(home_composition_df, \n",
        "                                        row['DIRECTORY'], row['SEQ_P']), axis=1)\n",
        "grandparents_df['sons_amount'] = grandparents_df.apply (lambda row: \n",
        "                                      get_sons(home_composition_df, \n",
        "                                        row['DIRECTORY'], row['SEQ_P']), axis=1)\n",
        "grandparents_df['has_partner'] = grandparents_df.apply (lambda row: \n",
        "                                      get_partners(home_composition_df, \n",
        "                                        row['DIRECTORY'], row['SEQ_P']), axis=1)"
      ],
      "metadata": {
        "id": "uth10-VhHzWP"
      },
      "execution_count": null,
      "outputs": []
    },
    {
      "cell_type": "code",
      "execution_count": null,
      "metadata": {
        "id": "CFiEVxZglZ8-"
      },
      "outputs": [],
      "source": [
        "#Merge the information from home_composition_df & grandparents_df to have an\n",
        "#unified dataframe with the information for the grandparents\n",
        "grandparents_info_df = pd.merge(home_composition_df, grandparents_df,\n",
        "                   how = 'inner',\n",
        "                   left_on = ['DIRECTORIO', 'SECUENCIA_P', 'SECUENCIA_ENCUESTA'],\n",
        "                   right_on = ['DIRECTORY', 'SEQ_P', 'SEQ_SURVEY'])"
      ]
    },
    {
      "cell_type": "code",
      "execution_count": null,
      "metadata": {
        "id": "vo34V4YArnTY"
      },
      "outputs": [],
      "source": [
        "#Change the variables' types for the variables that will be analyzed\n",
        "grandparents_info_df[['P1895','P1896','P1897','P1898','P1899','P3175','P1901',\n",
        "                      'P1903','P1904','P1905','P1927']] = (\n",
        "                      grandparents_info_df[['P1895','P1896','P1897','P1898',\n",
        "                      'P1899','P3175','P1901','P1903','P1904','P1905','P1927'\n",
        "                      ]].astype(np.int64,errors='ignore'))"
      ]
    },
    {
      "cell_type": "code",
      "execution_count": null,
      "metadata": {
        "id": "fJaSCUHa02UM"
      },
      "outputs": [],
      "source": [
        "#Create a new dataframe to add a new predictive variable in the model\n",
        "inhabitants_amount_df = home_services_df[['DIRECTORIO', 'SECUENCIA_ENCUESTA', \n",
        "                                          'CANT_PERSONAS_HOGAR']]"
      ]
    },
    {
      "cell_type": "code",
      "execution_count": null,
      "metadata": {
        "id": "F1WtXjlr3Tta"
      },
      "outputs": [],
      "source": [
        "#Merge the information from inhabitants_amount_df & home_life_conditions_df\n",
        "#to have an unified dataframe with the information from a home\n",
        "home_conditions_df = pd.merge(inhabitants_amount_df, \n",
        "                   home_life_conditions_df[['DIRECTORIO','SECUENCIA_ENCUESTA',\n",
        "                                            'P9030','P9040','P9090']],\n",
        "                   how='inner', left_on=['DIRECTORIO','SECUENCIA_ENCUESTA'],\n",
        "                   right_on=['DIRECTORIO','SECUENCIA_ENCUESTA'])"
      ]
    },
    {
      "cell_type": "code",
      "execution_count": null,
      "metadata": {
        "id": "ndHJZSql32Te"
      },
      "outputs": [],
      "source": [
        "#Merge the information from home_conditions_df & grandparents_info_df to have an\n",
        "#unified dataframe with all the information for the grandparents\n",
        "grandpas_info_df = pd.merge(home_conditions_df, grandparents_info_df,\n",
        "                   how='inner',left_on=['DIRECTORIO','SECUENCIA_ENCUESTA'],\n",
        "                   right_on=['DIRECTORIO','SECUENCIA_P'])"
      ]
    },
    {
      "cell_type": "code",
      "execution_count": null,
      "metadata": {
        "id": "DcDFMyLr5FLj"
      },
      "outputs": [],
      "source": [
        "#Erase the irrelevant variables from the grandpas_info_df\n",
        "granparents_dataset = grandpas_info_df.drop(columns=['DIRECTORIO', 'SECUENCIA_P',\n",
        "                        'SECUENCIA_ENCUESTA_x', 'SECUENCIA_ENCUESTA_y','ORDEN', \n",
        "                        'DIRECTORY','SEQ_P', 'SEQ_SURVEY', 'RELATIONSHIP', \n",
        "                        'FEX_C'])\n"
      ]
    },
    {
      "cell_type": "code",
      "source": [
        "#Erase the variables that are not integers from the granparents_dataset\n",
        "granparents_dataset = granparents_dataset.select_dtypes(\"int\")"
      ],
      "metadata": {
        "id": "fisZADdgwdJZ"
      },
      "execution_count": null,
      "outputs": []
    },
    {
      "cell_type": "code",
      "execution_count": null,
      "metadata": {
        "id": "pjw59Fh40W7u"
      },
      "outputs": [],
      "source": [
        "#Rename the predictive variables that will be used in the model\n",
        "granparents_dataset.rename(columns = {'P6020':'sex','P6040':'age',\n",
        "                           'P1927':'step_in_life','P3175':'free_time_satisfaction',\n",
        "                           'P1897':'health_satisfaction','P1901':'happiness_yesterday',\n",
        "                           'P1905':'life_worthiness','P1899':'job_satisfaction',\n",
        "                           'P1898':'safety_satisfaction','P1903':'worried_level',\n",
        "                           'P1904':'sadness_level','P9030':'home_life_conditions',\n",
        "                           'P9040':'childhouse_home','P9090':'home_incomes',\n",
        "                           'P1895':'life_satisfaction'},\n",
        "                           inplace = True)"
      ]
    },
    {
      "cell_type": "code",
      "execution_count": null,
      "metadata": {
        "id": "JN5NmSdRDDQM"
      },
      "outputs": [],
      "source": [
        "#Create a grandparents dataset containing only the predictive variables and the\n",
        "#variable that will be predicted\n",
        "granparents_dataset = granparents_dataset[['step_in_life',\n",
        "                        'free_time_satisfaction','health_satisfaction',\n",
        "                        'happiness_yesterday','life_worthiness','job_satisfaction',\n",
        "                        'safety_satisfaction','worried_level','sadness_level',\n",
        "                        'home_life_conditions','childhouse_home','home_incomes',\n",
        "                        'kids_amount','teenagers_amount','sons_amount',\n",
        "                        'has_partner','life_satisfaction']]"
      ]
    },
    {
      "cell_type": "code",
      "execution_count": null,
      "metadata": {
        "colab": {
          "base_uri": "https://localhost:8080/"
        },
        "id": "8Igf9JQIy3c7",
        "outputId": "243db7b8-0452-4052-d72f-279dd2418443"
      },
      "outputs": [
        {
          "output_type": "execute_result",
          "data": {
            "text/plain": [
              "life_satisfaction         1.000000\n",
              "health_satisfaction       0.533219\n",
              "happiness_yesterday       0.524353\n",
              "free_time_satisfaction    0.524037\n",
              "step_in_life              0.523029\n",
              "life_worthiness           0.472261\n",
              "job_satisfaction          0.452287\n",
              "safety_satisfaction       0.449100\n",
              "worried_level            -0.348456\n",
              "sadness_level            -0.345065\n",
              "Name: life_satisfaction, dtype: float64"
            ]
          },
          "metadata": {},
          "execution_count": 32
        }
      ],
      "source": [
        "#Show the correlation between the first 9 variables and the life_satisfaction \n",
        "#variable that will be predicted\n",
        "granpd_corr_matrix = granparents_dataset.corr()\n",
        "granpd_corr_matrix.sort_values(by=['life_satisfaction'], key = lambda col: abs(col),\n",
        "                        ascending = False)['life_satisfaction'][0:10]"
      ]
    },
    {
      "cell_type": "code",
      "execution_count": null,
      "metadata": {
        "colab": {
          "base_uri": "https://localhost:8080/",
          "height": 789
        },
        "id": "eWOryPE3zKLt",
        "outputId": "a9a2f199-7fdf-4905-f81e-ce0aada882d0"
      },
      "outputs": [
        {
          "output_type": "display_data",
          "data": {
            "text/plain": [
              "<Figure size 2160x1080 with 2 Axes>"
            ],
            "image/png": "[encoded data removed]"
          },
          "metadata": {}
        }
      ],
      "source": [
        "#Graph the correlation matrix of the variables in the grandparents dataset\n",
        "sb.heatmap(granpd_corr_matrix, annot=True)\n",
        "plt.rcParams['figure.figsize'] = (30, 15)\n",
        "plt.style.use('ggplot')\n",
        "plt.show()"
      ]
    },
    {
      "cell_type": "markdown",
      "metadata": {
        "id": "jw4nvzmjMnyr"
      },
      "source": [
        "###Modelo de Regresión Lineal para predecir la satisfacción de los abuelos"
      ]
    },
    {
      "cell_type": "code",
      "execution_count": null,
      "metadata": {
        "id": "mj5Z_GewA1bX"
      },
      "outputs": [],
      "source": [
        "#Separate the predictive variables (x_grandpas) and \n",
        "#the predicted variable (y_grandpas)\n",
        "x_grandpas = granparents_dataset.drop(['life_satisfaction'],axis=1)\n",
        "y_grandpas = granparents_dataset['life_satisfaction']"
      ]
    },
    {
      "cell_type": "code",
      "source": [
        "#Split the data in training (80%) and validation (20%) sets\n",
        "#By using the random state repeatability and reproducibility are guaranteed \n",
        "X_train, X_test, y_train, y_test = train_test_split(x_grandpas, y_grandpas, \n",
        "                                   test_size = 0.2, random_state = 9)\n",
        "print (X_train.shape, y_train.shape)\n",
        "print (X_test.shape, y_test.shape)"
      ],
      "metadata": {
        "colab": {
          "base_uri": "https://localhost:8080/"
        },
        "id": "fi5Z3i6fNo6B",
        "outputId": "7f0ad5f0-c9eb-4684-cb2c-a6ff5ebe78d9"
      },
      "execution_count": null,
      "outputs": [
        {
          "output_type": "stream",
          "name": "stdout",
          "text": [
            "(13664, 16) (13664,)\n",
            "(3417, 16) (3417,)\n"
          ]
        }
      ]
    },
    {
      "cell_type": "code",
      "source": [
        "#Create a regression model from the sklearn library\n",
        "regr_model = linear_model.LinearRegression()"
      ],
      "metadata": {
        "id": "TOEUqM69Nrzd"
      },
      "execution_count": null,
      "outputs": []
    },
    {
      "cell_type": "code",
      "source": [
        "#Train the model with the training set\n",
        "regr_model.fit(X_train, y_train)"
      ],
      "metadata": {
        "colab": {
          "base_uri": "https://localhost:8080/"
        },
        "id": "-C8voaJuNvbl",
        "outputId": "c652aa1c-258a-4182-d0c8-9601efcdf670"
      },
      "execution_count": null,
      "outputs": [
        {
          "output_type": "execute_result",
          "data": {
            "text/plain": [
              "LinearRegression()"
            ]
          },
          "metadata": {},
          "execution_count": 37
        }
      ]
    },
    {
      "cell_type": "code",
      "source": [
        "#Predict the life_satisfaction\n",
        "y_predicted = regr_model.predict(X_test)"
      ],
      "metadata": {
        "id": "yx7iWiE6NyZD"
      },
      "execution_count": null,
      "outputs": []
    },
    {
      "cell_type": "code",
      "source": [
        "#Show the linear regression model's metrics\n",
        "print(\"Mean squared error: %.2f\" % mean_squared_error(y_test, y_predicted))\n",
        "print(\"Root Mean squared error: %.2f\" % sqrt(mean_squared_error(y_test, y_predicted)))\n",
        "print(\"R squared error: %.2f\" % r2_score(y_test, y_predicted))"
      ],
      "metadata": {
        "colab": {
          "base_uri": "https://localhost:8080/"
        },
        "id": "-dM3CAyX4VWt",
        "outputId": "82ce5c46-305c-4a69-e588-b15ba3765b04"
      },
      "execution_count": null,
      "outputs": [
        {
          "output_type": "stream",
          "name": "stdout",
          "text": [
            "Mean squared error: 1.70\n",
            "Root Mean squared error: 1.30\n",
            "R squared error: 0.48\n"
          ]
        }
      ]
    },
    {
      "cell_type": "code",
      "source": [
        "#Export the grandparents model to use in production\n",
        "joblib_grandparents_file = \"granparents_model.pkl\"\n",
        "joblib.dump(regr_model, joblib_grandparents_file)"
      ],
      "metadata": {
        "colab": {
          "base_uri": "https://localhost:8080/"
        },
        "id": "C783Jlqa4aFk",
        "outputId": "54e2738b-fc2f-4a7a-a757-42376e0aa9c3"
      },
      "execution_count": null,
      "outputs": [
        {
          "output_type": "execute_result",
          "data": {
            "text/plain": [
              "['granparents_model.pkl']"
            ]
          },
          "metadata": {},
          "execution_count": 40
        }
      ]
    },
    {
      "cell_type": "code",
      "source": [
        "#Calculate the accuracy and predictions of the exported model\n",
        "#to verify the grandparents model was exported correctly\n",
        "joblib_granparents_model = joblib.load(joblib_grandparents_file)\n",
        "score = joblib_granparents_model.score(X_test, y_test)\n",
        "print(\"Test score: {0:.2f} %\".format(100 * score))"
      ],
      "metadata": {
        "colab": {
          "base_uri": "https://localhost:8080/"
        },
        "id": "WGkkozQP4UfA",
        "outputId": "837dd055-a29e-4438-df0e-075ef6ded31a"
      },
      "execution_count": null,
      "outputs": [
        {
          "output_type": "stream",
          "name": "stdout",
          "text": [
            "Test score: 47.98 %\n"
          ]
        }
      ]
    },
    {
      "cell_type": "markdown",
      "source": [
        "##Modelo de predicción de satisfacción de los niños"
      ],
      "metadata": {
        "id": "Fpb0o6P2SDiX"
      }
    },
    {
      "cell_type": "markdown",
      "source": [
        "Objetivo: Predecir el nivel de satisfacción con la vida de los niños.\n"
      ],
      "metadata": {
        "id": "NH5o08d3TLZf"
      }
    },
    {
      "cell_type": "markdown",
      "source": [
        "###Ingeniería de características para los niños"
      ],
      "metadata": {
        "id": "PF1AcJiHSZt_"
      }
    },
    {
      "cell_type": "code",
      "source": [
        "#Create the predictive variable: goods_quantity\n",
        "kids_info_df['goods_quantity'] = kids_info_df.loc[:, ['P1077S8','P1077S10',\n",
        "                                'P1077S13','P1077S14','P1077S15A1','P1077S16A1',\n",
        "                                'P1077S17','P1077S21A1','P1077S22A1',\n",
        "                                'P1077S23A1']].sum(axis=1)"
      ],
      "metadata": {
        "id": "_NZO6sOkgs_i"
      },
      "execution_count": null,
      "outputs": []
    },
    {
      "cell_type": "code",
      "source": [
        "#Create the predictive variable: parents_number\n",
        "kids_info_df['parents_number'] = kids_info_df.apply(lambda row: 2\n",
        "if (row['P6081'] == 1 and row['P6083'] == 1) else \n",
        "(1 if ((row['P6081'] == 1 and row['P6083'] != 1) or \n",
        "       (row['P6081'] != 1 and row['P6083'] == 1)) else 0), axis=1)"
      ],
      "metadata": {
        "id": "jdJQlg-Dg5xE"
      },
      "execution_count": null,
      "outputs": []
    },
    {
      "cell_type": "code",
      "source": [
        "#Select the variables that are integers from the kids_info_df\n",
        "kids_dataset = kids_info_df.select_dtypes(\"int\")"
      ],
      "metadata": {
        "id": "JMour-UUhwua"
      },
      "execution_count": null,
      "outputs": []
    },
    {
      "cell_type": "code",
      "source": [
        "#Drop the irrelevant variables from the kids_dataset\n",
        "kids_dataset.drop(columns=['DIRECTORIO','SECUENCIA_ENCUESTA_x','SECUENCIA_P',\n",
        "                          'ORDEN','P6016','P1894','P6020','P6034','P6040',\n",
        "                          'P6051','P756','P6081','P6083','P1896','P1899',\n",
        "                          'SECUENCIA_ENCUESTA_y','P1077S8','P1077S10',\n",
        "                          'P1077S13','P1077S14','P1077S15A1','P1077S16A1',\n",
        "                          'P1077S17','P1077S21A1','P1077S22A1','P1077S23A1',\n",
        "                          'P6080'],inplace=True)"
      ],
      "metadata": {
        "id": "JLhNRtbSkkRJ",
        "colab": {
          "base_uri": "https://localhost:8080/"
        },
        "outputId": "5ad62f64-696c-4db9-b34d-630d8c005347"
      },
      "execution_count": null,
      "outputs": [
        {
          "output_type": "stream",
          "name": "stderr",
          "text": [
            "/usr/local/lib/python3.7/dist-packages/pandas/core/frame.py:4913: SettingWithCopyWarning: \n",
            "A value is trying to be set on a copy of a slice from a DataFrame\n",
            "\n",
            "See the caveats in the documentation: https://pandas.pydata.org/pandas-docs/stable/user_guide/indexing.html#returning-a-view-versus-a-copy\n",
            "  errors=errors,\n"
          ]
        }
      ]
    },
    {
      "cell_type": "code",
      "source": [
        "#Rename the predictive variables that will be used in the model for the kids\n",
        "kids_dataset.rename(columns={'P1927':'step_in_life','P3175':'free_time_satisfaction',\n",
        "                           'P1897':'health_satisfaction','P1901':'happiness_yesterday',\n",
        "                           'P1905':'life_worthiness','P1895':'life_satisfaction',\n",
        "                           'P1898':'safety_satisfaction','P1903':'worried_level',\n",
        "                           'P1904':'sadness_level','P9030':'home_life_conditions',\n",
        "                           'P9040':'childhouse_home','P1075':'has_internet',\n",
        "                           'P5230':'poverty','P9050':'live_after_5_years'},\n",
        "                  inplace=True)"
      ],
      "metadata": {
        "colab": {
          "base_uri": "https://localhost:8080/"
        },
        "id": "0EPfaP6JYNZU",
        "outputId": "fbbdaae3-7dd7-4326-e774-85cdcfe9912a"
      },
      "execution_count": null,
      "outputs": [
        {
          "output_type": "stream",
          "name": "stderr",
          "text": [
            "/usr/local/lib/python3.7/dist-packages/pandas/core/frame.py:5047: SettingWithCopyWarning: \n",
            "A value is trying to be set on a copy of a slice from a DataFrame\n",
            "\n",
            "See the caveats in the documentation: https://pandas.pydata.org/pandas-docs/stable/user_guide/indexing.html#returning-a-view-versus-a-copy\n",
            "  errors=errors,\n"
          ]
        }
      ]
    },
    {
      "cell_type": "code",
      "source": [
        "#Show the correlation between the variables and the life_satisfaction variable \n",
        "#which will be predicted\n",
        "kids_corr_matrix = kids_dataset.corr()\n",
        "kids_corr_matrix.columns\n",
        "kids_corr_matrix.sort_values(by=['life_satisfaction'], key=lambda col: abs(col), \n",
        "                             ascending=False)['life_satisfaction']"
      ],
      "metadata": {
        "colab": {
          "base_uri": "https://localhost:8080/"
        },
        "id": "c1b7LwfihO84",
        "outputId": "4d4e8374-927d-4a51-ff04-61b3d147f53b"
      },
      "execution_count": null,
      "outputs": [
        {
          "output_type": "execute_result",
          "data": {
            "text/plain": [
              "life_satisfaction         1.000000\n",
              "health_satisfaction       0.594574\n",
              "free_time_satisfaction    0.571616\n",
              "happiness_yesterday       0.562534\n",
              "life_worthiness           0.550937\n",
              "step_in_life              0.514279\n",
              "safety_satisfaction       0.487348\n",
              "worried_level            -0.353735\n",
              "sadness_level            -0.324929\n",
              "home_life_conditions     -0.155124\n",
              "childhouse_home          -0.140467\n",
              "poverty                   0.132269\n",
              "live_after_5_years       -0.131371\n",
              "has_internet             -0.117224\n",
              "parents_number            0.038521\n",
              "goods_quantity            0.026038\n",
              "Name: life_satisfaction, dtype: float64"
            ]
          },
          "metadata": {},
          "execution_count": 47
        }
      ]
    },
    {
      "cell_type": "code",
      "source": [
        "#Graph the correlation matrix of the variables in the kids dataset\n",
        "sb.heatmap(kids_corr_matrix, annot=True)\n",
        "plt.rcParams['figure.figsize'] = (30, 15)\n",
        "plt.style.use('ggplot')\n",
        "plt.show()"
      ],
      "metadata": {
        "colab": {
          "base_uri": "https://localhost:8080/",
          "height": 789
        },
        "id": "_dDdJtj5PqQv",
        "outputId": "f5b64fc9-a6da-4c59-9478-cc318654642f"
      },
      "execution_count": null,
      "outputs": [
        {
          "output_type": "display_data",
          "data": {
            "text/plain": [
              "<Figure size 2160x1080 with 2 Axes>"
            ],
            "image/png": "[encoded data removed]"
          },
          "metadata": {}
        }
      ]
    },
    {
      "cell_type": "markdown",
      "source": [
        "###Modelo de Regresión Lineal para predecir la satisfacción de los niños"
      ],
      "metadata": {
        "id": "g2vHsKhFSfOG"
      }
    },
    {
      "cell_type": "code",
      "source": [
        "#Separate the predictive variables (x_grandpas) and \n",
        "#the predicted variable (y_grandpas)\n",
        "x_kids = kids_dataset.drop(['life_satisfaction'],axis=1)\n",
        "y_kids = kids_dataset['life_satisfaction']"
      ],
      "metadata": {
        "id": "1b_252_yjQaJ"
      },
      "execution_count": null,
      "outputs": []
    },
    {
      "cell_type": "code",
      "source": [
        "#Split the data in training (80%) and validation (20%) sets\n",
        "#By using the random state repeatability and reproducibility are guaranteed \n",
        "X_trainkids, X_testkids, y_trainkids, y_testkids = train_test_split(x_kids, \n",
        "                                      y_kids, test_size=0.2,random_state=9)\n",
        "\n",
        "print (X_trainkids.shape, y_trainkids.shape)\n",
        "print (X_testkids.shape, y_testkids.shape)"
      ],
      "metadata": {
        "colab": {
          "base_uri": "https://localhost:8080/"
        },
        "id": "4Lew2vdjkN-Y",
        "outputId": "bbe857e4-7fab-424b-de6a-62f9da3ba0f6"
      },
      "execution_count": null,
      "outputs": [
        {
          "output_type": "stream",
          "name": "stdout",
          "text": [
            "(14900, 15) (14900,)\n",
            "(3726, 15) (3726,)\n"
          ]
        }
      ]
    },
    {
      "cell_type": "code",
      "source": [
        "#Create a regression model from the sklearn library\n",
        "regr_modelkids =  linear_model.LinearRegression()"
      ],
      "metadata": {
        "id": "ktGXo-Csk8Fz"
      },
      "execution_count": null,
      "outputs": []
    },
    {
      "cell_type": "code",
      "source": [
        "#Train the model with the training set\n",
        "regr_modelkids.fit(X_trainkids, y_trainkids)"
      ],
      "metadata": {
        "colab": {
          "base_uri": "https://localhost:8080/"
        },
        "id": "VkSBPAAYksJc",
        "outputId": "91e97010-6634-4c2c-cc12-4cee8b96ccd3"
      },
      "execution_count": null,
      "outputs": [
        {
          "output_type": "execute_result",
          "data": {
            "text/plain": [
              "LinearRegression()"
            ]
          },
          "metadata": {},
          "execution_count": 52
        }
      ]
    },
    {
      "cell_type": "code",
      "source": [
        "#Predict the life_satisfaction\n",
        "y_predictkids = regr_modelkids.predict(X_testkids)"
      ],
      "metadata": {
        "id": "e1Pj5ZfTk-Nm"
      },
      "execution_count": null,
      "outputs": []
    },
    {
      "cell_type": "code",
      "source": [
        "#Show the linear regression model's metrics\n",
        "print(\"Mean squared error: %.2f\" % mean_squared_error(y_testkids, y_predictkids))\n",
        "print(\"Root Mean squared error: %.2f\" % sqrt(mean_squared_error(y_testkids, y_predictkids)))\n",
        "print(\"R squared error: %.2f\" % r2_score(y_testkids, y_predictkids))"
      ],
      "metadata": {
        "colab": {
          "base_uri": "https://localhost:8080/"
        },
        "id": "TpCdpdMfkuLW",
        "outputId": "de597533-3cd8-4fbf-da9a-18de5ddc0c06"
      },
      "execution_count": null,
      "outputs": [
        {
          "output_type": "stream",
          "name": "stdout",
          "text": [
            "Mean squared error: 1.22\n",
            "Root Mean squared error: 1.11\n",
            "R squared error: 0.54\n"
          ]
        }
      ]
    },
    {
      "cell_type": "code",
      "source": [
        "#Export the kids model to use in production\n",
        "joblib_kids_file = \"kids_model.pkl\"\n",
        "joblib.dump(regr_modelkids, joblib_kids_file)"
      ],
      "metadata": {
        "colab": {
          "base_uri": "https://localhost:8080/"
        },
        "id": "-9HFt7WIKY3Y",
        "outputId": "e4f6e305-f695-4fea-92c2-e5b4fb0629fd"
      },
      "execution_count": null,
      "outputs": [
        {
          "output_type": "execute_result",
          "data": {
            "text/plain": [
              "['kids_model.pkl']"
            ]
          },
          "metadata": {},
          "execution_count": 55
        }
      ]
    },
    {
      "cell_type": "code",
      "source": [
        "#Calculate the accuracy and predictions of the exported model\n",
        "#to verify the kids model was exported correctly\n",
        "joblib_kids_model = joblib.load(joblib_kids_file)\n",
        "score = joblib_kids_model.score(X_testkids, y_testkids)\n",
        "print(\"Test score: {0:.2f} %\".format(100 * score))"
      ],
      "metadata": {
        "colab": {
          "base_uri": "https://localhost:8080/"
        },
        "id": "4iFTpJpXK4CE",
        "outputId": "d1c0d2c2-cc1f-4759-cbe1-2287f37960c6"
      },
      "execution_count": null,
      "outputs": [
        {
          "output_type": "stream",
          "name": "stdout",
          "text": [
            "Test score: 53.91 %\n"
          ]
        }
      ]
    }
  ],
  "metadata": {
    "colab": {
      "name": "Trabajo_TAE_1.ipynb",
      "provenance": [],
      "collapsed_sections": [
        "d4Dr8PdYIcZz",
        "36Z1CS5PMYeb",
        "2RtFKdreYD_Y",
        "_NhSVYTiZiVO",
        "wv2OmdNcaTJk",
        "UPd0dOg7R3Uz",
        "vTAvQhLAMO5g",
        "Fpb0o6P2SDiX"
      ],
      "toc_visible": true,
      "include_colab_link": true
    },
    "kernelspec": {
      "display_name": "Python 3",
      "name": "python3"
    },
    "language_info": {
      "name": "python"
    }
  },
  "nbformat": 4,
  "nbformat_minor": 0
}